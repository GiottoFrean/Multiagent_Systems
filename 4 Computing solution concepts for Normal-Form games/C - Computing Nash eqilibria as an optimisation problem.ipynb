{
 "cells": [
  {
   "cell_type": "code",
   "execution_count": 2,
   "id": "1ff41510-e852-43ad-b22c-99153bbe6a91",
   "metadata": {},
   "outputs": [],
   "source": [
    "import numpy as np\n",
    "import matplotlib.pyplot as plt\n",
    "from scipy.optimize import linprog\n",
    "from mpl_toolkits.mplot3d.art3d import Line3DCollection\n",
    "from scipy.spatial import HalfspaceIntersection, ConvexHull\n",
    "from itertools import combinations\n",
    "import networkx as nx"
   ]
  },
  {
   "cell_type": "markdown",
   "id": "7bc0942f-08f6-408f-af93-4990cb4720dd",
   "metadata": {},
   "source": [
    "## 4.3 Computing Nash equilibria of n-player, general-sum games\n",
    "\n",
    "Given the exponential difficulty of calculating equilibria even for just 2 player games, it is unsuprising that optimisation is a tempting alternative. It also makes the problem significantly simpler! Say that the strategy of both players is encoded as a vector $s$. Then for any $s$ define $c_i^j(s)$ as the benefit that player $i$ gets from deviating to strategy $j$. I.e., $c_i^j(s)=u_i(a_i^j,s_{-i})-u_i(s)$. Remember at equilibrium no player wants to deviate from their strategy. We can then set a lower bound of 0 on this (as we don't want someone's huge positive to outweight another's negative), defining $d_i^j=\\text{max}(c_i^j(s),0)$. Then we just need to optimise the sum of this function over all $i$ and $j$, subject to all weights being probabilities (non-negative & sum to 1). So, e.g.,\n",
    "\n",
    "$$\\text{minimise} \\quad f(s) = \\sum_i \\sum_j (d_i^j(s))^2$$\n",
    "\n",
    "Doing the square here makes the function differentiable everywhere ($|x|$ is not differentiable at 0).\n",
    "\n",
    "Note that the equilibria will be at points where this function is 0.\n",
    "\n",
    "To see an example, let's consider the matching-pennies problem:\n",
    "\n",
    "$\n",
    "\\begin{array}{c|cc}\n",
    "\\text{} & \\text{H} & \\text{T} \\\\\n",
    "\\hline\n",
    "\\text{H} & 1,-1 & -1,1 \\\\\n",
    "\\text{T} & -1,1 & 1,-1 \\\\\n",
    "\\end{array}\n",
    "$\n",
    "\n",
    "This gives:\n",
    "\n",
    "$\n",
    "\\begin{align*}\n",
    "c_1^H &= [s_2^H-s_2^T] - [s_1^Hs_2^H-s_1^Ts_2^H-s_1^Hs_2^T+s_1^Ts_2^T] \\\\\n",
    "c_1^T &= [s_2^T-s_2^H] - [s_1^Hs_2^H-s_1^Ts_2^H-s_1^Hs_2^T+s_1^Ts_2^T] \\\\\n",
    "c_2^H &= [s_1^T-s_1^H] - [-s_1^Hs_2^H+s_1^Ts_2^H+s_1^Hs_2^T-s_1^Ts_2^T] \\\\\n",
    "c_2^T &= [s_1^H-s_1^T] - [-s_1^Hs_2^H+s_1^Ts_2^H+s_1^Hs_2^T-s_1^Ts_2^T] \\\\\n",
    "\\end{align*}\n",
    "$\n",
    "\n",
    "Which can be simplified to:\n",
    "\n",
    "$\n",
    "\\begin{align*}\n",
    "c_1^H &= s_2^H[1 - s_1^H + s_1^T] - s_2^T[1 - s_1^H + s_1^T] \\\\\n",
    "c_1^T &= s_2^H[-1 - s_1^H + s_1^T] - s_2^T[-1 - s_1^H + s_1^T] \\\\\n",
    "c_2^H &= s_1^H[-1 + s_2^H - s_2^T] - s_1^T[-1 + s_2^H - s_2^T] \\\\\n",
    "c_2^T &= s_1^H[1 + s_2^H - s_2^T] - s_1^T[1 + s_2^H - s_2^T] \\\\\n",
    "\\end{align*}\n",
    "$\n",
    "\n",
    "Which in turn is:\n",
    "\n",
    "$\n",
    "\\begin{align*}\n",
    "c_1^H &= (s_2^H - s_2^T)[1 - s_1^H + s_1^T] \\\\\n",
    "c_1^T &= (s_2^H - s_2^T)[-1 - s_1^H + s_1^T] \\\\\n",
    "c_2^H &= (s_1^H - s_1^T)[-1 + s_2^H - s_2^T] \\\\\n",
    "c_2^T &= (s_1^H - s_1^T)[1 + s_2^H - s_2^T] \\\\\n",
    "\\end{align*}\n",
    "$\n",
    "\n",
    "And if (as we have done before) we just replace $s_1^T$ with $1-s_1^H$ and so on...\n",
    "\n",
    "$\n",
    "\\begin{align*}\n",
    "c_1^H &= (2s_2^H - 1)(2 - 2s_1^H) \\\\\n",
    "c_1^T &= (2s_2^H - 1)(-2s_1^H) \\\\\n",
    "c_2^H &= (2s_1^H - 1)(-2 + 2s_2^H) \\\\\n",
    "c_2^T &= (2s_1^H - 1)(2s_2^H) \\\\\n",
    "\\end{align*}\n",
    "$\n",
    "\n",
    "And finally we can plot the objective function for $s_1^H$ and $s_2^H$:"
   ]
  },
  {
   "cell_type": "code",
   "execution_count": 3,
   "id": "daeccde9-c900-4f9c-9579-084d2414bb59",
   "metadata": {},
   "outputs": [
    {
     "data": {
      "image/png": "[encoded data removed]",
      "text/plain": [
       "<Figure size 500x500 with 1 Axes>"
      ]
     },
     "metadata": {},
     "output_type": "display_data"
    }
   ],
   "source": [
    "def objective_function(s1H,s2H):\n",
    "    c1H = (2*s2H-1)*(2-2*s1H)\n",
    "    c1T = (2*s2H-1)*(-2*s1H)\n",
    "    c2H = (2*s1H-1)*(-2+2*s2H)\n",
    "    c2T = (2*s1H-1)*(2*s2H)\n",
    "    return c1H*(c1H>0)+c1T*(c1T>0)+c2H*(c2H>0)+c2T*(c2T>0)\n",
    "\n",
    "objective_at_grid = np.zeros((100,100))\n",
    "for row,s1H in enumerate(np.linspace(0,1,100)):\n",
    "    for col,s2H in enumerate(np.linspace(0,1,100)):\n",
    "        objective_at_grid[row,col]=objective_function(s1H,s2H)\n",
    "\n",
    "\n",
    "plt.figure(figsize=(5,5))\n",
    "plt.imshow(objective_at_grid, extent=[0, 1, 0, 1], origin='lower', cmap='RdBu', aspect='equal')\n",
    "plt.title(\"objective function\",fontsize=12)\n",
    "plt.xlabel(\"s1H\",fontsize=10)\n",
    "plt.ylabel(\"s2H\",fontsize=10)\n",
    "plt.tight_layout()\n",
    "plt.show()"
   ]
  },
  {
   "cell_type": "markdown",
   "id": "27e351f5-3209-49e1-bcd7-9fa83868ee03",
   "metadata": {},
   "source": [
    "The only equilibrium is unsuprisingly in the center, which has a value of 0.\n",
    "\n",
    "Constrained optimisation is sometimes more difficult that unconstrained optimisation, so to change the former to the latter we can integrate the probability restrictions into this formula too:\n",
    "\n",
    "$$\\text{minimise} \\quad f(s) = \\sum_i \\sum_j (d_i^j(s))^2 + \\sum_i (1 - \\sum_j s_i^j)^2 + \\sum_i \\sum_j (\\text{min}(s_j^i,0))^2$$\n",
    "\n",
    "The downside of these optimisation approaches is that there might be local minima which are not 0 and hence not equilibria.\n",
    "\n",
    "Other approaches are to use a coarse-to-fine method or the SEM algorithm.\n",
    "\n",
    "## 4.4 Computing maxmin and minmax strategies for two-player games\n",
    "\n",
    "Computing the maxmin and minmax strategies is thanksfully pretty simple. Recall that a minmax strategy for player 1 is an action that maximises the return to player 1, given that player 2 has a strategy which minimises the maximum return to player 1. Recall from before:\n",
    "\n",
    "$$\n",
    "\\begin{align*}\n",
    "\\text{minimise} \\quad & v_1 \\\\\n",
    "\\text{subject to} \\quad & \\sum_{k} U_1(A_1^j,A_2^k)s_2^k \\leq v_1 \\quad \\forall A_1^j \\\\\n",
    "\\text{} \\quad & \\sum_{k} s_2^k=1 \\\\\n",
    "\\text{} \\quad & s_2^k\\geq 0 \\\\\n",
    "\\end{align*}\n",
    "$$\n",
    "\n",
    "Essentially we learn a strategy for player 2 that minimises the best return for player 1. (After doing this player 1's strategy is trivial). Notice that the above doesn't depend on $U_2$. So, the minmax strategy of player 1 won't change no matter how we alter the utility for player 2. \n",
    "\n",
    "So, to get the minmax strategy of a general-sum game we can define a zero-sum game in which player 1 has the same utility $U_1$, but player 2's utility is replaced with $-U_1$. This new game is zero-sum, and because changing the utility of player 2 has no impact on the minmax strategy we can pull any minmax strategy found in the zero-sum version of the game through to the original general-sum version.\n",
    "\n",
    "Consider this problem:\n",
    "\n",
    "$\n",
    "\\begin{array}{c|cc}\n",
    "\\text{} & \\text{X} & \\text{Y} & \\text{Z} \\\\\n",
    "\\hline\n",
    "\\text{X} & 4,2 & 2,1 & 0,0\\\\\n",
    "\\text{Y} & 1,0 & 3,3 & 1,0\\\\\n",
    "\\end{array}\n",
    "$\n",
    "\n",
    "The game is clearly not zero-sum. There are at least 2 equilibria, at XX and YY. \n",
    "\n",
    "If player 2 minimises the maximum that player 1 can get they will play the pure strategy $Z$. Given that, player 1's minmax strategy will be $Y$.\n",
    "\n",
    "If player 1 minimises the maximum that player 2 can get they will play $X$ with probability $\\frac{3}{4}$:"
   ]
  },
  {
   "cell_type": "code",
   "execution_count": 4,
   "id": "d13b2ddd-fc8d-46c0-89a0-2ab82c8d3d2f",
   "metadata": {},
   "outputs": [
    {
     "data": {
      "image/png": "[encoded data removed]",
      "text/plain": [
       "<Figure size 300x200 with 1 Axes>"
      ]
     },
     "metadata": {},
     "output_type": "display_data"
    }
   ],
   "source": [
    "s1 = np.linspace(0,1,100)\n",
    "r2X = 2*s1+0*(1-s1)\n",
    "r2Y = 1*s1+3*(1-s1)\n",
    "r2Z = 0*s1+0*(1-s1)\n",
    "plt.figure(figsize=(3,2))\n",
    "plt.plot(s1,np.maximum(r2X,r2Y,r2Z))\n",
    "plt.show()"
   ]
  },
  {
   "cell_type": "markdown",
   "id": "ddabeff2-2226-4359-b624-7d163443bbd9",
   "metadata": {},
   "source": [
    "This means the minmax strategy for player 2 is to go either $X$ or $Y$, it doesn't matter. "
   ]
  }
 ],
 "metadata": {
  "kernelspec": {
   "display_name": "Python 3 (ipykernel)",
   "language": "python",
   "name": "python3"
  },
  "language_info": {
   "codemirror_mode": {
    "name": "ipython",
    "version": 3
   },
   "file_extension": ".py",
   "mimetype": "text/x-python",
   "name": "python",
   "nbconvert_exporter": "python",
   "pygments_lexer": "ipython3",
   "version": "3.12.7"
  }
 },
 "nbformat": 4,
 "nbformat_minor": 5
}
