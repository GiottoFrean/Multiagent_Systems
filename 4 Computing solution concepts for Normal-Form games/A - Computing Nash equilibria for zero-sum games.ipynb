{
 "cells": [
  {
   "cell_type": "code",
   "execution_count": 2,
   "id": "e2156cef",
   "metadata": {},
   "outputs": [],
   "source": [
    "import numpy as np\n",
    "import matplotlib.pyplot as plt\n",
    "from scipy.optimize import linprog"
   ]
  },
  {
   "cell_type": "markdown",
   "id": "dcbe8279",
   "metadata": {},
   "source": [
    "# 4. Computing Solution Concepts of Normal-form games\n",
    "\n",
    "This chapter deals with the algorithms to compute things like equilibria, domination, etc. It starts with the easiest one, which is the zero-sum game:\n",
    "\n",
    "## 4.1 Computing Nash equilibria of two-player, zero-sum games\n",
    "\n",
    "In the previous chapter the idea of a minmax and maxmin solution was introduced. In a zero sum 2-player game it was noted that at equilibrium each player receives their minmax / maxmin value. We can use this to calculate the equilibrium by linear programming. \n",
    "\n",
    "Minmax means that the agent makes their best decision, given the other player will then minimise their return. Say I am player 1 and my best action is $A_1^j$. Then player 2 minimises my return by finding a mixed strategy $s_2$, to minimise:\n",
    "\n",
    "$$\\sum_{k} u_1(A_1^j,A_2^k)s_2^k$$\n",
    "\n",
    "Note: Here $k$ is the index of each action player 2 could take.\n",
    "\n",
    "This can be re-written in linear-programming style as:\n",
    "\n",
    "$$\n",
    "\\begin{align*}\n",
    "\\text{minimise} \\quad & U_1 \\\\\n",
    "\\text{subject to} \\quad & \\sum_{k} u_1(A_1^j,A_2^k)s_2^k \\leq U_1 \\\\\n",
    "\\text{} \\quad & \\sum_{k} s_2^k=1 \\\\\n",
    "\\text{} \\quad & s_2^k\\geq 0 \\\\\n",
    "\\end{align*}\n",
    "$$\n",
    "\n",
    "(Why? Well, $\\min f(x)$ is the same as $\\min y$ subject to $f(x)\\leq y$.\n",
    "\n",
    "Of course, we don't actually know which action $j$ is the best for player 1, so we need to check every one:\n",
    "\n",
    "$$\n",
    "\\begin{align*}\n",
    "\\text{minimise} \\quad & U_1 \\\\\n",
    "\\text{subject to} \\quad & \\sum_{k} u_1(A_1^j,A_2^k)s_2^k \\leq U_1 \\quad \\forall A_1^j \\\\\n",
    "\\text{} \\quad & \\sum_{k} s_2^k=1 \\\\\n",
    "\\text{} \\quad & s_2^k\\geq 0 \\\\\n",
    "\\end{align*}\n",
    "$$\n",
    "\n",
    "Consider the Matching Pennies problem again:\n",
    "\n",
    "$\n",
    "\\begin{array}{c|cc}\n",
    "\\text{} & \\text{H} & \\text{T} \\\\\n",
    "\\hline\n",
    "\\text{H} & 1,-1 & -1,1 \\\\\n",
    "\\text{T} & -1,1 & 1,-1 \\\\\n",
    "\\end{array}\n",
    "$\n",
    "\n",
    "Written using the above strategy for player 1 this gives (here $s_2^1$ being the chance of player 2 going heads, $s_2^2$ their chance of tails):\n",
    "\n",
    "$$\n",
    "\\begin{align*}\n",
    "\\text{minimise} \\quad & U_1 \\\\\n",
    "\\text{subject to} \\quad & s_2^1 - s_2^2 \\leq U_1 \\quad \\text{(player 1 goes heads)} \\\\\n",
    "\\text{} \\quad & -s_2^1+s_2^2 \\leq U_1 \\quad \\text{(player 1 goes tails)} \\\\\n",
    "\\text{} \\quad & s_2^1 + s_2^2=1 \\\\\n",
    "\\text{} \\quad & s_2 \\geq 0 \\\\\n",
    "\\end{align*}\n",
    "$$\n",
    "\n",
    "The answer here is that $s_2^1=s_2^2=\\frac{1}{2}$. \n",
    "\n",
    "Here is an example for the more complicated game paper/scissors/rock. Note that scipy does $\\min c\\cdot x$, subject to $A\\cdot x \\geq b$, so the signs are flipped here in the function call."
   ]
  },
  {
   "cell_type": "code",
   "execution_count": 32,
   "id": "751ce442",
   "metadata": {},
   "outputs": [
    {
     "name": "stdout",
     "output_type": "stream",
     "text": [
      "Player 2 strategy at equilibrium: [0.33 0.33 0.33]\n",
      "Player 1 utility: 0.0\n"
     ]
    }
   ],
   "source": [
    "c = np.array([0,0,0,1])\n",
    "A_ub = np.array([\n",
    "    [0,-1,1,-1], # PAPER. If player 2 now goes paper player 1 gets 0, -1 if scissors, 1 if rock.\n",
    "    [1,0,-1,-1], # SCISSORS. Note, as above the -1 at the end is because a+b+c<d is turned into a+b+c-d<0\n",
    "    [-1,1,0,-1], # ROCK.\n",
    "])\n",
    "b_ub = np.array([0,0,0])\n",
    "A_eq = np.array([[1,1,1,0]])\n",
    "b_eq = np.array([1])\n",
    "res = linprog(c, A_ub=-A_ub, b_ub=-b_ub, A_eq=A_eq, b_eq=b_eq, )\n",
    "print(\"Player 2 strategy at equilibrium:\",res[\"x\"].round(2)[:3])\n",
    "print(\"Player 1 utility:\",res[\"x\"].round(2)[-1])"
   ]
  },
  {
   "cell_type": "markdown",
   "id": "9722dd72",
   "metadata": {},
   "source": [
    "There we go. Unsuprisingly, the utility is 0 and the best option is to be random. \n",
    "\n",
    "We can also work out the strategy for player 1. One option is to do the above again in reverse. Another is to do maxmin instead, which corresponds to the dual problem:\n",
    "\n",
    "$$\n",
    "\\begin{align*}\n",
    "\\text{maximise} \\quad & U_1 \\\\\n",
    "\\text{subject to} \\quad & \\sum_{k} u_1(A_1^j,A_2^k)s_1^j \\leq U_1 \\quad \\forall A_2^k \\\\\n",
    "\\text{} \\quad & \\sum_{j} s_1^j=1 \\\\\n",
    "\\text{} \\quad & s_1^j\\geq 0 \\\\\n",
    "\\end{align*}\n",
    "$$\n",
    "\n",
    "As a final note it can be useful to reformulate the equations from before (or the ones right above) by adding slack variables and turning the inequalities into equalities:\n",
    "\n",
    "$$\n",
    "\\begin{align*}\n",
    "\\text{minimise} \\quad & U_1 \\\\\n",
    "\\text{subject to} \\quad & \\sum_{k} u_1(A_1^j,A_2^k)s_2^k + r_1^j = U_1 \\quad \\forall A_1^j \\\\\n",
    "\\text{} \\quad & \\sum_{k} s_2^k=1 \\\\\n",
    "\\text{} \\quad & s_2^k\\geq 0 \\\\\n",
    "\\text{} \\quad & r_1^j\\geq 0 \\\\\n",
    "\\end{align*}\n",
    "$$\n"
   ]
  }
 ],
 "metadata": {
  "kernelspec": {
   "display_name": "Python 3",
   "language": "python",
   "name": "python3"
  },
  "language_info": {
   "codemirror_mode": {
    "name": "ipython",
    "version": 3
   },
   "file_extension": ".py",
   "mimetype": "text/x-python",
   "name": "python",
   "nbconvert_exporter": "python",
   "pygments_lexer": "ipython3",
   "version": "3.9.4"
  }
 },
 "nbformat": 4,
 "nbformat_minor": 5
}
