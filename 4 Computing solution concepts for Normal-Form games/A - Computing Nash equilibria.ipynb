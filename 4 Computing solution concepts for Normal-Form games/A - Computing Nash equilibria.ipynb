{
 "cells": [
  {
   "cell_type": "code",
   "execution_count": 1,
   "id": "e2156cef",
   "metadata": {},
   "outputs": [],
   "source": [
    "import numpy as np\n",
    "import matplotlib.pyplot as plt\n",
    "from scipy.optimize import linprog"
   ]
  },
  {
   "cell_type": "markdown",
   "id": "dcbe8279",
   "metadata": {},
   "source": [
    "# 4. Computing Solution Concepts of Normal-form games\n",
    "\n",
    "This chapter deals with the algorithms to compute things like equilibria, domination, etc. It starts with the easiest one, which is the zero-sum game:\n",
    "\n",
    "## 4.1 Computing Nash equilibria of two-player, zero-sum games\n",
    "\n",
    "In the previous chapter the idea of a minmax and maxmin solution was introduced. In a zero sum 2-player game it was noted that at equilibrium each player receives their minmax / maxmin value. We can use this to calculate the equilibrium by linear programming. \n",
    "\n",
    "Minmax means that the agent makes their best decision, given the other player will then minimise their return. Say I am player 1 and my best action is $A_1^j$. Then player 2 minimises my return by finding a mixed strategy $s_2$, to minimise:\n",
    "\n",
    "$$\\sum_{k} u_1(A_1^j,A_2^k)s_2^k$$\n",
    "\n",
    "Note: Here $k$ is the index of each action player 2 could take.\n",
    "\n",
    "This can be re-written in linear-programming style as:\n",
    "\n",
    "$$\n",
    "\\begin{align*}\n",
    "\\text{minimise} \\quad & U_1 \\\\\n",
    "\\text{subject to} \\quad & \\sum_{k} u_1(A_1^j,A_2^k)s_2^k \\leq U_1 \\\\\n",
    "\\text{} \\quad & \\sum_{k} s_2^k=1 \\\\\n",
    "\\text{} \\quad & s_2^k\\geq 0 \\\\\n",
    "\\end{align*}\n",
    "$$\n",
    "\n",
    "(Why? Well, $\\min f(x)$ is the same as $\\min y$ subject to $f(x)\\leq y$.\n",
    "\n",
    "Of course, we don't actually know which action $j$ is the best for player 1, so we need to check every one:\n",
    "\n",
    "$$\n",
    "\\begin{align*}\n",
    "\\text{minimise} \\quad & U_1 \\\\\n",
    "\\text{subject to} \\quad & \\sum_{k} u_1(A_1^j,A_2^k)s_2^k \\leq U_1 \\quad \\forall A_1^j \\\\\n",
    "\\text{} \\quad & \\sum_{k} s_2^k=1 \\\\\n",
    "\\text{} \\quad & s_2^k\\geq 0 \\\\\n",
    "\\end{align*}\n",
    "$$\n",
    "\n",
    "Consider the Matching Pennies problem again:\n",
    "\n",
    "$\n",
    "\\begin{array}{c|cc}\n",
    "\\text{} & \\text{H} & \\text{T} \\\\\n",
    "\\hline\n",
    "\\text{H} & 1,-1 & -1,1 \\\\\n",
    "\\text{T} & -1,1 & 1,-1 \\\\\n",
    "\\end{array}\n",
    "$\n",
    "\n",
    "Written using the above strategy for player 1 this gives (here $s_2^1$ being the chance of player 2 going heads, $s_2^2$ their chance of tails):\n",
    "\n",
    "$$\n",
    "\\begin{align*}\n",
    "\\text{minimise} \\quad & U_1 \\\\\n",
    "\\text{subject to} \\quad & s_2^1 - s_2^2 \\leq U_1 \\quad \\text{(player 1 goes heads)} \\\\\n",
    "\\text{} \\quad & -s_2^1+s_2^2 \\leq U_1 \\quad \\text{(player 1 goes tails)} \\\\\n",
    "\\text{} \\quad & s_2^1 + s_2^2=1 \\\\\n",
    "\\text{} \\quad & s_2 \\geq 0 \\\\\n",
    "\\end{align*}\n",
    "$$\n",
    "\n",
    "The answer here is that $s_2^1=s_2^2=\\frac{1}{2}$. \n",
    "\n",
    "Here is an example for the more complicated game paper/scissors/rock. Note that scipy does $\\min c\\cdot x$, subject to $A\\cdot x \\geq b$, so the signs are flipped here in the function call."
   ]
  },
  {
   "cell_type": "code",
   "execution_count": 2,
   "id": "751ce442",
   "metadata": {},
   "outputs": [
    {
     "name": "stdout",
     "output_type": "stream",
     "text": [
      "Player 2 strategy at equilibrium: [0.33 0.33 0.33]\n",
      "Player 1 utility: 0.0\n"
     ]
    }
   ],
   "source": [
    "c = np.array([0,0,0,1])\n",
    "A_ub = np.array([\n",
    "    [0,-1,1,-1], # PAPER. If player 2 now goes paper player 1 gets 0, -1 if scissors, 1 if rock.\n",
    "    [1,0,-1,-1], # SCISSORS. Note, as above the -1 at the end is because a+b+c<d is turned into a+b+c-d<0\n",
    "    [-1,1,0,-1], # ROCK.\n",
    "])\n",
    "b_ub = np.array([0,0,0])\n",
    "A_eq = np.array([[1,1,1,0]])\n",
    "b_eq = np.array([1])\n",
    "res = linprog(c, A_ub=-A_ub, b_ub=-b_ub, A_eq=A_eq, b_eq=b_eq, )\n",
    "print(\"Player 2 strategy at equilibrium:\",res[\"x\"].round(2)[:3])\n",
    "print(\"Player 1 utility:\",res[\"x\"].round(2)[-1])"
   ]
  },
  {
   "cell_type": "markdown",
   "id": "f3f37738",
   "metadata": {},
   "source": [
    "There we go. Unsuprisingly, the utility is 0 and the best option is to be random. \n",
    "\n",
    "We can also work out the strategy for player 1. One option is to do the above again in reverse. Another is to do maxmin instead, which corresponds to the dual problem:\n",
    "\n",
    "$$\n",
    "\\begin{align*}\n",
    "\\text{maximise} \\quad & U_1 \\\\\n",
    "\\text{subject to} \\quad & \\sum_{k} u_1(A_1^j,A_2^k)s_1^j \\leq U_1 \\quad \\forall A_2^k \\\\\n",
    "\\text{} \\quad & \\sum_{j} s_1^j=1 \\\\\n",
    "\\text{} \\quad & s_1^j\\geq 0 \\\\\n",
    "\\end{align*}\n",
    "$$\n",
    "\n",
    "As a final note it can be useful to reformulate the equations from before (or the ones right above) by adding slack variables and turning the inequalities into equalities:\n",
    "\n",
    "$$\n",
    "\\begin{align*}\n",
    "\\text{minimise} \\quad & U_1 \\\\\n",
    "\\text{subject to} \\quad & \\sum_{k} u_1(A_1^j,A_2^k)s_2^k + r_1^j = U_1 \\quad \\forall A_1^j \\\\\n",
    "\\text{} \\quad & \\sum_{k} s_2^k=1 \\\\\n",
    "\\text{} \\quad & s_2^k\\geq 0 \\\\\n",
    "\\text{} \\quad & r_1^j\\geq 0 \\\\\n",
    "\\end{align*}\n",
    "$$\n",
    "\n",
    "### 4.1.1 Note on 2-action games\n",
    "\n",
    "While the next section will show it is complicated to calculate equilibria in general two-player games, it is thankfully somewhat simple if there is only one action each.\n",
    "\n",
    "Consider the table:\n",
    "\n",
    "$\n",
    "\\begin{array}{c|cc}\n",
    "\\text{} & \\text{A} & \\text{B} \\\\\n",
    "\\hline\n",
    "\\text{A} & x_{11},y_{11} & x_{12},y_{12} \\\\\n",
    "\\text{B} & x_{21},y_{21} & x_{22},y_{22} \\\\\n",
    "\\end{array}\n",
    "$\n",
    "\n",
    "Say the probability of $A$ is $s_1$ and $s_2$ respectively. Then the benefit player 1 expects is:\n",
    "\n",
    "$$x_{11}s_1s_2+x_{12}s_1(1-s_2)+x_{21}(1-s_1)s_2+x_{22}(1-s_1)(1-s_2)$$\n",
    "\n",
    "Which can be expanded as:\n",
    "\n",
    "$$x_{11}s_1s_2+x_{12}s_1-x_{12}s_1s_2+x_{21}s_2-x_{21}s_1s_2+x_{22}-x_{22}s_2-x_{22}s_1+x_{22}s_1s_2$$\n",
    "\n",
    "Collecting the $s_1$ term:\n",
    "\n",
    "$$s_1(x_{11}s_2+x_{12}-x_{12}s_2-x_{21}s_2-x_{22}+x_{22}s_2)+x_{21}s_2+x_{22}-x_{22}s_2$$\n",
    "\n",
    "In order for player 1 to be indifferent between their actions we need to set the contents of the bracket to 0:\n",
    "\n",
    "$$x_{11}s_2+x_{12}-x_{12}s_2-x_{21}s_2-x_{22}+x_{22}s_2=0$$\n",
    "\n",
    "Solving for $s_2$:\n",
    "\n",
    "$$s_2=\\frac{x_{22}-x_{12}}{x_{11}-x_{12}-x_{21}+x_{22}}$$\n",
    "\n",
    "We can see this in an example game, e.g., the Battle of the Sexes:\n",
    "\n",
    "$\n",
    "\\begin{array}{c|cc}\n",
    "\\text{} & \\text{A} & \\text{B} \\\\\n",
    "\\hline\n",
    "\\text{A} & 2,1 & 0,0 \\\\\n",
    "\\text{B} & 0,0 & 1,2 \\\\\n",
    "\\end{array}\n",
    "$\n",
    "\n",
    "Here the value for player 2 is $\\frac{1-0}{2-0-0+1}=\\frac{1}{3}$, as expected.\n",
    "\n",
    "For player 1 the formula is exactly the same, but with $y$ instead of $x$."
   ]
  },
  {
   "cell_type": "markdown",
   "id": "9722dd72",
   "metadata": {},
   "source": [
    "## 4.2 Computing Nash equilibria in general two-player games\n",
    "\n",
    "### 4.2.1 Complexity\n",
    "\n",
    "Unfortunately, computing Nash equilibria is a computationally challenging problem. It can be shown that it belongs to a class called PPAD, which it is believed grows exponentially.\n",
    "\n",
    "### 4.2.2 An LCP formulation and the Lemke-Howson algorithm\n",
    "\n",
    "#### The LCP formulation\n",
    "\n",
    "Although the problem of finding a Nash equilibrium in a general two player game can't be encoded as a linear program, it can be encoded as a linear complementarity problem (LCP). We do this as follows. We note that at equilibrium if agent 2 has strategy $s_2$ then any actions with a non-zero probability in $s_1$ are equally good, and therefore must give $U_1$, the optimal value:\n",
    "\n",
    "$$\n",
    "\\begin{align*}\n",
    "\\text{} \\quad & \\sum_{k} u_1(A_1^j,A_2^k)s_2^k = U_1 \\quad \\forall A_1^j|s_1^j>0 \\\\\n",
    "\\text{} \\quad & \\sum_{j} u_2(A_1^j,A_2^k)s_1^j = U_2 \\quad \\forall A_2^k|s_2^k>0 \\\\\n",
    "\\text{} \\quad & \\sum_{k} s_2^k=1 \\\\\n",
    "\\text{} \\quad & \\sum_{j} s_1^j=1 \\\\\n",
    "\\text{} \\quad & s_2^k\\geq 0 \\\\\n",
    "\\text{} \\quad & s_1^j\\geq 0 \\\\\n",
    "\\end{align*}\n",
    "$$\n",
    "\n",
    "In order to convert this to a simpler linear format we introduce slack variables, similarly to above:\n",
    "\n",
    "\n",
    "$$\n",
    "\\begin{align*}\n",
    "\\text{} \\quad & \\sum_{k} u_1(A_1^j,A_2^k)s_2^k + r_1^j = U_1 \\quad \\forall A_1^j \\\\\n",
    "\\text{} \\quad & \\sum_{j} u_2(A_1^j,A_2^k)s_1^j + r_2^k = U_2 \\quad \\forall A_2^k \\\\\n",
    "\\text{} \\quad & \\sum_{k} s_2^k=1 \\\\\n",
    "\\text{} \\quad & \\sum_{j} s_1^j=1 \\\\\n",
    "\\text{} \\quad & s_2^k\\geq 0 \\\\\n",
    "\\text{} \\quad & s_1^j\\geq 0 \\\\\n",
    "\\text{} \\quad & r_1^j\\geq 0 \\\\\n",
    "\\text{} \\quad & r_2^k\\geq 0 \\\\\n",
    "\\text{} \\quad & r_1^j\\cdot s_1^j = 0 \\\\\n",
    "\\text{} \\quad & r_2^k\\cdot s_2^k = 0 \\\\\n",
    "\\end{align*}\n",
    "$$\n",
    "\n",
    "The last two equations state that if an action is included in the strategy, then the strategy at equilibrium must give the maximum utility. In other words, if an action $A_1^j$ is NOT in the solution, then when you take that action there is some gap $r_1^j$ to close in order to get to $U_1$. In an equilibrium strategy the agent is indifferent between the actions they do, so for any action in the solution it must give the optimal utilty.\n",
    "\n",
    "We can see this using the prisoners dilemma equilibrium as an example.\n",
    "\n",
    "$\n",
    "\\begin{array}{c|cc}\n",
    "\\text{} & \\text{C} & \\text{D} \\\\\n",
    "\\hline\n",
    "\\text{C} & 8,8 & 0,10 \\\\\n",
    "\\text{D} & 10,0 & 5,5 \\\\\n",
    "\\end{array}\n",
    "$\n",
    "\n",
    "If we expand the first two equations we get:\n",
    "\n",
    "$$\n",
    "\\begin{align*}\n",
    "\\text{} \\quad & u_1(C,C)s_2^C + u_1(C,D)s_2^D + r_1^C = U_1 \\\\\n",
    "\\text{} \\quad & u_1(D,C)s_2^C + u_1(D,D)s_2^D + r_1^D = U_1 \\\\\n",
    "\\text{} \\quad & u_2(C,C)s_1^C + u_2(D,C)s_1^D + r_2^C = U_2 \\\\\n",
    "\\text{} \\quad & u_2(C,D)s_1^C + u_2(D,D)s_1^D + r_2^D = U_2 \\\\\n",
    "\\end{align*}\n",
    "$$\n",
    "\n",
    "And plugging in the values at equilibrium ($s_1^C=s_2^C=0$):\n",
    "\n",
    "$$\n",
    "\\begin{align*}\n",
    "\\text{} \\quad & 8\\times 0 + 0\\times 1 + r_1^C = 5 \\\\\n",
    "\\text{} \\quad & 10\\times 0 + 5\\times 1 + r_1^D = 5 \\\\\n",
    "\\text{} \\quad & 8\\times 0 + 0\\times 1 + r_2^C = 5 \\\\\n",
    "\\text{} \\quad & 10\\times 0 + 5\\times 1 + r_2^D = 5 \\\\\n",
    "\\end{align*}\n",
    "$$\n",
    "We can see that $r_1^C$ and $r_2^C$ are 5, as this is the amount you expect to lose by going with $C$, and the others are 0. \n",
    "\n",
    "#### The Lemke-Howson algorithm\n",
    "\n",
    "We know that at equilibrium the actions of agent 1 must either have 0 probability in $s_1$, or have a positive probability and be at least the equal-best reponse to $s_2$ (if an action was not the best response to $s_2$, it would be better to set it's probability to 0 and use the other). The same is true of strategy $s_2$. This section of the equations above also make this clear:\n",
    "\n",
    "$$\n",
    "\\begin{align*}\n",
    "\\text{} \\quad & \\sum_{k} u_1(A_1^j,A_2^k)s_2^k + r_1^j = U_1 \\quad \\forall A_1^j \\\\\n",
    "\\text{} \\quad & \\sum_{j} u_2(A_1^j,A_2^k)s_1^j + r_2^k = U_2 \\quad \\forall A_2^k \\\\\n",
    "\\text{} \\quad & r_1^j\\cdot s_1^j = 0 \\\\\n",
    "\\text{} \\quad & r_2^k\\cdot s_2^k = 0 \\\\\n",
    "\\end{align*}\n",
    "$$\n",
    "\n",
    "In fact, a nice way to rewrite the above might be as:\n",
    "\n",
    "$$\n",
    "\\begin{align*}\n",
    "\\text{} \\quad & \\sum_{k} u_1(A_1^j,A_2^k)s_2^k = U_1 \\quad \\forall A_1^j|s_1^j>0 \\\\\n",
    "\\text{} \\quad & \\sum_{j} u_2(A_1^j,A_2^k)s_1^j = U_2 \\quad \\forall A_2^k|s_2^k>0 \\\\\n",
    "\\end{align*}\n",
    "$$\n",
    "\n",
    "**Key insight:**\n",
    "\n",
    "If we label equilibrium solution $s_1$ with all actions of agent 1 which have 0 probability and then label $s_2$ with all the actions of agent 1 which are the best response to $s_2$, then at equilibrium the union of the two should be the total list of all agent 1's actions. The same is true of agent 2, but in reverse. Therefore...\n",
    "\n",
    "Let's define for a solution $s_i$ a labelling function $L$ which labels $s_i$ with all the 0-probability actions of agent $i$, as well as the best response actions of the other agents.\n",
    "\n",
    "At equilibrium we will have: $L(s_1)\\cup L(s_2) = A_1\\cup A_2$\n",
    "\n",
    "Consider this two-player problem:\n",
    "\n",
    "$\n",
    "\\begin{array}{c|cc}\n",
    "\\text{} & \\text{X} & \\text{Y} \\\\\n",
    "\\hline\n",
    "\\text{X} & 3,1 & 1,0 \\\\\n",
    "\\text{Y} & 0,0 & 2,2 \\\\\n",
    "\\end{array}\n",
    "$\n",
    "\n",
    "Applying the approach from earlier (4.1.1) we know that this game has an equilibrium at $s_1^X=\\frac{2}{3}$, and $s_2^X=\\frac{1}{4}$.\n",
    "\n",
    "The point $s_1=1$ can be labelled with $A_1^Y$. At the point $x_1^X=0$ it can be labelled with $A_1^X$. Everywhere else it is both.\n",
    "\n",
    "The return for player 2 of going $X$ is $1s_1^X$, and the return of going $Y$ is $2(1-s_1^X)$. Here is the plot of both actions:"
   ]
  },
  {
   "cell_type": "code",
   "execution_count": 23,
   "id": "d8b14c1f",
   "metadata": {},
   "outputs": [
    {
     "data": {
      "image/png": "[encoded data removed]",
      "text/plain": [
       "<Figure size 360x360 with 1 Axes>"
      ]
     },
     "metadata": {
      "needs_background": "light"
     },
     "output_type": "display_data"
    }
   ],
   "source": [
    "s1_X = np.linspace(0, 1, 100)\n",
    "return_X2_given_s1 = 1*s1_X\n",
    "return_Y2_given_s1 = 2*(1-s1_X)\n",
    "plt.figure(figsize=(5,5))\n",
    "plt.plot(s1_X,return_X2_given_s1,label=\"X\",color=\"red\")\n",
    "plt.plot(s1_X,return_Y2_given_s1,label=\"Y\",color=\"black\")\n",
    "plt.legend(fontsize=15)\n",
    "plt.xlabel('s1-X',fontsize=15)\n",
    "plt.ylabel('utility',fontsize=15)\n",
    "plt.tick_params(labelsize=15)\n",
    "plt.show()"
   ]
  },
  {
   "cell_type": "markdown",
   "id": "476f744b",
   "metadata": {},
   "source": [
    "It is easy to see that $X$ is a best response if $s_1^X>=\\frac{2}{3}$. Likewise $Y$ is a best response if $s_1^X<=\\frac{2}{3}$. We can then label the space of $s_1$ with these. So the final result is as follows:"
   ]
  },
  {
   "cell_type": "code",
   "execution_count": 29,
   "id": "3f55ee81",
   "metadata": {},
   "outputs": [
    {
     "data": {
      "image/png": "[encoded data removed]",
      "text/plain": [
       "<Figure size 360x360 with 1 Axes>"
      ]
     },
     "metadata": {
      "needs_background": "light"
     },
     "output_type": "display_data"
    }
   ],
   "source": [
    "plt.figure(figsize=(5,5))\n",
    "plt.scatter([0],[1],label=\"A1-X, A2-Y\",color=\"red\")\n",
    "plt.scatter([1],[0],label=\"A1-Y, A2-X\",color=\"black\")\n",
    "plt.plot(np.linspace(0,2/3,2),1-np.linspace(0,2/3,2),label=\"A2-Y\",color=\"red\")\n",
    "plt.plot(np.linspace(2/3,1,2),1-np.linspace(2/3,1,2),label=\"A2-X\",color=\"black\")\n",
    "plt.scatter([2/3],[1/3],label=\"A2-X,A2-Y\",color=\"orange\",zorder=10)\n",
    "plt.legend(fontsize=15)\n",
    "plt.xlabel('s1-X',fontsize=15)\n",
    "plt.ylabel('s1-Y',fontsize=15)\n",
    "plt.tick_params(labelsize=15)\n",
    "plt.tight_layout()\n",
    "plt.show()"
   ]
  },
  {
   "cell_type": "markdown",
   "id": "31f44a65",
   "metadata": {},
   "source": [
    "On the red line we have points where $Y$ is the best option for agent 2. The black line is where $X$ is the best option for 2. The red and black dots also include $X$ and $Y$ for player 1 respectively, as the probability is 0. Finally, the yellow dot includes both $X$ and $Y$ for player 2. \n",
    "\n",
    "As above we can also do the same graph as above for the benefit of both actions to $s_2$, given $s_1$:"
   ]
  },
  {
   "cell_type": "code",
   "execution_count": 24,
   "id": "a0b431fc",
   "metadata": {},
   "outputs": [
    {
     "data": {
      "image/png": "[encoded data removed]",
      "text/plain": [
       "<Figure size 360x360 with 1 Axes>"
      ]
     },
     "metadata": {
      "needs_background": "light"
     },
     "output_type": "display_data"
    }
   ],
   "source": [
    "s2_X = np.linspace(0, 1, 100)\n",
    "return_X1_given_s2 = 3*s2_X+1*(1-s2_X)\n",
    "return_Y1_given_s2 = 2*(1-s2_X)\n",
    "plt.figure(figsize=(5,5))\n",
    "plt.plot(s2_X,return_X1_given_s2,label=\"X\",color=\"red\")\n",
    "plt.plot(s2_X,return_Y1_given_s2,label=\"Y\",color=\"black\")\n",
    "plt.legend(fontsize=15)\n",
    "plt.xlabel('s2-X',fontsize=15)\n",
    "plt.ylabel('utility',fontsize=15)\n",
    "plt.tick_params(labelsize=15)\n",
    "plt.show()"
   ]
  },
  {
   "cell_type": "markdown",
   "id": "b69e0e3e",
   "metadata": {},
   "source": [
    "We see that $X$ is the best action if $s_2^X>\\frac{1}{4}$, otherwise $Y$. This gives us the label plot:"
   ]
  },
  {
   "cell_type": "code",
   "execution_count": 30,
   "id": "9bcf66cb",
   "metadata": {},
   "outputs": [
    {
     "data": {
      "image/png": "[encoded data removed]",
      "text/plain": [
       "<Figure size 360x360 with 1 Axes>"
      ]
     },
     "metadata": {
      "needs_background": "light"
     },
     "output_type": "display_data"
    }
   ],
   "source": [
    "plt.figure(figsize=(5,5))\n",
    "plt.scatter([0],[1],label=\"A2-X,A1-Y\",color=\"red\")\n",
    "plt.scatter([1],[0],label=\"A2-Y,A1-X\",color=\"black\")\n",
    "plt.plot(np.linspace(0,1/4,2),1-np.linspace(0,1/4,2),label=\"A1-Y\",color=\"red\")\n",
    "plt.plot(np.linspace(1/4,1,2),1-np.linspace(1/4,1,2),label=\"A1-X\",color=\"black\")\n",
    "plt.scatter([1/4],[3/4],label=\"A1-X, A1-Y\",color=\"orange\",zorder=10)\n",
    "plt.legend(fontsize=15)\n",
    "plt.xlabel('s2-X',fontsize=15)\n",
    "plt.ylabel('s2-Y',fontsize=15)\n",
    "plt.tick_params(labelsize=15)\n",
    "plt.tight_layout()\n",
    "plt.show()"
   ]
  },
  {
   "cell_type": "markdown",
   "id": "7e92408b",
   "metadata": {},
   "source": [
    "Finally, we can search for the combination of $s_1$ and $s_2$ which gives all labels:"
   ]
  },
  {
   "cell_type": "code",
   "execution_count": 36,
   "id": "30b2b284",
   "metadata": {},
   "outputs": [
    {
     "name": "stdout",
     "output_type": "stream",
     "text": [
      "s1: yellow dot s2: yellow dot is an equilibrium\n"
     ]
    }
   ],
   "source": [
    "s1_labels = {\n",
    "    \"red dot\":[\"A1-X\",\"A2-Y\"],\n",
    "    \"black dot\":[\"A1-Y\",\"A2-X\"],\n",
    "    \"red line\":[\"A2-Y\"],\n",
    "    \"black line\":[\"A2-X\"],\n",
    "    \"yellow dot\":[\"A2-X\",\"A2-Y\"]\n",
    "}\n",
    "s2_labels = {\n",
    "    \"red dot\":[\"A2-X\"],\n",
    "    \"black dot\":[\"A2-Y\"],\n",
    "    \"red line\":[\"A1-Y\"],\n",
    "    \"black line\":[\"A1-X\"],\n",
    "    \"yellow dot\":[\"A1-X\",\"A1-Y\"]\n",
    "}\n",
    "for lab1 in s1_labels.keys():\n",
    "    for lab2 in s2_labels.keys():\n",
    "        union = s1_labels[lab1]+s2_labels[lab2]\n",
    "        if(\"A1-X\" in union and \"A1-Y\" in union and \"A2-X\" in union and \"A2-Y\" in union):\n",
    "            print(\"s1:\",lab1,\"s2:\",lab2,\"is an equilibrium\")"
   ]
  },
  {
   "cell_type": "markdown",
   "id": "07daf1d6",
   "metadata": {},
   "source": [
    "In practice rather than calculating all values along a line, or calculating every possible combination of every option for $s_1$ and $s_2$, we will just start out at a basic solution for both players and then change them iteratively. This uses the knowledge that if we know the solution for one player, the other player's possible solutions are defined in a polyhedron. If we know $s_1$ then $s_2$ at best response satisfies the following:\n",
    "\n",
    "$$\n",
    "\\begin{align*}\n",
    "\\text{} \\quad & \\sum_{k} u_1(A_1^j,A_2^k)s_2^k = U_1 \\quad \\forall A_1^j|s_1^j>0 \\\\\n",
    "\\text{} \\quad & \\sum_{k} s_2^k=1 \\\\\n",
    "\\text{} \\quad & s_2^k\\geq 0 \\\\\n",
    "\\end{align*}\n",
    "$$\n",
    "\n",
    "For instance, if we have"
   ]
  },
  {
   "cell_type": "code",
   "execution_count": null,
   "id": "1851c6a2",
   "metadata": {},
   "outputs": [],
   "source": []
  }
 ],
 "metadata": {
  "kernelspec": {
   "display_name": "Python 3",
   "language": "python",
   "name": "python3"
  },
  "language_info": {
   "codemirror_mode": {
    "name": "ipython",
    "version": 3
   },
   "file_extension": ".py",
   "mimetype": "text/x-python",
   "name": "python",
   "nbconvert_exporter": "python",
   "pygments_lexer": "ipython3",
   "version": "3.9.4"
  }
 },
 "nbformat": 4,
 "nbformat_minor": 5
}
