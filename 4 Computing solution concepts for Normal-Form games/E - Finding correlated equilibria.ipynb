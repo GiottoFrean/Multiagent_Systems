{
 "cells": [
  {
   "cell_type": "code",
   "execution_count": 1,
   "id": "ea54ebe0-24f0-4cd3-bf7c-ca419b7c8b97",
   "metadata": {},
   "outputs": [],
   "source": [
    "import numpy as np\n",
    "import matplotlib.pyplot as plt\n",
    "from scipy.optimize import linprog\n",
    "from mpl_toolkits.mplot3d.art3d import Line3DCollection\n",
    "from scipy.spatial import HalfspaceIntersection, ConvexHull\n",
    "from itertools import combinations\n",
    "import networkx as nx"
   ]
  },
  {
   "cell_type": "markdown",
   "id": "fa6cfd74-bc19-4b96-9983-f610bd06e59e",
   "metadata": {},
   "source": [
    "## 4.6 Computing correlated equilibria\n",
    "\n",
    "Mixed strategies in a game correspond to a coin flip / dice roll for each player, but where the probabilities are chosen by the players. At equilibria both players are finding a distribution each that they don't want to deviate from. We assume that the join probability is just the product of the decisions of each agent. So in order to detemine the actions of each agent, we just sample that distribution. However, we can imagine alternatives where both players might be able to agree on a restriction to the joint space. For instance, in the battle of the sexes we have:\n",
    "\n",
    "$\n",
    "\\begin{array}{c|cc}\n",
    "\\text{} & \\text{A} & \\text{B} \\\\\n",
    "\\hline\n",
    "\\text{A} & 2,1 & 0,0 \\\\\n",
    "\\text{B} & 0,0 & 1,2 \\\\\n",
    "\\end{array}\n",
    "$\n",
    "\n",
    "It is obviously within both player's interest to avoid AB and BA.\n",
    "\n",
    "Imagine that we had a third party. We both flip our coins with out probabilities, but before doing anything we show the result to the third party, who can tell us if we have hit a spot in the joint distribution we don't want (e.g., HT or TH). Then we just reflip the coins. This enables a greater amount of cooperation!\n",
    "\n",
    "All we need to do is select joint probabilities such that no party wants to deviate IF all other parties aren't. This can be turned into a linear program, where we are trying to find the joint probabilities. For each possible joint state, we need that for each possible player the benefit of deviation is not greater than 0. For example, taking the above we have 4 joint states, and their utilities:\n",
    "\n",
    "$\n",
    "\\begin{array}{c|cc}\n",
    "\\text{} & \\text{AA} & \\text{AB} & \\text{BA} & \\text{BB} \\\\\n",
    "\\hline\n",
    "\\text{row player} & 2 & 0 & 0 & 1 \\\\\n",
    "\\text{column player} & 1 & 0 & 0 & 2 \\\\\n",
    "\\end{array}\n",
    "$\n",
    "\n",
    "We can then get the scores for deviation:\n",
    "\n",
    "$\n",
    "\\begin{array}{c|cc}\n",
    "\\text{} & \\text{AA} & \\text{AB} & \\text{BA} & \\text{BB} \\\\\n",
    "\\hline\n",
    "\\text{row player deviates to A} & 0 & 0 & 2 & -1 \\\\\n",
    "\\text{row player deviates to B} & -2 & 1 & 0 & 0 \\\\\n",
    "\\text{column player deviates to A} & 0 & 1 & 0 & -2 \\\\\n",
    "\\text{column player deviates to B} & -1 & 0 & 2 & 0 \\\\\n",
    "\\end{array}\n",
    "$\n",
    "\n",
    "We then just need to choose probabilities such that the result is always less than 0. E.g., $[\\frac{1}{2},0,0,\\frac{1}{2}]$. Under this solution no player wants to deviate."
   ]
  },
  {
   "cell_type": "code",
   "execution_count": 28,
   "id": "de1c9595-fe16-41c6-8bda-ed0369ec7c7e",
   "metadata": {},
   "outputs": [
    {
     "name": "stdout",
     "output_type": "stream",
     "text": [
      "[0. 0. 0. 1.]\n",
      "[0. 0. 0. 1.]\n",
      "[0. 0. 0. 1.]\n",
      "[0. 0. 0. 1.]\n",
      "[1. 0. 0. 0.]\n",
      "[0. 0. 0. 1.]\n",
      "[0.4 0.  0.2 0.4]\n",
      "[0.4 0.  0.2 0.4]\n",
      "[0.222 0.444 0.111 0.222]\n",
      "[0.25 0.5  0.   0.25]\n"
     ]
    }
   ],
   "source": [
    "def get_correlated_equilibrium(U1,U2):\n",
    "    rows,cols = U1.shape\n",
    "    deviation_scores = []\n",
    "    for row in range(rows):\n",
    "        for col in range(cols):\n",
    "            # now we know the joint action, and just have to work out the deviation options\n",
    "            deviation_scores_column = []\n",
    "            for row_deviation in range(rows):\n",
    "                deviation_scores_column.append(U1[row_deviation,col]-U1[row,col])\n",
    "            for col_deviation in range(cols):\n",
    "                deviation_scores_column.append(U2[row,col_deviation]-U2[row,col])\n",
    "            deviation_scores.append(deviation_scores_column)\n",
    "\n",
    "    A = np.array(deviation_scores).T\n",
    "    b = np.zeros(A.shape[0])\n",
    "    c = np.random.rand(A.shape[1]) # add some randomness to the objective (which doesn't matter) in order to get different samples\n",
    "    A_eq = np.ones((1, A.shape[1]))\n",
    "    b_eq = np.array([1])\n",
    "    res = linprog(c, A_ub=A, b_ub=b, A_eq=A_eq, b_eq=b_eq)\n",
    "    print(np.abs(res[\"x\"]).round(3))\n",
    "    return res[\"x\"]\n",
    "\n",
    "for i in range(10):\n",
    "    solution = get_correlated_equilibrium(np.array([[2,0],[0,1]]),np.array([[1,0],[0,2]]))"
   ]
  },
  {
   "cell_type": "markdown",
   "id": "524d2050-9e6c-46b8-b5a2-c4ee52b43486",
   "metadata": {},
   "source": [
    "This succeeds at finding a number of different correlated equilibria, though not necessarily the intuitive ones! Every nash equilibria is a correlated equilibria, and so it is not suprising that this finds some of them. Unfortunately, the quick computation of correlated equilibria does not extend to nash equilibria, as with nash equilibria the two agents calculate the probabilities seperately. Thus we cannot have a set of probabilities to fit, without a bunch of other conditions. For instance, the joint probability\n",
    "\n",
    "$\n",
    "\\begin{array}{c|cc}\n",
    "\\text{} & \\text{A} & \\text{B} \\\\\n",
    "\\hline\n",
    "\\text{A} & 1 & 0 \\\\\n",
    "\\text{B} & 0 & 1 \\\\\n",
    "\\end{array}\n",
    "$\n",
    "\n",
    "is impossible to achieve in the nash situation."
   ]
  }
 ],
 "metadata": {
  "kernelspec": {
   "display_name": "Python 3 (ipykernel)",
   "language": "python",
   "name": "python3"
  },
  "language_info": {
   "codemirror_mode": {
    "name": "ipython",
    "version": 3
   },
   "file_extension": ".py",
   "mimetype": "text/x-python",
   "name": "python",
   "nbconvert_exporter": "python",
   "pygments_lexer": "ipython3",
   "version": "3.12.7"
  }
 },
 "nbformat": 4,
 "nbformat_minor": 5
}
