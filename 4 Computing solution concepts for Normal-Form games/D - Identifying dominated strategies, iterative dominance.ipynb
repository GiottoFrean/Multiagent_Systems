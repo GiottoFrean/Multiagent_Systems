{
 "cells": [
  {
   "cell_type": "code",
   "execution_count": 21,
   "id": "ea54ebe0-24f0-4cd3-bf7c-ca419b7c8b97",
   "metadata": {},
   "outputs": [],
   "source": [
    "import numpy as np\n",
    "import matplotlib.pyplot as plt\n",
    "from scipy.optimize import linprog\n",
    "from mpl_toolkits.mplot3d.art3d import Line3DCollection\n",
    "from scipy.spatial import HalfspaceIntersection, ConvexHull\n",
    "from itertools import combinations\n",
    "import networkx as nx"
   ]
  },
  {
   "cell_type": "markdown",
   "id": "155889c4-03f6-4058-9d19-513018096ae2",
   "metadata": {},
   "source": [
    "## 4.5 Identifying dominated strategies\n",
    "\n",
    "### 4.5.1 Domination by pure strategies\n",
    "\n",
    "To check whether a given strategy $s_1$ is dominated (strictly) by some pure strategy is quite simple. We just need to check if there is a pure action $a_i$ we can take, such that $a_i$ is better than $s_1$ for all of the opponent's pure actions $a_j$.\n",
    "\n",
    "Note that domination only depends on your own payoff, not that of any other player, so we can remove player 2 from payoff tables for simplicity.\n",
    "\n",
    "Now consider:\n",
    "\n",
    "$\n",
    "\\begin{array}{c|cc}\n",
    "\\text{} & \\text{0} & \\text{1} & \\text{2} \\\\\n",
    "\\hline\n",
    "\\text{0} & 4 & 3 & 2 \\\\\n",
    "\\text{1} & 1 & 2 & 1 \\\\\n",
    "\\end{array}\n",
    "$\n",
    "\n",
    "We will check whether the row player's strategy of $[\\frac{1}{2},\\frac{1}{2}]$ is dominated."
   ]
  },
  {
   "cell_type": "code",
   "execution_count": 46,
   "id": "5253079e-aa7f-4c41-b0bc-cd5b194b4b3f",
   "metadata": {},
   "outputs": [
    {
     "name": "stdout",
     "output_type": "stream",
     "text": [
      "dominated by 0\n"
     ]
    }
   ],
   "source": [
    "payoff = np.array([\n",
    "    [4,3,2],\n",
    "    [1,2,1]\n",
    "])\n",
    "\n",
    "s1 = np.array([0.5,0.5])\n",
    "for A1_i in range(2):\n",
    "    dominated = True\n",
    "    for A2_j in range(3):\n",
    "        if s1.dot(payoff[:,A2_j])>=payoff[A1_i,A2_j]:\n",
    "            dominated = False\n",
    "            break\n",
    "    if dominated:\n",
    "        print(\"dominated by\",A1_i)\n",
    "        break"
   ]
  },
  {
   "cell_type": "markdown",
   "id": "2b3cc290-4430-4842-ba45-abb7a7524293",
   "metadata": {},
   "source": [
    "And it is! Because unsuprisingly, it is always better to go 0 than 1, so any mixed strategy is dominated by the pure one.\n",
    "\n",
    "You might think that we have neglected to check the mixed strategies of the opponent above. What if there was a mixed strategy for the opponent, such that $s_1$ is actually as good as $a_i$? Fortunately, we don't have to check this! The utility of $s_1$ is just $s_1U_1$ (a vector with a value for each of the opponent's actions). The value of $a_i$ is just $U_1^i$ (i'th row in $U_1$). If $a_i$ is better than $s_i$ for all the opponent's pure strategies then each entry must be greater. So any mixture is greater. From above, we get:\n",
    "\n",
    "$\n",
    "\\begin{array}{c|ccc}\n",
    "\\text{value of} & \\text{0} & \\text{1} & \\text{2} \\\\\n",
    "\\hline\n",
    "a_0 & 4 & 3 & 2 \\\\\n",
    "s_1 & 2.5 & 2.5 & 1.5\n",
    "\\end{array}\n",
    "$\n",
    "\n",
    "Any mixing of the columns won't matter.\n",
    "\n",
    "### 4.5.2 Domination by mixed strategies\n",
    "\n",
    "Things get more complicated if we want to check if our strategy can be dominated by a mixed strategy. Consider the following linear program:\n",
    "\n",
    "$$\n",
    "\\begin{align*}\n",
    "\\text{minimise} \\quad & \\sum_k p_k \\\\\n",
    "\\text{subject to} \\quad & \\sum_{k} p_k U_1(A_1^k,A_2^j) \\geq U_1(s_1,A_2^j) \\quad \\forall A_2^j \\\\\n",
    "\\text{} \\quad & p_k \\geq 0 \\\\\n",
    "\\end{align*}\n",
    "$$\n",
    "\n",
    "If this linear program finds $p$ such that $\\sum_k p_k<1$ then we know we have a mixed strategy that can dominate $s_1$. Why? If the sum is less than 1, then we can make the sum equal to 1 by increasing at least one $p_k$. If we do this then we know we will be improving on $U_1(s_1,A_2^j)$ in at least one place. Note: This method requires the utility to be scaled so all are greater than 0.\n",
    "\n",
    "Consider these payoffs:\n",
    "\n",
    "$\n",
    "\\begin{array}{c|cc}\n",
    "\\text{} & \\text{X} & \\text{Y} & \\text{Z} \\\\\n",
    "\\hline\n",
    "\\text{X} & 3 & 1 & 2 \\\\\n",
    "\\text{Y} & 1 & 2 & 1\n",
    "\\end{array}\n",
    "$\n",
    "\n",
    "Is there a strategy that beats $[0.5,0.25,0.25]$?"
   ]
  },
  {
   "cell_type": "code",
   "execution_count": 50,
   "id": "f2b9a8be-58b3-4814-a268-f1d4c4ac0ded",
   "metadata": {},
   "outputs": [
    {
     "name": "stdout",
     "output_type": "stream",
     "text": [
      "function: 0.95\n",
      "new solution: [0.68 0.32 0.  ]\n"
     ]
    }
   ],
   "source": [
    "old_solution = np.array([0.5,0.25,0.25])\n",
    "c = np.array([1,1,1]) # minimise the sum of these\n",
    "A = np.array([\n",
    "    [3,1,2],\n",
    "    [1,2,1]\n",
    "])\n",
    "b = A.dot(old_solution)\n",
    "res = linprog(c, A_ub=-A, b_ub=-b)\n",
    "print(\"function:\",res[\"fun\"])\n",
    "print(\"new solution:\",(res[\"x\"]/np.sum(res[\"x\"])).round(2))"
   ]
  },
  {
   "cell_type": "markdown",
   "id": "377e30f3-dd7c-41c8-b453-34a6bd912433",
   "metadata": {},
   "source": [
    "This makes sense. $Z$ is not as good as going $X$, so it's better to put more probability mass in $X$.  \n",
    "\n",
    "### 4.5.3 Iterated dominance\n",
    "\n",
    "At this point we can consider the process of eliminating pure strategies. This is naturally something we might want to do in order to reduce our search space. A pure strategy $a_i$ (and any mixed strategies using it) can be eliminated if there is a mixed strategy which dominates it without using it. Any strategy which did use $a_i$ could be improved by replacing it's probability density with the dominating mixed strategy. I.e., if\n",
    "$$u_1 < w_2u_2+w_3u_3+w_4u_4$$\n",
    "then \n",
    "$$p_1u_1+p_2u_2+p_3u_3+p_4u_4<p_2(1+p_1w_2)u_2+p_3(1+p_1w_3)u_3+p_4(1+p_1w_4)u_4$$\n",
    "\n",
    "So we can look to remove pure strategies in this manner. Take the following example:\n",
    "\n",
    "$\n",
    "\\begin{array}{c|cc}\n",
    "\\text{} & \\text{X} & \\text{Y} & \\text{Z} \\\\\n",
    "\\hline\n",
    "\\text{X} & 3,1 & 0,1 & 0,0 \\\\\n",
    "\\text{Y} & 1,1 & 1,1 & 5,0 \\\\\n",
    "\\text{Z} & 0,1 & 4,1 & 0,0\n",
    "\\end{array}\n",
    "$"
   ]
  },
  {
   "cell_type": "code",
   "execution_count": 65,
   "id": "f607891e-1744-4bca-9c7b-632ef7b1e3ca",
   "metadata": {},
   "outputs": [
    {
     "name": "stdout",
     "output_type": "stream",
     "text": [
      "col 3 dominated\n",
      "row 2 dominated\n"
     ]
    }
   ],
   "source": [
    "def check_pure_strategy_is_dominated(U,row):\n",
    "    c = np.ones(U.shape[0]-1)\n",
    "    A = U[np.arange(U.shape[0]) != row].T\n",
    "    b = U[row]\n",
    "    res = linprog(c, A_ub=-A, b_ub=-b)\n",
    "    if not res[\"fun\"] is None:\n",
    "        if res[\"fun\"]<1:\n",
    "            return True\n",
    "    return False\n",
    "\n",
    "U1 = np.array([[3,0,0],[1,1,5],[0,4,0]])\n",
    "U2 = np.array([[1,1,0],[1,1,0],[1,1,0]])\n",
    "for i in range(10):\n",
    "    rows,cols = U1.shape\n",
    "    any_removed = False\n",
    "    for row in range(rows):\n",
    "        if check_pure_strategy_is_dominated(U1,row):\n",
    "            U1 = U1[np.arange(rows) != row]\n",
    "            U2 = U2[np.arange(rows) != row]\n",
    "            any_removed = True\n",
    "            print(\"row\",row+1,\"dominated\")\n",
    "            break\n",
    "\n",
    "    if not any_removed:\n",
    "        for col in range(cols):\n",
    "            if check_pure_strategy_is_dominated(U2.T,col):\n",
    "                U1 = U1[:,np.arange(cols) != col]\n",
    "                U2 = U2[:,np.arange(cols) != col]\n",
    "                any_removed = True\n",
    "                print(\"col\",col+1,\"dominated\")\n",
    "                break\n",
    "                \n",
    "    if not any_removed:\n",
    "        break"
   ]
  },
  {
   "cell_type": "markdown",
   "id": "d20d2211-192d-48b7-a808-1b13e19530ba",
   "metadata": {},
   "source": [
    "What happens is col 3 is removed, as $X$ and $Y$ are always better choices for player 2. Then the game becomes:\n",
    "\n",
    "$\n",
    "\\begin{array}{c|cc}\n",
    "\\text{} & \\text{X} & \\text{Y} \\\\\n",
    "\\hline\n",
    "\\text{X} & 3,1 & 0,1 \\\\\n",
    "\\text{Y} & 1,1 & 1,1 \\\\\n",
    "\\text{Z} & 0,1 & 4,1\n",
    "\\end{array}\n",
    "$\n",
    "\n",
    "At this point it's then clear that row 2 can be removed, as a 50:50 strategy between $X$ and $Z$ is better than $Y$, which gives:\n",
    "\n",
    "$\n",
    "\\begin{array}{c|cc}\n",
    "\\text{} & \\text{X} & \\text{Y} \\\\\n",
    "\\hline\n",
    "\\text{X} & 3,1 & 0,1 \\\\\n",
    "\\text{Z} & 0,1 & 4,1\n",
    "\\end{array}\n",
    "$"
   ]
  }
 ],
 "metadata": {
  "kernelspec": {
   "display_name": "Python 3 (ipykernel)",
   "language": "python",
   "name": "python3"
  },
  "language_info": {
   "codemirror_mode": {
    "name": "ipython",
    "version": 3
   },
   "file_extension": ".py",
   "mimetype": "text/x-python",
   "name": "python",
   "nbconvert_exporter": "python",
   "pygments_lexer": "ipython3",
   "version": "3.12.7"
  }
 },
 "nbformat": 4,
 "nbformat_minor": 5
}
