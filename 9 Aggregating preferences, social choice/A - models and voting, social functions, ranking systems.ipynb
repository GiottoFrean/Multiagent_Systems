{
 "cells": [
  {
   "cell_type": "code",
   "execution_count": 1,
   "id": "86bc1700-b77b-4685-8620-a23da1923f15",
   "metadata": {},
   "outputs": [],
   "source": [
    "import numpy as np\n",
    "import matplotlib.pyplot as plt"
   ]
  },
  {
   "cell_type": "markdown",
   "id": "b2181055-0fa3-484e-adfe-f7dc32e13b55",
   "metadata": {},
   "source": [
    "# Aggregating preferences: social choice\n",
    "\n",
    "## 9.1 Introduction\n",
    "\n",
    "It is often difficult to measure the true utilities people place on different outcomes. One alternative is to ask about preferences instead (i.e., do you prefer A or B). The downside is you lose a huge amount of information. Nevertheless, a lot of work has been done in this area which will be covered here very very briefly. I am not so interested in this! Preferences are dumb...\n",
    "\n",
    "## 9.2 A formal model\n",
    "\n",
    "We have a set of outcomes $O$, a set of $N$ people, and for each person $i$ a ranking of their preferences $L_i$. A *social choice function* is a mapping from $L$ to $O$. A *social choice correspondence* is a function which instead returns a set of outcomes. A *condorcet winner* is an outcome $o$ which has majority support over any other $o^\\prime$. The *smith set* is the smallest set of outcomes where any outcome in the set is prefered by a majority to any outcome out of the set. A *social welfare function* maps $L$ to an order over the outcomes.\n",
    "\n",
    "## 9.3 Voting\n",
    "\n",
    "There are many different voting methods, none of which are worth getting into. The best is quadratic voting, and nothing much more needs to be said! Everything works in some cases not in others.\n",
    "\n",
    "## 9.4 Existence of social functions\n",
    "\n",
    "### 9.4.1 Social welfare functions\n",
    "\n",
    "One interesting result is that there is no social welfare function over at least 3 outcomes which meets these three criteria at the same time:\n",
    "\n",
    "1. **Pareto efficiency** - If everyone prefers $a$ over $b$, then the function must rank $a$ higher than $b$.\n",
    "2. **Irrelevance of alternative options** - The ranking of $a$ vs $b$ should only depend on the preferences for $a$ and $b$, not alternatives.\n",
    "3. **Non-dictatorship** - There should be no single person who completely determines the ordering of all outcomes.\n",
    "\n",
    "This seems to pour cold water on the idea of voting systems altogether.\n",
    "\n",
    "### 9.4.2 Social choice functions\n",
    "\n",
    "Social choice is just about selecting the *best* outcome, so it might be easier than the above. We can define a similar 3 measures:\n",
    "\n",
    "1. **Weak pareto efficiency** - The function should not select $o_2$ if a majority prefer $o_1$.\n",
    "2. **Monotonicity** - If the outcome $o$ is the winner it should stay the winner if it gets increased support.\n",
    "3. **Nondictatorship** - The function should not be such that it always selects the top choice for some agent $j$.\n",
    "\n",
    "Unfortunately, a similar proof holds that meeting all 3 of these criteria is impossible."
   ]
  },
  {
   "cell_type": "markdown",
   "id": "143680f5-82ea-4615-b910-58f3d1f17ec3",
   "metadata": {},
   "source": [
    "## 9.5 Ranking systems\n",
    "\n",
    "We can make slight headway if we impose a couple of restrictions. Firstly, we say that the outcomes are just the agents themselves. This could be in the context of a collective decision (picking a leader), or maybe webpages ranking eachother. Secondly, we say that each agent just has a set of people they like, and a set they don't like. Within each set they are indifferent. A ranking rule in this context is a social welfare function which asigns a rank to everyone. \n",
    "\n",
    "What this really amounts to is a restriction of the outcomes for each agent. Basically you either get someone you want in charge or you don't. This get's around the \"at least 3 outcomes\" bit. One algorithm which satisfies the 3 above conditions is called approval voting, where each agent gets to vote for as many candidates as they like. The candidate which appears in the greatest number of 'yes' pools is then selected. This also turns out to be the only algorithm which works.\n",
    "\n",
    "One of the things we might want a ranking function to achieve is transitivity. If A votes for B, C votes for D, but D votes for E, it is sensible that E wins. Unfortunately there is no ranking system which achieves this without violating the the irrelevant alternatives condition.\n",
    "\n",
    "There are a few algorithms which work for weaker versions of these rules."
   ]
  }
 ],
 "metadata": {
  "kernelspec": {
   "display_name": "Python 3 (ipykernel)",
   "language": "python",
   "name": "python3"
  },
  "language_info": {
   "codemirror_mode": {
    "name": "ipython",
    "version": 3
   },
   "file_extension": ".py",
   "mimetype": "text/x-python",
   "name": "python",
   "nbconvert_exporter": "python",
   "pygments_lexer": "ipython3",
   "version": "3.12.11"
  }
 },
 "nbformat": 4,
 "nbformat_minor": 5
}
