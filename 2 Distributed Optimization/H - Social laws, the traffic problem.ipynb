{
 "cells": [
  {
   "cell_type": "code",
   "execution_count": 1,
   "id": "a8936da2",
   "metadata": {},
   "outputs": [],
   "source": [
    "import numpy as np"
   ]
  },
  {
   "cell_type": "markdown",
   "id": "2b2e1bbe",
   "metadata": {},
   "source": [
    "## 2.4 Social laws and conventions\n",
    "\n",
    "Society is made up of a bunch of agents who are making decisions (roughly) in their self interest, thinking about the actions of others. Sometimes interests and decisions clash, and it would be nice to insteaad have the option of restricting the possible behaviours agents can engage in. For instance, making everyone drive on the left hand side of the road. A good social law limits the strategies people can play in a game, thereby creating a favourable outcome.\n",
    "\n",
    "Finding a good social law is unsuprisingly difficult.\n",
    "\n",
    "Just as a fun example, consider a graph made up of nodes, and a set of $k$ robots. All robots start at some initial node, and then once reaching a node the robots then have to move to an adjacent one. We initialise a new robot each timestep, and robots get to choose their speed when going down each road (edge). The problem is that we can't have two robots on the same node at the same time. What do we do?\n",
    "\n",
    "One option is to make each robot drive at a speed of $\\frac{1}{k}$. This means that at most 1 robot will be at each node at any given time. Why? If the node $i$ which leaves at time $i$ is at a node it means $t = i + nk$. Two agents cannot be in the same place at the same time, as $i + nk \\neq j + nk$. The first agent arrives somewhere every $k$ seconds, the second every $k$ seconds, but offset by 1, etc, etc.\n",
    "\n",
    "A smart option is to assign each node a value between 0 and $k-1$, then define the time to get between two nodes as $(x-y)\\mod k$. Why? Consider if you are the node $i$ starting at time $i$ and move through nodes $x$, $y$, and then to $z$. The total time is then $i + x + (y - x) \\mod k + (z - y) \\mod k$. This total is then $i + z \\mod k$, so the same basic idea holds. "
   ]
  }
 ],
 "metadata": {
  "kernelspec": {
   "display_name": "Python 3",
   "language": "python",
   "name": "python3"
  },
  "language_info": {
   "codemirror_mode": {
    "name": "ipython",
    "version": 3
   },
   "file_extension": ".py",
   "mimetype": "text/x-python",
   "name": "python",
   "nbconvert_exporter": "python",
   "pygments_lexer": "ipython3",
   "version": "3.9.4"
  }
 },
 "nbformat": 4,
 "nbformat_minor": 5
}
