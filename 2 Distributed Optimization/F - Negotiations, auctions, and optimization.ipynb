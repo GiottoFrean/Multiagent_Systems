{
 "cells": [
  {
   "cell_type": "code",
   "execution_count": 1,
   "id": "cd7d3c86",
   "metadata": {},
   "outputs": [],
   "source": [
    "import numpy as np\n",
    "import matplotlib.pyplot as plt\n",
    "from scipy.optimize import linprog"
   ]
  },
  {
   "cell_type": "markdown",
   "id": "d9c915fe",
   "metadata": {},
   "source": [
    "## 2.3 Negotiations, auctions, and optimization\n",
    "### 2.3.1 From contract nets to auction-like optimization\n",
    "In a contract net we have a global problem, made up of a number of tasks. For each agent there is a cost function $c_i(T)$ reflecting the cost of agent $i$ to do all the tasks $T$. We start agents out with random tasks, and want them to swap and exchange them in order to lower the sum of the individual costs. In future chapters we will look at how to do this with agents which are also self-interested. First, we derive a linear programming solution to this problem. \n",
    "### 2.3.2 The assignment problem and linear programming\n",
    "In a (symmetric) assignment problem we have a set $N$ of agents, a set $X$ of objects, a set of possible assignment pairs $M$, and a function $v$ which tells us what the value of an assignment pair is. At the moment we just consider that we have at most 1 object per agent. A valid assignment is then a set of pairs $S\\subseteq M$, which has the property that each each agent $i$ and object $j$ is in at most 1 pair. A feasable assignment is one in which all agents are assigned an object. An optimal assignment is one in which the sum of the values is maximised. \n",
    "\n",
    "This problem can be expressed as a linear program. We introduce an indicator matrix $x$ where $x_{i,j}=1$ if the pair ($i$,$j$) is selected. Then the linear program is:\n",
    "\n",
    "$$\n",
    "\\begin{align*}\n",
    "\\text{maximise} \\quad & \\sum_{i,j\\in M} v(i,j)x_{i,j} \\\\\n",
    "\\text{subject to} \\quad & \\sum_{j} x_{i,j}<=1 \\\\\n",
    "\\text{} \\quad & \\sum_{i} x_{i,j}<=1\n",
    "\\end{align*}\n",
    "$$\n",
    "\n",
    "While this might seem incorrect, as this would seem to possibly create partial assignments, in truth the answers turn out to be integers. In fact, every linear program encoding of an assignment problem has an integer solution. Solving a linear program can then be done in polynomial time, using the simplex algorithm.\n",
    "\n",
    "For example, let's consider $N=[\\text{john},\\text{mary},\\text{leon}]$, $X=[\\text{cat},\\text{dog},\\text{hat}]$, and the value function is:\n",
    "\n",
    "$\n",
    "\\begin{array}{c|ccc}\n",
    "\\text{} & \\text{cat} & \\text{dog} & \\text{hat} \\\\\n",
    "\\hline\n",
    "\\text{john} & 1 & 3 & 0 \\\\\n",
    "\\text{mary} & 3 & 1 & 2 \\\\\n",
    "\\text{leon} & 4 & 1 & 0 \\\\\n",
    "\\end{array}\n",
    "$"
   ]
  },
  {
   "cell_type": "code",
   "execution_count": 70,
   "id": "7b23365b",
   "metadata": {},
   "outputs": [
    {
     "name": "stdout",
     "output_type": "stream",
     "text": [
      "resulting weights:\n",
      "[ 0.  1.  0.  0.  0.  1.  1. -0.  0.]\n",
      "assignment\n",
      "[('john', 'dog'), ('mary', 'hat'), ('leon', 'cat')]\n"
     ]
    }
   ],
   "source": [
    "agents = [\"john\",\"mary\",\"leon\"]\n",
    "objects = [\"cat\",\"dog\",\"hat\"]\n",
    "value_dict = {\n",
    "    (\"john\",\"cat\"):1,(\"john\",\"dog\"):3,(\"john\",\"hat\"):0,\n",
    "    (\"mary\",\"cat\"):3,(\"mary\",\"dog\"):1,(\"mary\",\"hat\"):2,\n",
    "    (\"leon\",\"cat\"):4,(\"leon\",\"dog\"):1,(\"leon\",\"hat\"):0,\n",
    "}\n",
    "value_vector = list(value_dict.values())\n",
    "x = np.zeros(9)\n",
    "A = np.array([\n",
    "    [1,1,1,0,0,0,0,0,0], # john can't be assigned to more than 1 item.\n",
    "    [0,0,0,1,1,1,0,0,0], # mary\n",
    "    [0,0,0,0,0,0,1,1,1], # leon\n",
    "    [1,0,0,1,0,0,1,0,0], # the cat can't be assigned to more than 1 person\n",
    "    [0,1,0,0,1,0,0,1,0], # the dog\n",
    "    [0,0,1,0,0,1,0,0,1], # the hat\n",
    "])\n",
    "b = np.ones(6) # 1 for each 'only 1' condition\n",
    "res = linprog(-np.array(value_vector), A_ub=A, b_ub=b, bounds=[(0,None) for _ in range(9)])\n",
    "print(\"resulting weights:\")\n",
    "print(res[\"x\"])\n",
    "print(\"assignment\")\n",
    "assignment = [list(value_dict.keys())[i] for i in np.where(res[\"x\"]==1)[0]]\n",
    "print(assignment)"
   ]
  },
  {
   "cell_type": "markdown",
   "id": "45b3343e",
   "metadata": {},
   "source": [
    "the problem with this is that it isn't particularly parallelizable, and that small changes in the inputs mean the problem has to be redone from scratch. Here we explore an alternative, based on the idea of competitive equilibrium."
   ]
  },
  {
   "cell_type": "markdown",
   "id": "137aa56f",
   "metadata": {},
   "source": [
    "#### The assignment problem and competitive equilibrium\n",
    "\n",
    "Imagine we have a set of prices $p$ for each of the resources (cat, dog, hat). If we define the the utility to each person of an assignment as the value of the assignment minus the price ($v(i,j)-p_j$), then we can define a competitive equilibrium: A situation in which nobody can improve their utility by changing to another good.\n",
    "\n",
    "Then there is a remarkable theory that if an assignment and a price are in competitive equilibrium the assignment is optimal. We will look at why this is later, but it stems from the dual problem of the previous section.\n",
    "\n",
    "For now we will look at a simple approach to do assignments in a multiagent manner, using the concept of an auction.\n",
    "\n",
    "#### A naive auction algorithm\n",
    "\n",
    "The following algorithm is almost optimal, but has a flaw (which we will fix in the next section). The basic idea is to have each agent bid for the items, increasing the bid by the difference between their first and second favorite option.\n",
    "\n",
    "The array of values again:\n",
    "\n",
    "$\n",
    "\\begin{array}{c|ccc}\n",
    "\\text{} & \\text{cat} & \\text{dog} & \\text{hat} \\\\\n",
    "\\hline\n",
    "\\text{john} & 1 & 3 & 0 \\\\\n",
    "\\text{mary} & 3 & 1 & 2 \\\\\n",
    "\\text{leon} & 4 & 1 & 0 \\\\\n",
    "\\end{array}\n",
    "$"
   ]
  },
  {
   "cell_type": "code",
   "execution_count": 71,
   "id": "2824a20c",
   "metadata": {
    "scrolled": false
   },
   "outputs": [
    {
     "name": "stdout",
     "output_type": "stream",
     "text": [
      "john increments dog to 2\n",
      "mary increments cat to 1\n",
      "leon increments cat to 4\n",
      "\n",
      "prices:  {'cat': 4, 'dog': 2, 'hat': 0}\n",
      "\n",
      "assignments:  {'john': 'dog', 'mary': None, 'leon': 'cat'}\n",
      "\n",
      "mary increments hat to 3\n",
      "\n",
      "prices:  {'cat': 4, 'dog': 2, 'hat': 3}\n",
      "\n",
      "assignments:  {'john': 'dog', 'mary': 'hat', 'leon': 'cat'}\n",
      "\n"
     ]
    }
   ],
   "source": [
    "prices = {\"cat\":0,\"dog\":0,\"hat\":0}\n",
    "assignments = dict(zip(agents,[None for _ in range(len(agents))]))\n",
    "for epoch in range(100):\n",
    "    all_assigned = True\n",
    "    for agent in agents:\n",
    "        if(assignments[agent]==None):\n",
    "            all_assigned = False\n",
    "            # get the utilities (value - price)\n",
    "            u = {good:value_dict[(agent,good)]-prices[good] for good in prices.keys()}\n",
    "            sorted_u_keys = np.array(list(u.keys()))[np.argsort(list(u.values()))[::-1]] # this just sorts, ignore\n",
    "            favorite = sorted_u_keys[0]\n",
    "            second_favorite = sorted_u_keys[1]\n",
    "            # you are willing to pay the difference between your first and second favorite\n",
    "            increment = u[favorite]-u[second_favorite]\n",
    "            prices[favorite]=prices[favorite]+increment\n",
    "            for other_agent in agents:\n",
    "                if assignments[other_agent]==favorite:\n",
    "                    assignments[other_agent]=None\n",
    "            assignments[agent]=favorite\n",
    "            print(agent,\"increments\",favorite,\"to\",prices[favorite])\n",
    "    if all_assigned:\n",
    "        break\n",
    "    print()\n",
    "    print(\"prices: \",prices)\n",
    "    print()\n",
    "    print(\"assignments: \",assignments)\n",
    "    print()"
   ]
  },
  {
   "cell_type": "markdown",
   "id": "b93f493f",
   "metadata": {},
   "source": [
    "This produces the final assignments, which are exactly those at a competitive equilibrium."
   ]
  },
  {
   "cell_type": "markdown",
   "id": "d6a9d107",
   "metadata": {},
   "source": [
    "#### The terminating auction algorithm\n",
    "\n",
    "While this algorithm works in the above case, it won't work in cases where two values are the same for two different people. In order to deal with that scenario we add a small coefficient $\\epsilon$ to the bid increment. While this works it does mean we have to accept some inaccuracy in the outcome. Under certain situations the outcome will still be optimal.\n",
    "\n",
    "In the next section we will look more closely at the justification of this algorithm."
   ]
  }
 ],
 "metadata": {
  "kernelspec": {
   "display_name": "Python 3",
   "language": "python",
   "name": "python3"
  },
  "language_info": {
   "codemirror_mode": {
    "name": "ipython",
    "version": 3
   },
   "file_extension": ".py",
   "mimetype": "text/x-python",
   "name": "python",
   "nbconvert_exporter": "python",
   "pygments_lexer": "ipython3",
   "version": "3.9.4"
  }
 },
 "nbformat": 4,
 "nbformat_minor": 5
}
