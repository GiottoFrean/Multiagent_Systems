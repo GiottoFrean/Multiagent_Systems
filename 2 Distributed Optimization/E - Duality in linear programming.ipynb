{
 "cells": [
  {
   "cell_type": "code",
   "execution_count": 1,
   "id": "5cd19a59",
   "metadata": {},
   "outputs": [],
   "source": [
    "import numpy as np\n",
    "import matplotlib.pyplot as plt\n",
    "from scipy.spatial import HalfspaceIntersection\n",
    "from scipy.spatial import ConvexHull\n",
    "import itertools"
   ]
  },
  {
   "cell_type": "markdown",
   "id": "a1016fa0",
   "metadata": {},
   "source": [
    "## Duality in linear programming\n",
    "The previous section contained a long-winded description of linear programming. To avoid doing that again this section will be a little shorter. \n",
    "\n",
    "A linear programming problem is defined:\n",
    "\n",
    "$$\n",
    "\\begin{align*}\n",
    "\\text{maximise} \\quad & c^Tx \\\\\n",
    "\\text{subject to} \\quad & Ax\\leq b \\\\\n",
    "\\text{} \\quad & x\\geq 0 \\\\\n",
    "\\end{align*}\n",
    "$$\n",
    "\n",
    "\n",
    "### Getting an upper bound on the objective function\n",
    "\n",
    "Say I have a set of contstraints / inequalities. One of the things I can do is sum up the coefficients of those constraints for each variable (and the limit), and arrive at an entirely new equation. For instance, if $x_1 + x_2 < 2$ and $x_1 < 1$, then taking them both: $2x_1 + x_2 < 3$. At the same time, I can also multiply constraints by a positive constant ($x_1<2$ and $\\frac{1}{2}x_1<1$ are the same). What this means is we can do a weighted sum of constraints and arrive at a new constraint.\n",
    "\n",
    "If we denote these positive weights as $y$, then the new constraint coefficients are $A^Ty$, and the limit is $b^Ty$. This means:\n",
    "\n",
    "$$\n",
    "\\begin{align*}\n",
    "(A^Ty)^Tx &\\leq b^Ty \\\\\n",
    "y^TAx &\\leq b^Ty \\\\\n",
    "x^TA^Ty &\\leq b^Ty \\\\\n",
    "\\end{align*}\n",
    "$$\n",
    "\n",
    "Notice that if we now introduce the constraint that $A^Ty\\geq c$ we get:\n",
    "\n",
    "$$x^Tc \\leq b^Ty$$\n",
    "\n",
    "So therefore $b^Ty$ is an upper bound on the problem, given the constraints that $y>0$ and $A^Ty\\geq c$.\n",
    "\n",
    "### The dual problem\n",
    "\n",
    "This means we have an alternative linear programming problem, which instead of maximising the objective function, instead minimises this upper bound:\n",
    "\n",
    "$$\n",
    "\\begin{align*}\n",
    "\\text{minimise} \\quad & y^Tb \\\\\n",
    "\\text{subject to} \\quad & A^Ty\\geq c \\\\\n",
    "\\text{} \\quad & y\\geq 0 \\\\\n",
    "\\end{align*}\n",
    "$$\n",
    "\n",
    "The upper bound constraint is called weak duality. There is also a proof that the optimal value of the dual problem matches the value for the original (primal) problem and that you can convert between the two, but it's much more involved.\n",
    "\n",
    "### Example\n",
    "\n",
    "Consider this linear programming problem:\n",
    "\n",
    "$$\n",
    "\\begin{align*}\n",
    "\\text{maximise} \\quad & 2x_1 + x_2 \\\\\n",
    "\\text{subject to} \\quad & x_1+x_2\\leq 3 \\\\\n",
    "\\quad & x_1 \\leq 2 \\\\\n",
    "\\quad & x_1,x_2\\geq 0 \\\\\n",
    "\\end{align*}\n",
    "$$\n",
    "\n",
    "This looks like:"
   ]
  },
  {
   "cell_type": "code",
   "execution_count": 2,
   "id": "5f21984b",
   "metadata": {},
   "outputs": [
    {
     "data": {
      "image/png": "[encoded data removed]",
      "text/plain": [
       "<Figure size 432x432 with 1 Axes>"
      ]
     },
     "metadata": {
      "needs_background": "light"
     },
     "output_type": "display_data"
    }
   ],
   "source": [
    "def make_2d_polyhedron_plot(vertices):\n",
    "    plt.figure(figsize=(6,6))\n",
    "    hull = ConvexHull(vertices)\n",
    "    plt.fill(vertices[hull.vertices, 0], vertices[hull.vertices, 1], 'lightblue', edgecolor='black', alpha=0.7)\n",
    "    min_axes = np.min(vertices)\n",
    "    max_axes = np.max(vertices)\n",
    "    plt.xlim(min_axes-(max_axes-min_axes)*0.1,max_axes+(max_axes-min_axes)*0.1)\n",
    "    plt.ylim(min_axes-(max_axes-min_axes)*0.1,max_axes+(max_axes-min_axes)*0.1)\n",
    "    plt.gca().set_aspect('equal')\n",
    "\n",
    "vertices = np.array([[0,0],[2,0],[2,1],[0,3]])\n",
    "make_2d_polyhedron_plot(vertices)\n",
    "plt.xlabel(\"x1\",fontsize=15)\n",
    "plt.ylabel(\"x2\",fontsize=15)\n",
    "plt.show()"
   ]
  },
  {
   "cell_type": "markdown",
   "id": "51995446",
   "metadata": {},
   "source": [
    "We can easily see that the optimal value is at $x=[2,1]$.\n",
    "\n",
    "Now when we make the dual problem we have:\n",
    "\n",
    "$$\n",
    "\\begin{align*}\n",
    "\\text{minimise} \\quad & 3y_1 + 2y_2 \\\\\n",
    "\\text{subject to} \\quad & y_1+y_2\\geq 2 \\\\\n",
    "\\quad & y_1  \\geq 1 \\\\\n",
    "\\quad & y_1,y_2\\geq 0 \\\\\n",
    "\\end{align*}\n",
    "$$\n",
    "\n",
    "this is plotted below up (up to 3, as it goes to infinity technically)."
   ]
  },
  {
   "cell_type": "code",
   "execution_count": 3,
   "id": "ed187d04",
   "metadata": {},
   "outputs": [
    {
     "data": {
      "image/png": "[encoded data removed]",
      "text/plain": [
       "<Figure size 432x432 with 1 Axes>"
      ]
     },
     "metadata": {
      "needs_background": "light"
     },
     "output_type": "display_data"
    }
   ],
   "source": [
    "dual_vertices = np.array([[1,1],[2,0],[3,0],[3,3],[1,3]])\n",
    "make_2d_polyhedron_plot(dual_vertices)\n",
    "plt.xlabel(\"y1\",fontsize=15)\n",
    "plt.ylabel(\"y2\",fontsize=15)\n",
    "plt.show()"
   ]
  },
  {
   "cell_type": "markdown",
   "id": "c0916e68",
   "metadata": {},
   "source": [
    "We can see the solution will be $y = [1,1]$. The corresponding 'new' inequality is then: $2x_1+x_2\\leq 5$, which we can plot as a line on the original diagram:"
   ]
  },
  {
   "cell_type": "code",
   "execution_count": 4,
   "id": "8fb9c085",
   "metadata": {},
   "outputs": [
    {
     "data": {
      "image/png": "[encoded data removed]",
      "text/plain": [
       "<Figure size 432x432 with 1 Axes>"
      ]
     },
     "metadata": {
      "needs_background": "light"
     },
     "output_type": "display_data"
    }
   ],
   "source": [
    "make_2d_polyhedron_plot(vertices)\n",
    "x1 = np.linspace(0,3,100)\n",
    "plt.plot(x1,5-2*x1,color=\"red\")\n",
    "plt.xlabel(\"x1\",fontsize=15)\n",
    "plt.ylabel(\"x2\",fontsize=15)\n",
    "plt.show()"
   ]
  },
  {
   "cell_type": "markdown",
   "id": "ff6dbe56",
   "metadata": {},
   "source": [
    "And we can see it intersects the optimum exactly. There is also a nice proof that the dual of the dual is again the primal problem, so we can apply the same logic and get the 'new' inequality for the dual from the primal, which is $3y_1+2y_2\\geq5$:"
   ]
  },
  {
   "cell_type": "code",
   "execution_count": 5,
   "id": "7130502c",
   "metadata": {},
   "outputs": [
    {
     "data": {
      "image/png": "[encoded data removed]",
      "text/plain": [
       "<Figure size 432x432 with 1 Axes>"
      ]
     },
     "metadata": {
      "needs_background": "light"
     },
     "output_type": "display_data"
    }
   ],
   "source": [
    "make_2d_polyhedron_plot(dual_vertices)\n",
    "x1 = np.linspace(0,3,100)\n",
    "plt.plot(x1,(5-3*x1)/2,color=\"red\")\n",
    "plt.xlabel(\"y1\",fontsize=15)\n",
    "plt.ylabel(\"y2\",fontsize=15)\n",
    "plt.show()"
   ]
  },
  {
   "cell_type": "markdown",
   "id": "4a80d4ba",
   "metadata": {},
   "source": [
    "### Making some economic sense of this\n",
    "\n",
    "In order to help understand the concept of the primal and dual linear programs it is useful to look them as solving economic problems. \n",
    "\n",
    "The primal linear program is about *resource allocation*. Value is produced as a linear function of the good produced, but the amount of those goods is then subject to resource constraints. We can think of each good as consuming an amount of each resource.\n",
    "\n",
    "Consider our problem from before, and say it relates to some company producing chairs ($x_1$) and tables ($x_2$):\n",
    "\n",
    "- In one day a person can make an entire chair or an entire table.\n",
    "- The number of people operating at the company each day is 3.\n",
    "- Chairs sell for twice as much as tables.\n",
    "- The company only receives 2 chair cushions each day.\n",
    "\n",
    "From this we get, as before:\n",
    "$\n",
    "A = \\begin{bmatrix}\n",
    "1 & 1 \\\\\n",
    "1 & 0 \\\\\n",
    "\\end{bmatrix}\n",
    "$\n",
    "and \n",
    "$\n",
    "b = \\begin{bmatrix}\n",
    "3 \\\\\n",
    "2 \\\\\n",
    "\\end{bmatrix}\n",
    "$. \n",
    "Each column in $A$ relates to a particular good produced, and each row in that column is then the amount of that resource (labour and cushoins) used when producing a single unit of the good."
   ]
  },
  {
   "cell_type": "code",
   "execution_count": 6,
   "id": "4b33354a",
   "metadata": {},
   "outputs": [
    {
     "data": {
      "image/png": "[encoded data removed]",
      "text/plain": [
       "<Figure size 432x432 with 1 Axes>"
      ]
     },
     "metadata": {
      "needs_background": "light"
     },
     "output_type": "display_data"
    }
   ],
   "source": [
    "make_2d_polyhedron_plot(vertices)\n",
    "plt.xlabel(\"chairs\",fontsize=15)\n",
    "plt.ylabel(\"tables\",fontsize=15)\n",
    "plt.show()"
   ]
  },
  {
   "cell_type": "markdown",
   "id": "c112eaff",
   "metadata": {},
   "source": [
    "Imagine I come along and offer to buy some raw material with a price vector $y$ (an amount for a unit of each resource). Should this company accept?\n",
    "\n",
    "We know that each column $A_i$ is the amount of each resource required to produce a corresponding value $c_i$. If the company produces 1 fewer units of good $i$ it then frees up $A_i$ of each resource, which it can then sell to me for $y$. The value they get from selling those resources is $A_iy$, but the value they get from using those them instead (to produce good $i$) is $c_i$. If the company is rational it will only accept my offer if it can make more by selling than by producing. As a result, we get $A^Ty\\geq c$.\n",
    "\n",
    "If this is the case then I can buy the entire raw material stock of this company.\n",
    "\n",
    "If this is the case, and I am the one coming up with the price vector, it means I then want to minimize $b^Ty$.\n",
    "\n",
    "This means we are essentially looking at the dual problem as *resource valuation*."
   ]
  },
  {
   "cell_type": "code",
   "execution_count": 7,
   "id": "ba4f5a48",
   "metadata": {},
   "outputs": [
    {
     "data": {
      "image/png": "[encoded data removed]",
      "text/plain": [
       "<Figure size 432x432 with 1 Axes>"
      ]
     },
     "metadata": {
      "needs_background": "light"
     },
     "output_type": "display_data"
    }
   ],
   "source": [
    "make_2d_polyhedron_plot(dual_vertices)\n",
    "plt.xlabel(\"price of labour\",fontsize=15)\n",
    "plt.ylabel(\"price of cushoins\",fontsize=15)\n",
    "plt.show()"
   ]
  },
  {
   "cell_type": "markdown",
   "id": "d8b8eec4",
   "metadata": {},
   "source": [
    "We can see that the price of labour is always greater than 1. This is because with labour the company can always just make a table instead. The price of a cushoin is more complicated. I could buy a cushoin for 0, but I would need to then buy the labour for 2 each. This is because with those 2 people the company could offset the loss of the cushoin by selling 2 tables. And I could buy the cushoin and labour for 1 each, as this is enough to make a chair for value 2. "
   ]
  }
 ],
 "metadata": {
  "kernelspec": {
   "display_name": "Python 3",
   "language": "python",
   "name": "python3"
  },
  "language_info": {
   "codemirror_mode": {
    "name": "ipython",
    "version": 3
   },
   "file_extension": ".py",
   "mimetype": "text/x-python",
   "name": "python",
   "nbconvert_exporter": "python",
   "pygments_lexer": "ipython3",
   "version": "3.9.4"
  }
 },
 "nbformat": 4,
 "nbformat_minor": 5
}
