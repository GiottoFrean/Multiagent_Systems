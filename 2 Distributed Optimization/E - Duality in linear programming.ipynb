{
 "cells": [
  {
   "cell_type": "code",
   "execution_count": 1,
   "id": "5cd19a59",
   "metadata": {},
   "outputs": [],
   "source": [
    "import numpy as np\n",
    "import matplotlib.pyplot as plt\n",
    "from scipy.spatial import HalfspaceIntersection\n",
    "from scipy.spatial import ConvexHull\n",
    "import itertools"
   ]
  },
  {
   "cell_type": "markdown",
   "id": "a1016fa0",
   "metadata": {},
   "source": [
    "## Duality in linear programming\n",
    "The previous section contained a long-winded description of linear programming. To avoid doing that again this section will be a little shorter. \n",
    "\n",
    "A linear programming problem is defined:\n",
    "\n",
    "$$\n",
    "\\begin{align*}\n",
    "\\text{maximise} \\quad & c^Tx \\\\\n",
    "\\text{subject to} \\quad & Ax\\leq b \\\\\n",
    "\\text{} \\quad & x\\geq 0 \\\\\n",
    "\\end{align*}\n",
    "$$\n",
    "\n",
    "\n",
    "### Getting an upper bound on the objective function\n",
    "\n",
    "Say I have a set of contstraints / inequalities. One of the things I can do is sum up the coefficients of those constraints for each variable (and the limit), and arrive at an entirely new equation. For instance, if $x_1 + x_2 < 2$ and $x_1 < 1$, then taking them both: $2x_1 + x_2 < 3$. At the same time, I can also multiply constraints by a positive constant ($x_1<2$ and $\\frac{1}{2}x_1<1$ are the same). What this means is we can do a weighted sum of constraints and arrive at a new constraint.\n",
    "\n",
    "If we denote these positive weights as $y$, then the new constraint coefficients are $A^Ty$, and the limit is $b^Ty$. This means:\n",
    "\n",
    "$$\n",
    "\\begin{align*}\n",
    "(A^Ty)^Tx &\\leq b^Ty \\\\\n",
    "y^TAx &\\leq b^Ty \\\\\n",
    "x^TA^Ty &\\leq b^Ty \\\\\n",
    "\\end{align*}\n",
    "$$\n",
    "\n",
    "Notice that if we now introduce the constraint that $A^Ty\\geq c$ we get:\n",
    "\n",
    "$$x^Tc \\leq b^Ty$$\n",
    "\n",
    "So therefore $b^Ty$ is an upper bound on the problem, given the constraints that $y>0$ and $A^Ty\\geq c$.\n",
    "\n",
    "### The dual problem\n",
    "\n",
    "Given this we have an alternative linear programming problem, which instead of maximising the objective function, instead minimises this upper bound:\n",
    "\n",
    "$$\n",
    "\\begin{align*}\n",
    "\\text{minimise} \\quad & y^Tb \\\\\n",
    "\\text{subject to} \\quad & Ay\\geq c \\\\\n",
    "\\text{} \\quad & y\\geq 0 \\\\\n",
    "\\end{align*}\n",
    "$$\n",
    "\n",
    "The upper bound constraint is called weak duality. There is also a proof that the optimal value of the dual problem matches the value for the original (primal) problem, but it's much more involved. This is shown in the example problem below:\n",
    "\n",
    "### Example\n",
    "\n",
    "Imagine I have the following problem:\n",
    "\n",
    "$$\n",
    "\\begin{align*}\n",
    "\\text{maximise} \\quad & 2x_1 + x_2 \\\\\n",
    "\\text{subject to} \\quad & x_1+x_2\\leq 3 \\\\\n",
    "\\quad & x_1 \\leq 2 \\\\\n",
    "\\quad & x_1,x_2\\geq 0 \\\\\n",
    "\\end{align*}\n",
    "$$\n",
    "\n",
    "This looks like:"
   ]
  },
  {
   "cell_type": "code",
   "execution_count": 5,
   "id": "5f21984b",
   "metadata": {},
   "outputs": [
    {
     "data": {
      "image/png": "[encoded data removed]",
      "text/plain": [
       "<Figure size 432x432 with 1 Axes>"
      ]
     },
     "metadata": {
      "needs_background": "light"
     },
     "output_type": "display_data"
    }
   ],
   "source": [
    "def make_2d_polyhedron_plot(vertices):\n",
    "    plt.figure(figsize=(6,6))\n",
    "    hull = ConvexHull(vertices)\n",
    "    plt.fill(vertices[hull.vertices, 0], vertices[hull.vertices, 1], 'lightblue', edgecolor='black', alpha=0.7)\n",
    "    min_axes = np.min(vertices)\n",
    "    max_axes = np.max(vertices)\n",
    "    plt.xlim(min_axes-(max_axes-min_axes)*0.1,max_axes+(max_axes-min_axes)*0.1)\n",
    "    plt.ylim(min_axes-(max_axes-min_axes)*0.1,max_axes+(max_axes-min_axes)*0.1)\n",
    "    plt.gca().set_aspect('equal')\n",
    "\n",
    "vertices = np.array([[0,0],[2,0],[2,1],[0,3]])\n",
    "make_2d_polyhedron_plot(vertices)\n",
    "plt.show()"
   ]
  },
  {
   "cell_type": "markdown",
   "id": "51995446",
   "metadata": {},
   "source": [
    "We can easily see that the optimal value is at [2,1].\n",
    "\n",
    "When we make the dual problem we get:\n",
    "\n",
    "$$\n",
    "\\begin{align*}\n",
    "\\text{minimise} \\quad & 3y_1 + 2y_2 \\\\\n",
    "\\text{subject to} \\quad & y_1+y_2\\geq 2 \\\\\n",
    "\\quad & y_1  \\geq 1 \\\\\n",
    "\\quad & y_1,y_2\\geq 0 \\\\\n",
    "\\end{align*}\n",
    "$$"
   ]
  },
  {
   "cell_type": "code",
   "execution_count": null,
   "id": "ed187d04",
   "metadata": {},
   "outputs": [],
   "source": []
  }
 ],
 "metadata": {
  "kernelspec": {
   "display_name": "Python 3",
   "language": "python",
   "name": "python3"
  },
  "language_info": {
   "codemirror_mode": {
    "name": "ipython",
    "version": 3
   },
   "file_extension": ".py",
   "mimetype": "text/x-python",
   "name": "python",
   "nbconvert_exporter": "python",
   "pygments_lexer": "ipython3",
   "version": "3.9.4"
  }
 },
 "nbformat": 4,
 "nbformat_minor": 5
}
