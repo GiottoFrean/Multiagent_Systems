{
 "cells": [
  {
   "cell_type": "code",
   "execution_count": 1,
   "id": "d459dfe6",
   "metadata": {},
   "outputs": [],
   "source": [
    "import numpy as np\n",
    "import matplotlib.pyplot as plt\n",
    "from scipy.optimize import linprog,milp,LinearConstraint\n",
    "import itertools"
   ]
  },
  {
   "cell_type": "markdown",
   "id": "ec0cad0c",
   "metadata": {},
   "source": [
    "### The scheduling problem and integer programming\n",
    "In the previous section we looked at the assignment problem, which had a linear programming solution, but also a multiagent solution based on the idea of auctions and competitive equilibrium. Now we'll look at a more complicated scenario where multiple objects can be given to someone. The problem can still be stated as a linear program, but the answers will no longer be integers, hence the need for integer programming.\n",
    "\n",
    "#### Definition\n",
    "\n",
    "In a scheduling problem we have a set $N$ of $n$ agents, a set $X$ of $m$ discrete and consecutive time slots, a value function $v$ for assigning a combination of time slots to an agent, and a price $q$ to use each time slot for some other purpose (this is optional).\n",
    "\n",
    "The value function says that a value of $w_i$ is generated if the number of timeslots assigned to agent $i$ is at least $\\lambda_i$ (some measure of the time needed) before $d_i$ (the deadline).\n",
    "\n",
    "Consider this problem, where we have 5 hour-long timeslots (9AM,10AM,11AM,12PM,1PM), and no alternative uses:\n",
    "\n",
    "$\n",
    "\\begin{array}{cclc}\n",
    "\\text{agent} & \\text{length}(\\lambda) & \\text{deadline}(d) & \\text{value}(w) \\\\\n",
    "\\hline\n",
    "\\text{A} & 2 & \\text{11 AM} & \\$2 \\\\\n",
    "\\text{B} & 2 & \\text{1 PM} & \\$5 \\\\\n",
    "\\text{C} & 1 & \\text{2 PM} & \\$7 \\\\\n",
    "\\text{D} & 3 & \\text{12 PM} & \\$3 \\\\\n",
    "\\text{E} & 1 & \\text{1 PM} & \\$4 \\\\\n",
    "\\end{array}\n",
    "$\n",
    "\n",
    "This problem has a solution, which can be worked out by first putting $C$ at the end (as nothing else will be using that last slot) and then seeing out that of the other options the best is $B$ and $E$:\n",
    "\n",
    "$\n",
    "\\begin{array}{lc}\n",
    "\\text{slot} & \\text{user} \\\\\n",
    "\\hline\n",
    "\\text{9 AM} &  B\\\\\n",
    "\\text{10 AM} & B\\\\\n",
    "\\text{11 AM} & \\\\\n",
    "\\text{12 PM} & E \\\\\n",
    "\\text{1 PM} &  C \\\\\n",
    "\\end{array}\n",
    "$\n",
    "\n",
    "And there are other solutions, which are essentially just permutations of this. \n",
    "\n",
    "But how do we get there algorithmically?\n",
    "\n",
    "First of all, the problem can be written as an integer program, where $S$ is the set of all possible subsets of $X$, and $x_{i,s}$ refers to the variable saying if agent $i$ was assigned to $s\\in S$.\n",
    "\n",
    "$$\n",
    "\\begin{align*}\n",
    "\\text{maximise} \\quad & \\sum_{s\\in S, i\\in N} v_i(s)x_{i,s} \\\\\n",
    "\\text{subject to} \\quad & \\sum_{s\\in S} x_{i,s}<=1 \\quad \\forall i\\in N \\\\\n",
    "\\text{} \\quad & \\sum_{s\\in S: j\\in X, i\\in N} x_{i,s}<=1 \\quad \\forall j\\in X \\\\\n",
    "\\end{align*}\n",
    "$$\n",
    "\n",
    "I.e., each person can only be assigned to 1 set, and each slot can only appear in one assignment. We can see this set up below. "
   ]
  },
  {
   "cell_type": "code",
   "execution_count": 2,
   "id": "d135074c",
   "metadata": {},
   "outputs": [],
   "source": [
    "slots = [\"9am\",\"10am\",\"11am\",\"12pm\",\"1pm\"]\n",
    "agents = [\"A\",\"B\",\"C\",\"D\",\"E\"]\n",
    "lengths = np.array([2,2,1,3,1])\n",
    "deadlines = np.array([1,3,4,2,3]) # index of the last slot that can be used\n",
    "values = np.array([2,5,7,3,4])\n",
    "S = [np.array(s) for r in range(1, len(slots)+1) for s in itertools.combinations(range(len(slots)), r)]\n",
    "\n",
    "# get function values (s1a1, s1a2, s1a3, s1a4, s1a5 s2a1, ...)\n",
    "v = np.zeros(len(S)*len(agents)).astype(int)\n",
    "for s_index,s in enumerate(S):\n",
    "    for a in range(len(agents)):\n",
    "        length_used = np.sum(s<=deadlines[a])\n",
    "        v[s_index*len(agents)+a] = values[a] if length_used>=lengths[a] else 0\n",
    "        \n",
    "constraints_A = []\n",
    "constraints_b = []\n",
    "# set constraint that variables are positive\n",
    "for c in range(len(S)*len(agents)):\n",
    "    constraints_A.append([-1 if g==c else 0 for g in range(len(S)*len(agents))])\n",
    "    constraints_b.append(0)\n",
    "    \n",
    "# set constraint that an agent can only have 1 set\n",
    "for agent_index in range(len(agents)):\n",
    "    constraints_A.append([1 if agent_index==a else 0 for c in range(len(S)) for a in range(len(agents))])\n",
    "    constraints_b.append(1)\n",
    "\n",
    "# finally, set the constraint that an item can only appear once in an assigned set\n",
    "for j in range(len(slots)):\n",
    "    sets_with_j = [s_index for s_index,s in enumerate(S) if j in s]\n",
    "    constraints_A.append([1 if c in sets_with_j else 0 for c in range(len(S)) for a in range(len(agents))])\n",
    "    constraints_b.append(1)\n",
    "\n",
    "A = np.array(constraints_A)\n",
    "b = np.array(constraints_b)"
   ]
  },
  {
   "cell_type": "markdown",
   "id": "9aa1ab39",
   "metadata": {},
   "source": [
    "We can try a linear program solver, but unfortunately this is more difficult than the first assignment problem, and there is no guarantee of integer solutions:"
   ]
  },
  {
   "cell_type": "code",
   "execution_count": 3,
   "id": "689ef184",
   "metadata": {},
   "outputs": [
    {
     "name": "stdout",
     "output_type": "stream",
     "text": [
      "weight 0.33 slots ['10am'] agent E\n",
      "weight 0.67 slots ['12pm'] agent E\n",
      "weight 1.0 slots ['1pm'] agent C\n",
      "weight 0.67 slots ['9am', '11am'] agent B\n",
      "weight 0.33 slots ['10am', '12pm'] agent B\n",
      "weight 0.33 slots ['9am', '10am', '11am'] agent D\n"
     ]
    }
   ],
   "source": [
    "res = linprog(-v, A_ub=A, b_ub=b)\n",
    "for ind in np.where(res[\"x\"]>0)[0]:\n",
    "    s_index = ind//len(agents)\n",
    "    a_index = ind%len(agents)\n",
    "    print(\"weight\",round(res[\"x\"][ind],2),\"slots\", [slots[j] for j in S[s_index]], \"agent\", agents[a_index])"
   ]
  },
  {
   "cell_type": "markdown",
   "id": "a4cc6fa5",
   "metadata": {},
   "source": [
    "You could maybe try and fix this (i.e., turn these partial fractions into integers), but it seems like integer programming (expensive, not guaranteed to be optimal) is the proper solution:"
   ]
  },
  {
   "cell_type": "code",
   "execution_count": 4,
   "id": "0b0f3db8",
   "metadata": {},
   "outputs": [
    {
     "name": "stdout",
     "output_type": "stream",
     "text": [
      "weight 1.0 slots ['12pm'] agent E\n",
      "weight 1.0 slots ['1pm'] agent C\n",
      "weight 1.0 slots ['9am', '11am'] agent B\n"
     ]
    }
   ],
   "source": [
    "constraints = LinearConstraint(A, -np.inf, b)\n",
    "res = milp(c=-v, integrality=np.ones_like(v), constraints=constraints)\n",
    "for ind in np.where(res[\"x\"]>0)[0]:\n",
    "    s_index = ind//len(agents)\n",
    "    a_index = ind%len(agents)\n",
    "    print(\"weight\",round(res[\"x\"][ind],2),\"slots\", [slots[j] for j in S[s_index]], \"agent\", agents[a_index])"
   ]
  },
  {
   "cell_type": "markdown",
   "id": "16a70767",
   "metadata": {},
   "source": [
    "This solution is the same as above, except that $B$ is doing 11AM instead of 10AM.\n",
    "\n",
    "#### A more general form of competitive equilibrium\n",
    "\n",
    "Lets define what competitive equilibrium means. A solution $F$ is in competitive equilibrium for the prices $p$ if and only if:\n",
    "\n",
    "- First point"
   ]
  },
  {
   "cell_type": "code",
   "execution_count": null,
   "id": "d7674788",
   "metadata": {},
   "outputs": [],
   "source": []
  },
  {
   "cell_type": "code",
   "execution_count": null,
   "id": "8f27c1ac",
   "metadata": {},
   "outputs": [],
   "source": []
  }
 ],
 "metadata": {
  "kernelspec": {
   "display_name": "Python 3",
   "language": "python",
   "name": "python3"
  },
  "language_info": {
   "codemirror_mode": {
    "name": "ipython",
    "version": 3
   },
   "file_extension": ".py",
   "mimetype": "text/x-python",
   "name": "python",
   "nbconvert_exporter": "python",
   "pygments_lexer": "ipython3",
   "version": "3.9.4"
  }
 },
 "nbformat": 4,
 "nbformat_minor": 5
}
