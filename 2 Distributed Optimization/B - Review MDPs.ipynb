{
 "cells": [
  {
   "cell_type": "code",
   "execution_count": 2,
   "id": "64852d3e",
   "metadata": {},
   "outputs": [],
   "source": [
    "import numpy as np\n",
    "import matplotlib.pyplot as plt\n",
    "import matplotlib.patches as patches\n",
    "import networkx as nx"
   ]
  },
  {
   "cell_type": "markdown",
   "id": "3d6a985f",
   "metadata": {},
   "source": [
    "## Review of MDP's\n",
    "\n",
    "### Setup\n",
    "In a markov decision problem we have a set of states $S$, a set of actions $A$, a transition probability function $P$, and a reward function $R$. An agent takes actions, which then lead to transitions in state. Each state-action pair is associated with a reward. The transition function outputs the probability of arrivingt in a given state as a result of being in a given state and applying a given action.\n",
    "\n",
    "We want to find an optimal policy $\\pi$ of what action to apply in each state. To do this we use the following, called the Bellman Equations:\n",
    "\n",
    "$$Q^\\pi(s,a) = r(s,a) + \\beta \\sum_\\hat{s} P(\\hat{s} | s, a) V^\\pi(\\hat{s}) $$\n",
    "\n",
    "$$V^\\pi(s) = Q^\\pi(s,\\pi(s)) $$\n",
    "\n",
    "Here $V^\\pi(s)$ is called the value function, $Q^\\pi$ is called the state-action value function, and $\\beta$ is a discount between 0 and 1. The second equation says the value of being in $s$ is given by the state-action value of being in state $s$ and taking action $\\pi(s)$. The first equation says that the value of being in a state and applying an action is the immediate reward plus the expectation over the value of your future state, $\\hat{s}$.\n",
    "\n",
    "Given values for $Q$ we can work out the value of $V$ *if* you have the optimal policy:\n",
    "\n",
    "$$V(s) = \\max_a Q(s,a) $$\n",
    "\n",
    "This means we can then remove $Q$ and just state $V(s)$ as:\n",
    "\n",
    "$$V(s) = \\max_a r(s,a) + \\beta \\sum_\\hat{s} P(\\hat{s} | s, a) V(\\hat{s}) $$\n",
    "\n",
    "This is what will be true for the optimal value of $\\pi$.\n",
    "\n",
    "We can turn this function into a contraction mapping $T$:\n",
    "\n",
    "$$T(V(s)) = \\max_a r(s,a) + \\beta \\sum_\\hat{s} P(\\hat{s} | s, a) V(\\hat{s}) $$"
   ]
  },
  {
   "cell_type": "markdown",
   "id": "4506f387",
   "metadata": {},
   "source": [
    "### Contraction mappings\n",
    "\n",
    "This is a type of function (going from $V$ to $V$) which is called a contraction mapping. A function $T$ on a metric space $X$ is a contraction mapping if \n",
    "\n",
    "$$d(T(x),T(y))\\leq \\alpha d(x,y) \\text{ for all } x,y \\in X$$\n",
    "\n",
    "and $0\\geq\\alpha<1$ \n",
    "\n",
    "There is then a single point $x$ for which $T(x)=x$.\n",
    "\n",
    "Proof: consider there are two points $x$ and $y$ for which $T(x)=x$ and $T(y)=y$. By definition: \n",
    "\n",
    "$$d(T(x),T(y))\\leq \\alpha d(x,y)$$ \n",
    "\n",
    "which means \n",
    "\n",
    "$$d(x,y)\\leq \\alpha d(x,y)$$\n",
    "\n",
    "$$(1 - \\alpha) d(x,y) \\leq 0$$\n",
    "\n",
    "And as $0\\geq\\alpha<1$:\n",
    "\n",
    "$$d(x,y) = 0$$\n",
    "\n",
    "Secondly, the function $T$ converges to this point $x$. Consider if I start off in position $y$. By definition:\n",
    "\n",
    "$$d(T(x),T(y))\\leq \\alpha d(x,y)$$ \n",
    "\n",
    "Which means:\n",
    "\n",
    "$$d(x,T(y))\\leq \\alpha d(x,y)$$ \n",
    "\n",
    "So $T(y)$ is closer to $x$ than $y$. "
   ]
  },
  {
   "cell_type": "markdown",
   "id": "f9411ba5",
   "metadata": {},
   "source": [
    "### Showing the bellman equation is a contraction:\n",
    "\n",
    "We will use the suprenum norm as our distance, which takes the maximum absolute difference across all dimensions (states in this case).\n",
    "\n",
    "To get the absolute difference for a state in the case of the bellman function we can see:\n",
    "\n",
    "$$|(T(V_1(s)),T(V_2(s))|=\\max_a \\left[ r(s,a) + \\beta \\sum_\\hat{s} P(\\hat{s} | s, a) V_1(\\hat{s}) \\right] - \\max_a \\left[ r(s,a) + \\beta \\sum_\\hat{s} P(\\hat{s} | s, a) V_2(\\hat{s}) \\right] $$\n",
    "\n",
    "Note $\\max (a+b) \\leq \\max(a) + \\max(b)$. Therefore we can rewrite:\n",
    "\n",
    "$$|(T(V_1(s)),T(V_2(s))|\\leq\\left[\\max_a r(s,a) + \\max_a \\beta \\sum_\\hat{s} P(\\hat{s} | s, a) V_1(\\hat{s}) \\right] - \\left[ \\max_a r(s,a) + \\max_a \\beta \\sum_\\hat{s} P(\\hat{s} | s, a) V_2(\\hat{s}) \\right] $$\n",
    "\n",
    "Cancelling out the $\\max_a r(s,a)$, pulling $\\beta$ in front:\n",
    "\n",
    "$$|(T(V_1(s)),T(V_2(s))|\\leq \\beta \\left[\\max_a \\sum_\\hat{s} P(\\hat{s} | s, a) V_1(\\hat{s}) - \\max_a \\sum_\\hat{s} P(\\hat{s} | s, a) V_2(\\hat{s}) \\right] $$\n",
    "\n",
    "Finally, we use the inequality $|\\max_x f(x)| - |\\max_x g(x)|\\leq \\max_x|f(x)-g(x)|$. Why? Say $\\max_x g(x)$ is bigger than $\\max_x f(x)$. Let the value of $x$ at $\\max_x g(x)$ be denoted $x_g$. By definition of maximum $\\max_x f(x)\\geq f(x_g)$. And the only way to shrink the absolute difference would be if $f(x_g)$ was *greater* than $\\max_x f(x)$, which can't happen. So:\n",
    "\n",
    "$$|(T(V_1(s)),T(V_2(s))|\\leq \\beta \\max_a \\sum_\\hat{s} P(\\hat{s} | s, a)|V_1(\\hat{s}) - V_2(\\hat{s})| $$\n",
    "\n",
    "Say the suprenum norm $d(V_1,V_2)=l$.\n",
    "\n",
    "Then at best $d(T(V_1),T(V_2))=\\beta l$. \n",
    "\n",
    "Why? If $l$ is the largest absolute difference, then all the values of $|V_1(\\hat{s})-V_2(\\hat{s})|$ are at most $l$. And the expectation over $P(\\hat{s} | s, a)$ is also then at most $l$. \n",
    "\n",
    "And as $\\beta$ is always less than 1 this means $d(T(V_1),T(V_2))<d(V_1,V_2)$. So the bellman update function above is a contraction mapping."
   ]
  },
  {
   "cell_type": "markdown",
   "id": "d1aa5e21",
   "metadata": {},
   "source": [
    "### Wrapping it together\n",
    "\n",
    "Because the bellman equation $V(s) = \\max_a r(s,a) + \\beta \\sum_\\hat{s} P(\\hat{s} | s, a) V(\\hat{s}) $ will be true at the optimum, and because $T$ is a contraction mapping, we have a proceedure to calculate the value function by simply appying $T$ again and again.\n",
    "\n",
    "Here is an example where you are playing go-karts and trying to pass someone else.  "
   ]
  },
  {
   "cell_type": "code",
   "execution_count": 3,
   "id": "3d03aba0",
   "metadata": {},
   "outputs": [],
   "source": [
    "states = [\"left_back\",\"right_back\",\"right_mid\",\"left_forward\",\"right_forward\",\"crashed\"]"
   ]
  },
  {
   "cell_type": "code",
   "execution_count": 6,
   "id": "bbdc729e",
   "metadata": {},
   "outputs": [
    {
     "data": {
      "image/png": "[encoded data removed]",
      "text/plain": [
       "<Figure size 1224x432 with 6 Axes>"
      ]
     },
     "metadata": {
      "needs_background": "light"
     },
     "output_type": "display_data"
    }
   ],
   "source": [
    "# plot the state of a kart trying to pass:\n",
    "def plot_passing_state(current_state,ax):\n",
    "    road1 = patches.Rectangle((6, 0), 5, 19, linewidth=1, edgecolor='lightgray', facecolor='lightgray')\n",
    "    road2 = patches.Rectangle((0, 0), 5, 19, linewidth=1, edgecolor='lightgray', facecolor='lightgray')\n",
    "    ax.add_patch(road1)\n",
    "    ax.add_patch(road2)\n",
    "    car1 = patches.Rectangle((1, 7), 3, 5, linewidth=1, edgecolor='black', facecolor='black')\n",
    "    ax.add_patch(car1)\n",
    "    if(current_state==\"crashed\"):\n",
    "        crash = patches.RegularPolygon((2.5, 9.5), numVertices=6, radius=2,color=\"red\")\n",
    "        ax.add_patch(crash)\n",
    "    else:\n",
    "        car2_x = {\"left\":1,\"right\":7}[current_state.split(\"_\")[0]]\n",
    "        car2_y = {\"back\":1,\"mid\":7,\"forward\":13}[current_state.split(\"_\")[1]]\n",
    "        car2 = patches.Rectangle((car2_x, car2_y), 3, 5, linewidth=1, edgecolor='red', facecolor='red')\n",
    "        ax.add_patch(car2)\n",
    "    ax.set_xlim(0, 11)\n",
    "    ax.set_ylim(0, 19)\n",
    "    ax.set_aspect('equal')\n",
    "    ax.axis('off')\n",
    "    ax.set_title(current_state)\n",
    "\n",
    "fig, axes = plt.subplots(1,6,figsize=(17, 6))\n",
    "for s in range(len(states)):\n",
    "    plot_passing_state(states[s],axes[s])\n",
    "plt.show()"
   ]
  },
  {
   "cell_type": "code",
   "execution_count": 7,
   "id": "5bef82a1",
   "metadata": {
    "scrolled": false
   },
   "outputs": [],
   "source": [
    "actions = [\"left\",\"right\",\"forward\",\"back\",\"stay_put\"]\n",
    "\n",
    "# making the transition matrix for each action.\n",
    "# when you try going forward or backward you might go left or right instead. \n",
    "\n",
    "go_left_T_dict = {\n",
    "    \"left_back\":{\"crashed\":1}, # you drove off the road\n",
    "    \"right_back\":{\"left_back\":1},\n",
    "    \"right_mid\":{\"crashed\":1},\n",
    "    \"left_forward\":{\"left_back\":1}, # reset if you get to left_forward\n",
    "    \"right_forward\":{\"left_forward\":1},\n",
    "    \"crashed\":{\"left_back\":1} # crash so reset\n",
    "}\n",
    "\n",
    "go_right_T_dict = {\n",
    "    \"left_back\":{\"right_back\":1},\n",
    "    \"right_back\":{\"crashed\":1},\n",
    "    \"right_mid\":{\"crashed\":1},\n",
    "    \"left_forward\":{\"left_back\":1},\n",
    "    \"right_forward\":{\"crashed\":1},\n",
    "    \"crashed\":{\"left_back\":1}\n",
    "}\n",
    "\n",
    "go_forward_T_dict = {\n",
    "    \"left_back\":{\"crashed\":0.9,\"right_back\":0.1}, # chance you drive left + change you go forward & crash = 90%.  \n",
    "    \"right_back\":{\"right_mid\":0.8,\"left_back\":0.1,\"crashed\":0.1}, # aim forward, might go left / right. \n",
    "    \"right_mid\":{\"right_forward\":0.8,\"crashed\":0.2}, # chance of smaking into the left car / off the right\n",
    "    \"left_forward\":{\"left_back\":1},\n",
    "    \"right_forward\":{\"right_forward\":0.8,\"left_forward\":0.1,\"crashed\":0.1},\n",
    "    \"crashed\":{\"left_back\":1}\n",
    "}\n",
    "\n",
    "go_back_T_dict = {\n",
    "    \"left_back\":{\"left_back\":0.8,\"right_back\":0.1,\"crashed\":0.1},\n",
    "    \"right_back\":{\"right_back\":0.8,\"left_back\":0.1,\"crashed\":0.1},\n",
    "    \"right_mid\":{\"right_back\":0.8,\"crashed\":0.2},\n",
    "    \"left_forward\":{\"left_back\":1},\n",
    "    \"right_forward\":{\"right_mid\":0.8,\"left_forward\":0.1,\"crashed\":0.1},\n",
    "    \"crashed\":{\"left_back\":1}\n",
    "}\n",
    "\n",
    "stay_put_T_dict = {\n",
    "    \"left_back\":{\"left_back\":1},\n",
    "    \"right_back\":{\"right_back\":1},\n",
    "    \"right_mid\":{\"right_mid\":1},\n",
    "    \"left_forward\":{\"left_back\":1},\n",
    "    \"right_forward\":{\"right_forward\":1},\n",
    "    \"crashed\":{\"left_back\":1}\n",
    "}\n",
    "\n",
    "transition_matrix = np.zeros((5, 6, 6)) # 5 actions, 6 possible current states, 6 possible new states\n",
    "state_index = {state: i for i, state in enumerate(states)}\n",
    "all_action_transitions = [go_left_T_dict,go_right_T_dict,go_forward_T_dict,go_back_T_dict,stay_put_T_dict]\n",
    "for i,action_dict in enumerate(all_action_transitions):\n",
    "    for current_state, new_states in action_dict.items():\n",
    "        for next_state, prob in new_states.items():\n",
    "            transition_matrix[i, state_index[current_state], state_index[next_state]] = prob"
   ]
  },
  {
   "cell_type": "code",
   "execution_count": 29,
   "id": "ac642ee4",
   "metadata": {},
   "outputs": [
    {
     "name": "stdout",
     "output_type": "stream",
     "text": [
      "left_back right\n",
      "right_back forward\n",
      "right_mid forward\n",
      "left_forward left\n",
      "right_forward left\n",
      "crashed left\n"
     ]
    }
   ],
   "source": [
    "# big loss for crashing, some reward for winning. Note: here the reward doesn't depend on the action. \n",
    "reward = np.array([0,0,0,100,0,-100])\n",
    "beta = 0.99\n",
    "\n",
    "V = np.random.rand(6) # start with a random matrix\n",
    "for iteration in range(1000):\n",
    "    # get the value of being in each state and applying each action.\n",
    "    # this means summing over the value of the new states times the probability of those new states\n",
    "    expected_future_values = beta * np.sum(transition_matrix*V.reshape(1,1,-1),axis=2)\n",
    "    V = np.max(expected_future_values + reward.reshape(1,-1),axis=0)\n",
    "\n",
    "best_actions = [actions[a] for a in np.argmax(expected_future_values, axis=0)]\n",
    "for s in range(6):\n",
    "    print(states[s],best_actions[s])"
   ]
  },
  {
   "cell_type": "markdown",
   "id": "0615ec98",
   "metadata": {},
   "source": [
    "Showing the results:"
   ]
  },
  {
   "cell_type": "code",
   "execution_count": 30,
   "id": "327c0ad5",
   "metadata": {},
   "outputs": [
    {
     "data": {
      "image/png": "[encoded data removed]",
      "text/plain": [
       "<Figure size 1224x432 with 6 Axes>"
      ]
     },
     "metadata": {
      "needs_background": "light"
     },
     "output_type": "display_data"
    }
   ],
   "source": [
    "def plot_action(current_state,action,ax):\n",
    "    if not current_state==\"crashed\":\n",
    "        arrow_x = {\"left\":2.5,\"right\":8.5}[current_state.split(\"_\")[0]]\n",
    "        arrow_y = {\"back\":3,\"mid\":9,\"forward\":15}[current_state.split(\"_\")[1]]\n",
    "        if action == \"right\":\n",
    "            arrow = patches.FancyArrowPatch((arrow_x,arrow_y), (arrow_x+2,arrow_y),mutation_scale=20)\n",
    "        if action == \"left\":\n",
    "            arrow = patches.FancyArrowPatch((arrow_x,arrow_y), (arrow_x-2,arrow_y),mutation_scale=20)\n",
    "        if action == \"forward\":\n",
    "            arrow = patches.FancyArrowPatch((arrow_x,arrow_y), (arrow_x,arrow_y+2),mutation_scale=20)\n",
    "        if action == \"back\":\n",
    "            arrow = patches.FancyArrowPatch((arrow_x,arrow_y), (arrow_x+2,arrow_y-2),mutation_scale=20)\n",
    "        ax.add_patch(arrow)\n",
    "    \n",
    "fig, axes = plt.subplots(1,6,figsize=(17, 6))\n",
    "for s in range(len(states)):\n",
    "    plot_passing_state(states[s],axes[s])\n",
    "    plot_action(states[s],best_actions[s],axes[s])\n",
    "plt.show()"
   ]
  }
 ],
 "metadata": {
  "kernelspec": {
   "display_name": "Python 3",
   "language": "python",
   "name": "python3"
  },
  "language_info": {
   "codemirror_mode": {
    "name": "ipython",
    "version": 3
   },
   "file_extension": ".py",
   "mimetype": "text/x-python",
   "name": "python",
   "nbconvert_exporter": "python",
   "pygments_lexer": "ipython3",
   "version": "3.9.4"
  }
 },
 "nbformat": 4,
 "nbformat_minor": 5
}
