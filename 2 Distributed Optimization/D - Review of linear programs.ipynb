{
 "cells": [
  {
   "cell_type": "code",
   "execution_count": 1,
   "id": "1782c36f",
   "metadata": {},
   "outputs": [],
   "source": [
    "import numpy as np\n",
    "import matplotlib.pyplot as plt\n",
    "from scipy.spatial import HalfspaceIntersection\n",
    "from scipy.spatial import ConvexHull\n",
    "import itertools"
   ]
  },
  {
   "cell_type": "markdown",
   "id": "7f1e2e87",
   "metadata": {},
   "source": [
    "## Review of linear programming\n",
    "\n",
    "### Setup\n",
    "\n",
    "Linear programming is about optimizing a linear function over positive values, subject to some linear constraints. I.e., \n",
    "\n",
    "$$\n",
    "\\begin{align*}\n",
    "\\text{maximise} \\quad & c^Tx \\\\\n",
    "\\text{subject to} \\quad & Ax\\leq b \\\\\n",
    "\\text{} \\quad & x\\geq 0 \\\\\n",
    "\\end{align*}\n",
    "$$\n",
    "\n",
    "Key to understanding this problem is first understanding convex sets."
   ]
  },
  {
   "cell_type": "markdown",
   "id": "4adf7fa7",
   "metadata": {},
   "source": [
    "### Convex sets\n",
    "\n",
    "A set $S$ is convex if for every $x_1,x_2\\in S$ and $\\lambda \\in [0,1]$, then $\\lambda x_1 + (1-\\lambda)x_2\\in S$\n",
    "\n",
    "A nice property of convex sets is that the intersection of two convex sets $S_1$ and $S_2$ is also convex.\n",
    "\n",
    "*Proof*: we need to show that for every $\\lambda \\in [0,1]$ then $\\lambda x_1 + (1-\\lambda)x_2\\in S_1\\cap S_2$. To be a part of the set $S_1\\cap S_2$ we just need to show that the new point is in both sets. This is easily done, as $\\lambda x_1 + (1-\\lambda)x_2\\in S_1$ (convex property of $S_1$) and $\\lambda x_1 + (1-\\lambda)x_2\\in S_2$ (convex property of $S_2$)."
   ]
  },
  {
   "cell_type": "markdown",
   "id": "1ae52edc",
   "metadata": {},
   "source": [
    "### Relation to linear programming\n",
    "\n",
    "This relates to linear programming because every half-space is in fact a convex set.\n",
    "\n",
    "*Proof*: A half space $H$ is defined by $a^Tx\\leq b$. Consider two points $x_1,x_2\\in H$. Then the new point we want to check is $x=\\lambda x_1 + (1-\\lambda)x_2$. This can be plugged into the formula:\n",
    "\n",
    "$$a^Tx = a^T (\\lambda x_1 + (1-\\lambda)x_2) = \\lambda a^T x_1 + (1-\\lambda)a^Tx_2$$\n",
    "\n",
    "At most $a^T x_1$ and $a^T x_2$ are $b$, because they are both in the set, which means:\n",
    "\n",
    "$$\\lambda a^T x_1 + (1-\\lambda)a^Tx_2 \\leq \\lambda b + (1-\\lambda) b$$\n",
    "\n",
    "And so:\n",
    "\n",
    "$$\\lambda a^T x_1 + (1-\\lambda)a^Tx_2 \\leq b$$\n",
    "\n",
    "Therefore the point $x$ is in the set.\n",
    "\n",
    "Because every constraint is a convex set, the intersection of all constraints must be a convex set too. "
   ]
  },
  {
   "cell_type": "markdown",
   "id": "4311e995",
   "metadata": {},
   "source": [
    "### Extreme points and vertexes\n",
    "\n",
    "An extreme point $x$ is a value in the convex set such that it cannot be written as a combination of two other points. I.e., if $x=\\lambda x_1 + (1-\\lambda)x_2$, then $x=x_1=x_2$. It can be shown that any point in the set can be described as a weighted combination of the extreme points in the set (see Krein-Milman theorem!!!), but for now we are interested in how they relate to vertexes.\n",
    "\n",
    "A vertex is defined as a point in the convex set, where $n$ of the bounds are made 'tight' ($n$ refers to the number of dimensions here). If we take $n$ independent constraints and replace the $\\leq$ sign with $=$, then we have $n$ hyperplanes in an $n$ dimensional space, which describes a single point. For notation we can refer to the indexes of the chosen constraints as $I$, with $A_I$ and $b_I$ as the respective values (where $A_I$ is then a $n$ by $n$ matrix). Hence we are finding $x$ where $A_I^Tx=b_I$. We still do need to check that the other constraints are satisfied as well.\n",
    "\n",
    "A key insight into linear programming is that the extreme points and vertexes are the same.\n",
    "\n",
    "*Proof*: We need to show that every vertex in the set is an extreme point, and then that every non-vertex point is not.\n",
    "\n",
    "*Part 1*: Every vertex is an extreme point. Proof is by contradiction. Imagine that you had a vertex $x$, which could be defined \n",
    "\n",
    "$$x=\\lambda y+(1-\\lambda) z$$\n",
    "\n",
    "Then it must be true that\n",
    "\n",
    "$$A_Ix=b_I$$\n",
    "\n",
    "And then \n",
    "\n",
    "$$A_Ix=\\lambda A_Iy+(1-\\lambda) A_Iz=b_I$$\n",
    "\n",
    "$A_Iy$ and $A_Iz$ can be at most equal to $b$, and thus they both have to be $b$ in order to meet the condition above.\n",
    "\n",
    "Because $A_Ix=b_I$ only has 1 solution, $x=y=z$.\n",
    "\n",
    "*Part 2*: Every point which is not a vertex is not an extreme point.\n",
    "\n",
    "If a point $x$ is not a vertex it can intersect with at most $n-1$ constraints. Let those other constraints we denoted as the index set $J$. We need to find a vector to move the point $x$ along (forward or backward) such that none of these constraints is violated. This means solving $A_J^T(x+d)=b_J$. Which then means solving $A_J^Td=0$. We know because this involves at most $n-1$ constraints in $n$ dimensions that there is a possible non-zero setting for the vector $d$. As a result we can define two points $y=x+\\epsilon d$ and $z=x-\\epsilon d$ for a small enough $\\epsilon$ such that the other constraints are not violated, and $x=\\frac{1}{2}y+\\frac{1}{2}z$. This last step proves that $x$ is not an extreme point."
   ]
  },
  {
   "cell_type": "markdown",
   "id": "80f1e83c",
   "metadata": {},
   "source": [
    "### Final insight\n",
    "\n",
    "This is the last thing we need to get the logic behind the simplex algorithm.\n",
    "\n",
    "This comes from the key idea that the optimal solution to the linear program must lie at an extreme point.\n",
    "\n",
    "*Proof*: Say you have a non-extreme point $x$. This can then be written as a weighted sum of extreme points $\\sum_i \\lambda_i z_i$. AGAIN, see Krein-Milman theorem!!! Then the linear objective function of this point can be written as\n",
    "\n",
    "$$c^Tx = \\sum_i \\lambda_i c^Tz_i$$\n",
    "\n",
    "This function cannot exceed the highest value of $c^Tz_i$ (imagine $\\lambda_i=1$), so there is at least 1 extreme point with *at least* as high a value. Therefore the global optimum must lie at one of the extreme points.\n",
    "\n",
    "As a final note we can also show that if a vertex is not the global optima then it must be adjacent to a vertex which improves on it's function value. Why? It turns out to be a bit involved. See: https://www.cse.iitb.ac.in/~sundar/linear_optimization/lecture12a.pdf"
   ]
  },
  {
   "cell_type": "markdown",
   "id": "f19efea2",
   "metadata": {},
   "source": [
    "### The simplex algorithm\n",
    "\n",
    "The simplex algorithm basically moves between vertexes in the convex set. At each step we move to another vertex, if it improves the function. There are no local optima , so when we can't move to a better adjacent vertex then the optimal result has been found. Here is a crude version of the algorithm, which generates all neighbours, checks they don't break any other conditions, and finally picks one where the linear objective increases:"
   ]
  },
  {
   "cell_type": "code",
   "execution_count": 2,
   "id": "8de94232",
   "metadata": {},
   "outputs": [
    {
     "data": {
      "image/png": "[encoded data removed]",
      "text/plain": [
       "<Figure size 432x432 with 1 Axes>"
      ]
     },
     "metadata": {
      "needs_background": "light"
     },
     "output_type": "display_data"
    }
   ],
   "source": [
    "# lets make a test problem.\n",
    "A = np.array(\n",
    "    [[1,1],\n",
    "     [1,2],\n",
    "     [2,1],\n",
    "     [-1,1],\n",
    "     [-1,0], # -1 to encode the x>=0 condition as -x<=0\n",
    "     [0,-1]]\n",
    ")\n",
    "b = np.array([1.05,1.5,2,0.5,0,0])\n",
    "c = np.array([1,1])\n",
    "\n",
    "index_combinations = list(itertools.combinations(range(len(A)), 2))\n",
    "all_points = np.array([np.linalg.inv(A[np.array(comb)]).dot(b[np.array(comb)]) for comb in index_combinations])\n",
    "vertices = np.array([point for point in all_points if all(A.dot(point)<=b)])\n",
    "\n",
    "# plotting\n",
    "def make_2d_polyhedron_plot(vertices):\n",
    "    plt.figure(figsize=(6,6))\n",
    "    hull = ConvexHull(vertices)\n",
    "    plt.fill(vertices[hull.vertices, 0], vertices[hull.vertices, 1], 'lightblue', edgecolor='black', alpha=0.7)\n",
    "    min_axes = np.min(vertices)\n",
    "    max_axes = np.max(vertices)\n",
    "    plt.xlim(min_axes-(max_axes-min_axes)*0.1,max_axes+(max_axes-min_axes)*0.1)\n",
    "    plt.ylim(min_axes-(max_axes-min_axes)*0.1,max_axes+(max_axes-min_axes)*0.1)\n",
    "    plt.gca().set_aspect('equal')\n",
    "\n",
    "make_2d_polyhedron_plot(vertices)\n",
    "plt.show()"
   ]
  },
  {
   "cell_type": "code",
   "execution_count": 3,
   "id": "adb22901",
   "metadata": {
    "scrolled": false
   },
   "outputs": [
    {
     "name": "stdout",
     "output_type": "stream",
     "text": [
      "found 2 adjacent points\n"
     ]
    },
    {
     "data": {
      "image/png": "[encoded data removed]",
      "text/plain": [
       "<Figure size 432x432 with 1 Axes>"
      ]
     },
     "metadata": {
      "needs_background": "light"
     },
     "output_type": "display_data"
    },
    {
     "name": "stdout",
     "output_type": "stream",
     "text": [
      "possible scores [1.  0.5]\n",
      "moving to [1. 0.] with score 1.0\n",
      "found 2 adjacent points\n"
     ]
    },
    {
     "data": {
      "image/png": "[encoded data removed]",
      "text/plain": [
       "<Figure size 432x432 with 1 Axes>"
      ]
     },
     "metadata": {
      "needs_background": "light"
     },
     "output_type": "display_data"
    },
    {
     "name": "stdout",
     "output_type": "stream",
     "text": [
      "possible scores [0.   1.05]\n",
      "moving to [0.95 0.1 ] with score 1.05\n",
      "found 2 adjacent points\n"
     ]
    },
    {
     "data": {
      "image/png": "[encoded data removed]",
      "text/plain": [
       "<Figure size 432x432 with 1 Axes>"
      ]
     },
     "metadata": {
      "needs_background": "light"
     },
     "output_type": "display_data"
    },
    {
     "name": "stdout",
     "output_type": "stream",
     "text": [
      "possible scores [1.05 1.  ]\n",
      "no further improvement made\n"
     ]
    }
   ],
   "source": [
    "# to start the algorithm off, lets use the initial point by choosing the two last conditions (x1>0 and x2>0).\n",
    "# we know this point is inside the polyhedron by definition.\n",
    "current_indexes = np.array([4,5])\n",
    "current_point = np.linalg.inv(A[np.array(current_indexes)]).dot(b[np.array(current_indexes)])\n",
    "\n",
    "# now the algorithm proceeds by finding the two neighbours of that vertex and checking their values\n",
    "# then if one is an improvement, we go with that\n",
    "current_score = current_point.dot(c)\n",
    "for i in range(10):\n",
    "    adjacent_indexes = []\n",
    "    adjacent_points = []\n",
    "    for dimension in range(2):\n",
    "        for alternative in range(len(A)):\n",
    "            if not alternative in current_indexes: # can't be using this plane already\n",
    "                new_indexes = current_indexes.copy()\n",
    "                new_indexes[dimension]=alternative\n",
    "                new_point = np.linalg.inv(A[np.array(new_indexes)]).dot(b[np.array(new_indexes)])\n",
    "                if all(A.dot(new_point)<=b):\n",
    "                    adjacent_indexes.append(new_indexes)\n",
    "                    adjacent_points.append(new_point)\n",
    "    \n",
    "    print(\"found\",len(adjacent_points),\"adjacent points\")\n",
    "    \n",
    "    adjacent_points = np.array(adjacent_points)\n",
    "    make_2d_polyhedron_plot(vertices)\n",
    "    plt.scatter(current_point[0],current_point[1],color=\"red\",zorder=100)\n",
    "    plt.scatter(adjacent_points[:,0],adjacent_points[:,1],color=\"black\",zorder=100)\n",
    "    plt.show()\n",
    "    \n",
    "    new_scores = adjacent_points.dot(c)\n",
    "    \n",
    "    print(\"possible scores\", new_scores)\n",
    "    \n",
    "    if all(new_scores<=current_score):\n",
    "        print(\"no further improvement made\")\n",
    "        break\n",
    "    else:\n",
    "        current_indexes = adjacent_indexes[np.argmax(new_scores)]\n",
    "        current_point = adjacent_points[np.argmax(new_scores)]\n",
    "        current_score = current_point.dot(c)\n",
    "        print(\"moving to\",current_point,\"with score\",current_score)"
   ]
  },
  {
   "cell_type": "markdown",
   "id": "e0da08c8",
   "metadata": {},
   "source": [
    "### Improving this algorithm\n",
    "\n",
    "While this works, it is quite expensive. Calculating all the adjacent vertexes takes a long time as you are always needing to invert some subset of the rows in $A$. Fortunately there is a faster version of the algorithm, but in order to explain it we need to introduce some additional concepts."
   ]
  },
  {
   "cell_type": "markdown",
   "id": "6246b3a4",
   "metadata": {},
   "source": [
    "### Slack variables\n",
    "\n",
    "In most implementations of the simplex algorithm you will find them introducing the idea of slack variables. A slack variable is a *positive* variable just added on to the end of an inequality to represent the distance remaining before the constraint becomes 'tight'. These slack variables turn the inequalities it into equalities. E.g., $a+b<c$ becomes $a+b+s=c$. Note: we don't need to do this for the $a>0$ constraints, as in those cases $a$ already represents the distance.\n",
    "\n",
    "As a result the problem can be represented as\n",
    "\n",
    "$$\n",
    "\\begin{align*}\n",
    "\\text{maximise} \\quad & w^Tx \\\\\n",
    "\\text{subject to} \\quad & Ax = b \\\\\n",
    "\\text{} \\quad & x\\geq 0 \\\\\n",
    "\\end{align*}\n",
    "$$\n",
    "\n",
    "Where $x$ and $A$ have been modified to also include the slack variables.\n",
    "\n",
    "If the original problem has $d$ variables, $p$ half-space constraints (ignoring the $x\\geq 0$ ones), then the new $A$ has $p$ rows and $n$ columns, where $n=d+p$.\n",
    "\n",
    "Because each variable now represents the distance before hitting a particular constraint we know that for a vertex in the original polyhedron $d$ of these variables must be set to 0.\n",
    "\n",
    "We denote that set as the 'non-basic' variables ($N$), and the remaining set (length $p$) as the 'basic' variables ($B$). We can then write the formula $Ax=b$ as:\n",
    "\n",
    "$$\n",
    "\\begin{pmatrix}\n",
    "A_{N} & A_{B}\n",
    "\\end{pmatrix}\n",
    "\\begin{pmatrix}\n",
    "x_{N} \\\\ \n",
    "x_{B}\n",
    "\\end{pmatrix}\n",
    "=b\n",
    "$$\n",
    "\n",
    "Obviously, as all of $x_N$ is set to 0, this basically just becomes $A_Bx_B=b$. Note that here we are refering to the columns of $A$, not the rows (as before).\n",
    "\n",
    "This gives us another way to see the problem. In the first version we are looking for $d$ half-spaces to make 'tight' in order to identify a vertex point. This meant looking for $d$ rows in the original $A$ matrix and solving equal to their corresponding $b$'s. In this new version we are looking to set $d$ values in $x$ to 0, which means looking for a subset of $p$ *columns* in the new $A$ to *keep*, along with all entries in $b$. In the old case we solved a selection of $d$ equations, in this case we solve $p$ equations.\n",
    "\n",
    "As an example, consider I have the equations:\n",
    "\n",
    "$$\n",
    "\\begin{align*}\n",
    "x+y & \\leq 1 \\\\\n",
    "x & \\geq 0 \\\\\n",
    "y & \\geq 0\n",
    "\\end{align*}\n",
    "$$\n",
    "\n",
    "In the first case we might make the first and second half-spaces both tight, in which case:\n",
    "\n",
    "$$\n",
    "\\begin{align*}\n",
    "x+y & = 1 \\\\\n",
    "x & = 0\n",
    "\\end{align*}\n",
    "$$\n",
    "\n",
    "Which gives the trivial result $y=1$. \n",
    "\n",
    "With this new approach we add a slack variable, which means:\n",
    "\n",
    "$$x + y + s = 1$$\n",
    "\n",
    "If we set $x$ and $s$ to 0, then we just have one equation to solve:\n",
    "\n",
    "$$0 + y + 0 = 1$$\n",
    "\n",
    "Which gives $y=1$ too.\n",
    "\n"
   ]
  },
  {
   "cell_type": "markdown",
   "id": "d533a042",
   "metadata": {},
   "source": [
    "### Pivot calculations\n",
    "\n",
    "We now need to calculate whether increasing a non-basic variable $x_j$ will improve the result. We know that $Ax=b$, which can then be broken down into:\n",
    "\n",
    "$$A_Bx_B + A_jx_j = b$$\n",
    "\n",
    "(All the other variables are 0, splitting out the new $j$'th column).\n",
    "\n",
    "If we solve this for $x_B$ we get:\n",
    "\n",
    "$$x_B = A_B^{-1}(b - A_jx_j)$$\n",
    "\n",
    "The objective is then:\n",
    "\n",
    "$$ c_Bx_B + c_jx_j = c_BA_B^{-1}(b - A_jx_j) + c_jx_j $$\n",
    "\n",
    "Which can be rewritten as:\n",
    "\n",
    "$$ c_BA_B^{-1}b - c_BA_B^{-1}A_jx_j + c_jx_j $$\n",
    "\n",
    "If we take the gradient wrt. $x_j$ we get:\n",
    "\n",
    "$$ c_j - c_BA_B^{-1}A_j $$\n",
    "\n",
    "If this quantitity is *positive* it means that we are improving the solution. What is happening here is we are pushing the current point away from one of the 'tight' bounds it was up against. Instead of saying that the point had to lie at the edge of the half-space (which is what a non-basic variable says, when the weight is 0), we now move it a tiny bit further away (Note: there is still only 1 point which then satisfies all equations). If the objective increases as we move the point further along, then we want to continue until we hit another vertex.\n",
    "\n",
    "We need to make sure that none of the basis variables fall below 0. From before we know:\n",
    "\n",
    "$$x_B = A_B^{-1}(b - A_jx_j)$$\n",
    "\n",
    "Which means for a given index $i$:\n",
    "\n",
    "$$x_{Bi} = A_{Bi}^{-1}(b_i - A_{ji}x_j)$$\n",
    "\n",
    "Which becomes:\n",
    "\n",
    "$$0 = A_{Bi}^{-1}b_i - A_{Bi}^{-1}A_{ji}x_j$$\n",
    "\n",
    "And then:\n",
    "\n",
    "$$x_j = A_{Bi}^{-1}b_i / A_{Bi}^{-1}A_{ji}$$\n",
    "\n",
    "Finally:\n",
    "\n",
    "$$x_j = A_{Bi}^{-1}(b_i / A_{ji})$$\n",
    "\n",
    "So to find the largest value of $x_j$ possible we just calculate $A_B^{-1} \\frac{b}{A_j}$ and take the minimum. This means 1 variable has exited the basis (gone to 0) and another has entered the basis. \n",
    "\n",
    "This gives us a new way to do the simplex algorithm. Below we show this new approach, and then later we discuss the final improvement which gets rid of the need to calculate $A_B^{-1}$"
   ]
  },
  {
   "cell_type": "code",
   "execution_count": 4,
   "id": "4deedc97",
   "metadata": {},
   "outputs": [
    {
     "name": "stdout",
     "output_type": "stream",
     "text": [
      "B: [2 3 4 5]\n",
      "x: [0.   0.   1.05 1.5  2.   0.5 ]\n"
     ]
    },
    {
     "data": {
      "image/png": "[encoded data removed]",
      "text/plain": [
       "<Figure size 432x432 with 1 Axes>"
      ]
     },
     "metadata": {
      "needs_background": "light"
     },
     "output_type": "display_data"
    },
    {
     "name": "stdout",
     "output_type": "stream",
     "text": [
      "gradients: [1. 1. 0. 0. 0. 0.]\n",
      "entering index: 0\n",
      "ratios: [1.05 1.5  1.    inf]\n",
      "exiting index: 4\n",
      "B: [2 3 0 5]\n",
      "x: [1.   0.   0.05 0.5  0.   1.5 ]\n"
     ]
    },
    {
     "data": {
      "image/png": "[encoded data removed]",
      "text/plain": [
       "<Figure size 432x432 with 1 Axes>"
      ]
     },
     "metadata": {
      "needs_background": "light"
     },
     "output_type": "display_data"
    },
    {
     "name": "stdout",
     "output_type": "stream",
     "text": [
      "gradients: [ 0.   0.5  0.   0.  -0.5  0. ]\n",
      "entering index: 1\n",
      "ratios: [0.05  inf 1.   1.5 ]\n",
      "exiting index: 2\n",
      "B: [1 3 0 5]\n",
      "x: [0.95 0.1  0.   0.35 0.   1.35]\n"
     ]
    },
    {
     "data": {
      "image/png": "[encoded data removed]",
      "text/plain": [
       "<Figure size 432x432 with 1 Axes>"
      ]
     },
     "metadata": {
      "needs_background": "light"
     },
     "output_type": "display_data"
    },
    {
     "name": "stdout",
     "output_type": "stream",
     "text": [
      "gradients: [ 0.  0. -1.  0.  0.  0.]\n",
      "gradients all negative, exiting\n"
     ]
    }
   ],
   "source": [
    "# make A from above, but with the slack variables (and without the >0 conditions)\n",
    "A_ = np.array(\n",
    "    [[1,1,1,0,0,0],\n",
    "     [1,2,0,1,0,0],\n",
    "     [2,1,0,0,1,0],\n",
    "     [-1,1,0,0,0,1]]\n",
    ")\n",
    "b_ = np.array([1.05,1.5,2,0.5])\n",
    "c_ = np.array([1,1,0,0,0,0]) # values of 0 for the slack variables\n",
    "\n",
    "B = np.array([2,3,4,5]) # these are the p columns in A we are keeping, starting the x1 and x2 set to 0.\n",
    "\n",
    "for i in range(1000):\n",
    "    A_B_inv = np.linalg.inv(A_[:,B])\n",
    "    x_ = np.zeros(6)\n",
    "    x_[B] = A_B_inv.dot(b_)\n",
    "    print(\"B:\",B)\n",
    "    print(\"x:\",x_)\n",
    "    make_2d_polyhedron_plot(vertices)\n",
    "    plt.scatter(x_[0],x_[1],color=\"red\",zorder=100)\n",
    "    plt.show()\n",
    "    gradients = c_ - c_[B].dot(A_B_inv).dot(A_)\n",
    "    print(\"gradients:\", gradients)\n",
    "    if(max(gradients)<=0):\n",
    "        print(\"gradients all negative, exiting\")\n",
    "        break\n",
    "    else:\n",
    "        entering_index = np.argmax(gradients)\n",
    "        print(\"entering index:\",entering_index)\n",
    "        ratios = A_B_inv.dot(b_ / A_[:,entering_index])\n",
    "        ratios[ratios<0] = np.inf\n",
    "        print(\"ratios:\",ratios)\n",
    "        exiting_index = B[np.argmin(ratios)]\n",
    "        print(\"exiting index:\",exiting_index)\n",
    "        B[B==exiting_index]=entering_index"
   ]
  },
  {
   "cell_type": "markdown",
   "id": "ff4907e8",
   "metadata": {},
   "source": [
    "This can then be improved in two further ways, described in: https://resources.mpi-inf.mpg.de/departments/d1/teaching/ss11/OPT/lec6.pdf\n",
    "\n",
    "Firstly, we can make the computation of $A_B^{-1}$ cheaper, by using useful formulas for updating the inverse of a matrix when only 1 column changes (also see Sherman-Morrison formula).\n",
    "\n",
    "### Calculating the inverse changes faster\n",
    "\n",
    "In order to calculate the inverse of the matrix we use gauss-jordan elimination. Say we have the matrix $A$:\n",
    "\n",
    "$$\n",
    "\\begin{bmatrix}\n",
    "3 & 1 & 0 \\\\\n",
    "1 & -1 & 0 \\\\\n",
    "0 & 1 & 1\n",
    "\\end{bmatrix}\n",
    "$$\n",
    "\n",
    "We create a new matrix defined as $\\begin{bmatrix}A & I\\end{bmatrix}$, where $I$ is the identity:\n",
    "\n",
    "$$\n",
    "\\begin{bmatrix}\n",
    "3 & 1 & 0 & 1 & 0 & 0 \\\\\n",
    "1 & -1 & 0 & 0 & 1 & 0 \\\\\n",
    "0 & 1 & 1 & 0 & 0 & 1\n",
    "\\end{bmatrix}\n",
    "$$\n",
    "\n",
    "By applying elementary row operations we can transform this matrix. To have the identity on the left. I.e.,\n",
    "\n",
    "$\n",
    "\\begin{bmatrix}\n",
    "3 & 1 & 0 & 1 & 0 & 0 \\\\\n",
    "1 & -1 & 0 & 0 & 1 & 0 \\\\\n",
    "0 & 1 & 1 & 0 & 0 & 1\n",
    "\\end{bmatrix}\n",
    "$\n",
    "\n",
    "*Dividing the top row by 3*\n",
    "\n",
    "$\n",
    "\\begin{bmatrix}\n",
    "1 & \\frac{1}{3} & 0 & \\frac{1}{3} & 0 & 0 \\\\\n",
    "1 & -1 & 0 & 0 & 1 & 0 \\\\\n",
    "0 & 1 & 1 & 0 & 0 & 1\n",
    "\\end{bmatrix}\n",
    "$\n",
    "\n",
    "*Subtracting top row out from the other rows*\n",
    "\n",
    "$\n",
    "\\begin{bmatrix}\n",
    "1 & \\frac{1}{3} & 0 & \\frac{1}{3} & 0 & 0 \\\\\n",
    "0 & -\\frac{4}{3} & 0 & -\\frac{1}{3} & 1 & 0 \\\\\n",
    "0 & 1 & 1 & 0 & 0 & 1\n",
    "\\end{bmatrix}\n",
    "$\n",
    "\n",
    "*Dividing the second row by $-\\frac{4}{3}$*\n",
    "\n",
    "$\n",
    "\\begin{bmatrix}\n",
    "1 & \\frac{1}{3} & 0 & \\frac{1}{3} & 0 & 0 \\\\\n",
    "0 & 1 & 0 & \\frac{1}{4} & -\\frac{3}{4} & 0 \\\\\n",
    "0 & 1 & 1 & 0 & 0 & 1\n",
    "\\end{bmatrix}\n",
    "$\n",
    "\n",
    "*Subtracting middle row out from the other rows*\n",
    "\n",
    "$\n",
    "\\begin{bmatrix}\n",
    "1 & 0 & 0 & \\frac{1}{4} & \\frac{1}{4} & 0 \\\\\n",
    "0 & 1 & 0 & \\frac{1}{4} & -\\frac{3}{4} & 0 \\\\\n",
    "0 & 0 & 1 & -\\frac{1}{4} & \\frac{3}{4} & 1\n",
    "\\end{bmatrix}\n",
    "$\n",
    "\n",
    "This now gives us the matrix $\\begin{bmatrix}I & A^{-1}\\end{bmatrix}$\n",
    "\n",
    "Why? Because when we do row operations we are essentially pre-multiplying our original formula by some matrix $Q$. So we have:\n",
    "\n",
    "$$Q\\begin{bmatrix}A & I\\end{bmatrix} = \\begin{bmatrix}I & K\\end{bmatrix}$$\n",
    "\n",
    "Which means $K=QI=Q$, and because $QA=I$ then $Q$ is the inverse $A^{-1}$.\n",
    "\n",
    "With the simplex method we are replacing 1 column in $A$. E.g., say we replace the second column in $A$ with \n",
    "\n",
    "$$\n",
    "\\begin{bmatrix}\n",
    "4 \\\\\n",
    "2 \\\\\n",
    "1\n",
    "\\end{bmatrix}\n",
    "$$\n",
    "\n",
    "If we then apply all the same transformations as before, then all that will happen is the second column will change as well (because we are just applying row operations). The new values in the second column can then be found easily by re-running the row operations from before (i.e., pre-multiplying by $Q$):\n",
    "\n",
    "$$\n",
    "\\begin{bmatrix}\n",
    "\\frac{1}{4} & \\frac{1}{4} & 0 \\\\\n",
    "\\frac{1}{4} & -\\frac{3}{4} & 0 \\\\\n",
    "-\\frac{1}{4} & \\frac{3}{4} & 1\n",
    "\\end{bmatrix}\n",
    "\\begin{bmatrix}\n",
    "4 \\\\\n",
    "2 \\\\\n",
    "1\n",
    "\\end{bmatrix}\n",
    "=\n",
    "\\begin{bmatrix}\n",
    "\\frac{3}{2} \\\\\n",
    "-\\frac{1}{2} \\\\\n",
    "\\frac{3}{2}\n",
    "\\end{bmatrix}\n",
    "$$\n",
    "\n",
    "So we end up with a matrix where most of the work has already been done:\n",
    "\n",
    "$\n",
    "\\begin{bmatrix}\n",
    "1 & \\frac{3}{2} & 0 & \\frac{1}{4} & \\frac{1}{4} & 0 \\\\\n",
    "0 & -\\frac{1}{2} & 0 & \\frac{1}{4} & -\\frac{3}{4} & 0 \\\\\n",
    "0 & \\frac{3}{2} & 1 & -\\frac{1}{4} & \\frac{3}{4} & 1\n",
    "\\end{bmatrix}\n",
    "$\n",
    "\n",
    "All we then need to do is apply a few row operations again to get the identity:\n",
    "\n",
    "*Dividing the middle row by $-\\frac{1}{2}$*\n",
    "\n",
    "$\n",
    "\\begin{bmatrix}\n",
    "1 & \\frac{3}{2} & 0 & \\frac{1}{4} & \\frac{1}{4} & 0 \\\\\n",
    "0 & 1 & 0 & -\\frac{1}{2} & \\frac{3}{2} & 0 \\\\\n",
    "0 & \\frac{3}{2} & 1 & -\\frac{1}{4} & \\frac{3}{4} & 1\n",
    "\\end{bmatrix}\n",
    "$\n",
    "\n",
    "*Subtracting middle row out from the other rows*\n",
    "\n",
    "$\n",
    "\\begin{bmatrix}\n",
    "1 & 0 & 0 & 1 & -2 & 0 \\\\\n",
    "0 & 1 & 0 & -\\frac{1}{2} & \\frac{3}{2} & 0 \\\\\n",
    "0 & 0 & 1 & \\frac{1}{2} & -\\frac{3}{2} & 1\n",
    "\\end{bmatrix}\n",
    "$\n",
    "\n",
    "This enables us to update the inverse fairly quickly. I haven't written the code for this, as it would be essentially the same as the above."
   ]
  },
  {
   "cell_type": "code",
   "execution_count": 5,
   "id": "f6f35b65",
   "metadata": {},
   "outputs": [
    {
     "name": "stdout",
     "output_type": "stream",
     "text": [
      "[[ 1.  -2.   0. ]\n",
      " [-0.5  1.5  0. ]\n",
      " [ 0.5 -1.5  1. ]]\n"
     ]
    }
   ],
   "source": [
    "print(np.linalg.inv(np.array([[3,4,0],[1,2,0],[0,1,1]])))"
   ]
  },
  {
   "cell_type": "markdown",
   "id": "9eaa8632",
   "metadata": {},
   "source": [
    "### Finally, the tableau method\n",
    "\n",
    "Now that we have gone through everything above it's possible to introduce the tableau method for running the simplex algorithm. With the tableau method all we do is store $A_B^{-1}A$ and $A_B^{-1}b$ instead of the inverse itself. Each column in the tableau represents a variable (including the slack ones). The values are $A_B^{-1}A$. We also have an additional column on the right for $A_B^{-1}b$, a column on the left for $B$, and the gradients are also stored in an additional row at the bottom. Taking the problem from before the tableau would start out as:"
   ]
  },
  {
   "cell_type": "markdown",
   "id": "9f2bceef",
   "metadata": {},
   "source": [
    "$\n",
    "\\begin{array}{c|cccccc|c}\n",
    "\\text{basis} & x_1 & x_2 & s_1 & s_2 & s_3 & s_4 & \\text{solution} \\\\\n",
    "\\hline\n",
    "s_1 & 1 & 1 & 1 & 0 & 0 & 0 & 1.05 \\\\\n",
    "s_2 & 1 & 2 & 0 & 1 & 0 & 0 & 1.5 \\\\\n",
    "s_3 & 2 & 1 & 0 & 0 & 1 & 0 & 2 \\\\\n",
    "s_4 & -1 & 1 & 0 & 0 & 0 & 1 & 0.5 \\\\\n",
    "\\hline\n",
    "Z & -1 & -1 & 0 & 0 & 0 & 0 & 0 \\\\\n",
    "\\end{array}\n",
    "$\n",
    "\n",
    "The tableau starts this way because when we select all the slack variables to form our basis the matrix $A_B^{-1}$ is just the identity. Therefore the values on the right are just $b$ and the values in the middle are just $A$. The values at the bottom are the negative gradients, which it's easy to see are also just $-c$. The bottom right cell contains the current objective function.\n",
    "\n",
    "Using this table it is easy to calculate what our entering and exiting variables should be. To get our entering variable we need to find one where the gradient is positive (or the negative gradient is negative). Here this could be $x_1$. Then we need to find our exiting variable, which requires finding the minimum of the positive values of the ratios $A_B^{-1}(b / A_j)$. This is then just $A_B^{-1}b / A_B^{-1}A_j$, so we just divide the values in our solution column by the values in the main bit of the tableau. Using $x_1$ as our entering variable we get:\n",
    "\n",
    "$\n",
    "\\begin{array}{c|cccccc|c|c}\n",
    "\\text{basis} & x_1 & x_2 & s_1 & s_2 & s_3 & s_4 & \\text{solution} & \\text{ratio} \\\\\n",
    "\\hline\n",
    "s_1 & 1 & 1 & 1 & 0 & 0 & 0 & 1.05 & 1.05 \\\\\n",
    "s_2 & 1 & 2 & 0 & 1 & 0 & 0 & 1.5 & 1.5 \\\\\n",
    "s_3 & 2 & 1 & 0 & 0 & 1 & 0 & 2 & 1 \\\\\n",
    "s_4 & -1 & 1 & 0 & 0 & 0 & 1 & 0.5 & -0.5 \\\\\n",
    "\\hline\n",
    "Z & -1 & -1 & 0 & 0 & 0 & 0 & 0 \\\\\n",
    "\\end{array}\n",
    "$\n",
    "\n",
    "From this we can see the exiting variable will be $s_3$. So $s_3$ will be set to 0, and $x_1$ will be free. Now the magic is how we update $A_B^{-1}A$ and $A_B^{-1}b$.\n",
    "\n",
    "This is a bit tricky, but goes like this. What we are going to do is apply elementary row operations to set our entering variable column to 1 in the exiting variable row, and 0 elsewhere. In the case where we are removing $s_3$ and adding $x_1$ this means moving to:\n",
    "\n",
    "$\n",
    "\\begin{array}{c|cccccc|c}\n",
    "\\text{basis} & x_1 & x_2 & s_1 & s_2 & s_3 & s_4 & \\text{solution} \\\\\n",
    "\\hline\n",
    "s_1 & 0 & -\\frac{1}{2} & 1 & 0 & -\\frac{1}{2} & 0 & 0.05 \\\\\n",
    "s_2 & 0 & \\frac{3}{2} & 0 & 1 & -\\frac{1}{2} & 0 & 0.5 \\\\\n",
    "x_1 & 1 & \\frac{1}{2} & 0 & 0 & \\frac{1}{2} & 0 & 1 \\\\\n",
    "s_4 & 0 & \\frac{3}{2} & 0 & 0 & \\frac{1}{2} & 1 & 1.5 \\\\\n",
    "\\hline\n",
    "Z & 0 & -\\frac{1}{2} & 0 & 0 & \\frac{1}{2} & 0 & 1 \\\\\n",
    "\\end{array}\n",
    "$\n",
    "\n",
    "Now we can note that this new transformation was just like pre-multiplying by some $Q$ on the original table, so $QA_B^{-1}A$ and $QA_B^{-1}b$. Now if we look at the new basis variables ($B_{new}$) we can see that they form the identity matrix (as none of the remaining basis variable columns were affected, and the transform was designed to fix the entering variable column). As a result we can say $QA_B^{-1}A_{B_{new}}=I$. This can then be refactored to show $QA_B^{-1}=A_{B_{new}}^{-1}$. I.e., the transformations we have applied have been exactly the transforms we would have applied to the inverse matrix, if we were doing it that way. It then follows that the solutions to the variables we do store have been updated correctly too. \n",
    "\n",
    "The final final thing to get is why the last row (the gradients / objective) is also updated in the same manner. The gradients in the final row are given by the formula $c - c_B^TA_B^{-1}A$. When we get the value in the entering variable column to 0 what we are doing is adding a new row from $A_B^{-1}A$ multiplied by a constant $\\lambda$. We can write this row as $dA$, where $d$ is the row in $A_B^{-1}$. This means our new values will be $c - (c_B^TA_B^{-1}-\\lambda d)A$. We need to show then that $c_B^TA_B^{-1}-\\lambda d$ is equal to $c_{B_{new}}^TA_{B_{new}}^{-1}$. If we can show that, then the formula is the same. \n",
    "\n",
    "The cost of all new basis variables under this scheme will always be 0. Thus we have $c_{B_{new}} - (c_B^TA_B^{-1}-\\lambda d)A_{B_{new}}=0$. This can be re-written as $(c_B^TA_B^{-1}-\\lambda d)A_{B_{new}}=c_{B_{new}}$, and then finally as $(c_B^TA_B^{-1}-\\lambda d)=c_{B_{new}}A_{B_{new}}^{-1}$.\n",
    "\n",
    "Finally finally finally, we should show that these row operations / pivots also maintain the objective function value in the bottom corner. This is done in exactly the same manner as the above. See https://resources.mpi-inf.mpg.de/departments/d1/teaching/ss11/OPT/lec6.pdf for more details."
   ]
  },
  {
   "cell_type": "markdown",
   "id": "2de0f50c",
   "metadata": {},
   "source": [
    "### Extension of the approach\n",
    "\n",
    "At first glance linear programming might seem limited, particularly as we can't have negative variables. However, it turns out that a lot of problems can be reformulated into the above structure by converting weights or adding variables. E.g., \n",
    "* If we have a value $x$ which can be negative, we can then replace it with two positive variables $q$ and $u$, where $x = q - u$. For every instance of $x$ in a formula we just replace it with $q - u$. \n",
    "* To deal with $\\geq$ conditions we can just flip the corresponding weights.\n",
    "* For equalities we can just use a $\\geq$ and $\\leq$ condition at the same time."
   ]
  }
 ],
 "metadata": {
  "kernelspec": {
   "display_name": "Python 3",
   "language": "python",
   "name": "python3"
  },
  "language_info": {
   "codemirror_mode": {
    "name": "ipython",
    "version": 3
   },
   "file_extension": ".py",
   "mimetype": "text/x-python",
   "name": "python",
   "nbconvert_exporter": "python",
   "pygments_lexer": "ipython3",
   "version": "3.9.4"
  }
 },
 "nbformat": 4,
 "nbformat_minor": 5
}
