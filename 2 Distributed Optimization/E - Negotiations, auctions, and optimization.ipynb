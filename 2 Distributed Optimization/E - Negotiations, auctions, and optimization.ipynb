{
 "cells": [
  {
   "cell_type": "code",
   "execution_count": 10,
   "id": "cd7d3c86",
   "metadata": {},
   "outputs": [],
   "source": [
    "import numpy as np\n",
    "import matplotlib.pyplot as plt\n",
    "from scipy.optimize import linprog"
   ]
  },
  {
   "cell_type": "markdown",
   "id": "d9c915fe",
   "metadata": {},
   "source": [
    "## 2.3 Negotiations, auctions, and optimization\n",
    "### 2.3.1 From contract nets to auction-like optimization\n",
    "In a contract net we have a global problem, made up of a number of tasks. For each agent there is a cost function $c_i(T)$ reflecting the cost of agent $i$ to do all the tasks $T$. We start agents out with random tasks, and want them to swap and exchange them in order to lower the sum of the individual costs. In future chapters we will look at how to do this with agents which are also self-interested. First, we derive a linear progrmaming solution to this problem. \n",
    "### 2.3.2 The assignment problem and linear programming\n",
    "In a (symmetric) assignment problem we have a set $N$ of agents, a set $X$ of objects, a set of possible assignment pairs $M$, and a function $v$ which tells us what the value of an assignment pair is. At the moment we just consider that we have at most 1 object per agent. A valid assignment is then a set of pairs $S\\subseteq M$, which has the property that each each agent $i$ and object $j$ is in at most 1 pair. A feasable assignment is one in which all agents are assigned an object, and an optimal assignment is one in which the sum of the values is maximised. \n",
    "\n",
    "This problem can be expressed as a linear program. We introduce an indicator matrix $x$ where $x_{i,j}=1$ if the pair ($i$,$j$) is selected. Then the linear program is:\n",
    "\n",
    "$$\n",
    "\\begin{align*}\n",
    "\\text{maximise} \\quad & \\sum_{i,j\\in M} v(i,j)x_{i,j} \\\\\n",
    "\\text{subject to} \\quad & \\sum_{j} x_{i,j}<=1 \\\\\n",
    "\\text{} \\quad & \\sum_{i} x_{i,j}<=1\n",
    "\\end{align*}\n",
    "$$\n",
    "\n",
    "While this might seem incorrect, as this would seem to possibly create partial assignments, in truth the answers turn out to be integers. In fact, every linear program encoding of an assignment problem has an integer solution. Solving a linear program can be done in polynomial time, using the simplex algorithm."
   ]
  },
  {
   "cell_type": "code",
   "execution_count": 30,
   "id": "7b23365b",
   "metadata": {},
   "outputs": [
    {
     "name": "stdout",
     "output_type": "stream",
     "text": [
      "resulting weights:\n",
      "[0. 1. 0. 1. 0. 0. 0. 0. 1.]\n",
      "assignment\n",
      "[('john', 'dog'), ('mary', 'cat'), ('leon', 'hat')]\n"
     ]
    }
   ],
   "source": [
    "agents = [\"john\",\"mary\",\"leon\"]\n",
    "objects = [\"cat\",\"dog\",\"hat\"]\n",
    "value_dict = {\n",
    "    (\"john\",\"cat\"):1,(\"john\",\"dog\"):3,(\"john\",\"hat\"):1,\n",
    "    (\"mary\",\"cat\"):5,(\"mary\",\"dog\"):1,(\"mary\",\"hat\"):0,\n",
    "    (\"leon\",\"cat\"):2,(\"leon\",\"dog\"):2,(\"leon\",\"hat\"):3,\n",
    "}\n",
    "value_vector = list(value_dict.values())\n",
    "x = np.zeros(9)\n",
    "A = np.array([\n",
    "    [1,1,1,0,0,0,0,0,0], # john can't be assigned to more than 1 item.\n",
    "    [0,0,0,1,1,1,0,0,0], # mary\n",
    "    [0,0,0,0,0,0,1,1,1], # leon\n",
    "    [1,0,0,1,0,0,1,0,0], # the cat can't be assigned to more than 1 person\n",
    "    [0,1,0,0,1,0,0,1,0], # the dog\n",
    "    [0,0,1,0,0,1,0,0,1], # the hat\n",
    "])\n",
    "b = np.ones(6)\n",
    "res = linprog(-np.array(value_vector), A_ub=A, b_ub=b, bounds=[(0,None) for _ in range(9)])\n",
    "print(\"resulting weights:\")\n",
    "print(res[\"x\"])\n",
    "print(\"assignment\")\n",
    "assignment = [list(value_dict.keys())[i] for i in np.where(res[\"x\"]==1)[0]]\n",
    "print(assignment)"
   ]
  },
  {
   "cell_type": "markdown",
   "id": "137aa56f",
   "metadata": {},
   "source": [
    "the problem with this is that it isn't particularly parallelizable, and that small changes in the inputs mean the problem has to be redone from scratch. Here we explore an alternative, based on the idea of competitive equilibrium:\n",
    "\n",
    "#### The assignment problem and competitive equilibrium\n",
    "\n",
    "Imagine that the goods in $S$ have a price $p$, and lets define the utility of an agent as $u(i,j)=v(i,j)-p_j$.\n",
    "\n",
    "An assignment and a set of prices are in *competitive equilibrium* if each agent is assigned an object which maximises their utility. I.e., every $u(i,j)>u(i,k)$.\n",
    "\n",
    "While this seems odd, as we don't really have the concept of prices, it turns out that there is a nice theorem about competitive equilibrium:\n",
    "\n",
    "***Theorem***\n",
    "\n",
    "If a feasible assignment and a price vector are in competitive equilibrium, then $S$ is an optimal assignment. At the same time, for any optimal solution $S$, there is a corresponding price vector such that the two satisfy the competitive equilibrium property.\n",
    "\n",
    "#### competitive equilibrium and primal-dual problems\n",
    "\n",
    "\n",
    "\n",
    "\n",
    "\n",
    "\n",
    "What this theorem means is that one way to search the space of possible assignments is to instead have the agents 'bid' for the goods."
   ]
  },
  {
   "cell_type": "code",
   "execution_count": null,
   "id": "2824a20c",
   "metadata": {},
   "outputs": [],
   "source": []
  }
 ],
 "metadata": {
  "kernelspec": {
   "display_name": "Python 3",
   "language": "python",
   "name": "python3"
  },
  "language_info": {
   "codemirror_mode": {
    "name": "ipython",
    "version": 3
   },
   "file_extension": ".py",
   "mimetype": "text/x-python",
   "name": "python",
   "nbconvert_exporter": "python",
   "pygments_lexer": "ipython3",
   "version": "3.9.4"
  }
 },
 "nbformat": 4,
 "nbformat_minor": 5
}
