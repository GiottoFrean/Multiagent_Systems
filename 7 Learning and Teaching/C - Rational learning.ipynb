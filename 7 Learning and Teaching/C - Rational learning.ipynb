{
 "cells": [
  {
   "cell_type": "code",
   "execution_count": 1,
   "id": "e3db6f6e-4139-4de2-a356-643e2697ff5b",
   "metadata": {},
   "outputs": [],
   "source": [
    "import numpy as np\n",
    "import matplotlib.pyplot as plt"
   ]
  },
  {
   "cell_type": "markdown",
   "id": "2e01611b-1b78-4431-8a83-05a6477a51d5",
   "metadata": {},
   "source": [
    "## 7.3 Rational learning\n",
    "\n",
    "This is basically the same as fictitious play, except we allow agents to have a model over *all* strategies their opponent might employ, not just the ones for a single game. For example, tit-for-tat. Player update their beliefs about the probability of their opponent's strategy given the history of games. The book gives an example of the repeated Prisoner's Dilemma:\n",
    "\n",
    "$$\n",
    "\\begin{array}{c|cc}\n",
    "\\text{} & \\text{C} & \\text{D} \\\\\n",
    "\\hline\n",
    "\\text{C} & 3,3 & 0,4 \\\\\n",
    "\\text{D} & 4,0 & 1,1 \\\\\n",
    "\\end{array}\n",
    "$$\n",
    "\n",
    "Let's say that players employ the trigger strategy up to a time of their choosing, $t$, after which they defect. They don't do mixtures but will adjust their best-response strategy. The strategy is denoted $g_t$. After $j$ steps of cooperation the likelihood of the other player having strategy $g_t$ is 0 if $t<j$ otherwise uniform. The update rule is therefore pretty simple, we just re-normalize the prior over the remaining options. Say I start having the following distribution:\n",
    "\n",
    "$$\n",
    "P(t) =\n",
    "\\begin{cases}\n",
    "\\frac{1}{10} & t=0 \\\\\n",
    "\\frac{2}{10} & t=1 \\\\\n",
    "\\frac{4}{10} & t=2 \\\\\n",
    "\\frac{3}{10} & t=3\n",
    "\\end{cases}\n",
    "$$\n",
    "\n",
    "After 1 iteration if my opponent cooperated the new distribution is just\n",
    "\n",
    "$$\n",
    "P(t) =\n",
    "\\begin{cases}\n",
    "0 & t=0 \\\\\n",
    "\\frac{2}{9} & t=1 \\\\\n",
    "\\frac{4}{9} & t=2 \\\\\n",
    "\\frac{3}{9} & t=3\n",
    "\\end{cases}\n",
    "$$\n",
    "\n",
    "And after 2...\n",
    "\n",
    "$$\n",
    "P(t) =\n",
    "\\begin{cases}\n",
    "0 & t=0 \\\\\n",
    "0 & t=1 \\\\\n",
    "\\frac{4}{7} & t=2 \\\\\n",
    "\\frac{3}{7} & t=3\n",
    "\\end{cases}\n",
    "$$\n",
    "\n",
    "etc etc.\n",
    "\n",
    "As another example let's imagine that in the above case players play either tit-for-tat, always cooperate, always defect, or do the trigger strategy."
   ]
  },
  {
   "cell_type": "code",
   "execution_count": 2,
   "id": "e26eebcd-9c4a-4fb3-adb0-b88b0933a351",
   "metadata": {},
   "outputs": [
    {
     "name": "stdout",
     "output_type": "stream",
     "text": [
      "[('C', 'D'), ('D', 'D'), ('D', 'D'), ('D', 'D'), ('D', 'D')]\n"
     ]
    }
   ],
   "source": [
    "# Strategies: 0 = Tit-for-Tat, 1 = Always Cooperate, 2 = Always Defect, 3 = Trigger\n",
    "def move(strategy, last_self, last_other, step, triggered):\n",
    "    if strategy == 0:\n",
    "        return \"C\" if last_other is None else last_other\n",
    "    elif strategy == 1:\n",
    "        return \"C\"\n",
    "    elif strategy == 2:\n",
    "        return \"D\"\n",
    "    elif strategy == 3:\n",
    "        return \"D\" if triggered else \"C\"\n",
    "    else:\n",
    "        raise ValueError(\"Unknown strategy\")\n",
    "\n",
    "def play_round(strategy1, strategy2, history):\n",
    "    last1, last2 = (None, None) if not history else history[-1]\n",
    "    trig1 = any(m2 == \"D\" for (_, m2) in history) if history else False\n",
    "    trig2 = any(m1 == \"D\" for (m1, _) in history) if history else False\n",
    "    m1 = move(strategy1, last1, last2, len(history), trig1)\n",
    "    m2 = move(strategy2, last2, last1, len(history), trig2)\n",
    "    return m1, m2\n",
    "\n",
    "def generate_history(strategy1, strategy2, steps):\n",
    "    history = []\n",
    "    for _ in range(steps):\n",
    "        history.append(play_round(strategy1, strategy2, history))\n",
    "    return history\n",
    "\n",
    "hist = generate_history(0, 2, 5) # Tit-for-Tat vs Always Defect\n",
    "print(hist)"
   ]
  },
  {
   "cell_type": "code",
   "execution_count": 4,
   "id": "bfb715b8-2ea9-4c15-ac3c-441869f2dee5",
   "metadata": {},
   "outputs": [
    {
     "name": "stdout",
     "output_type": "stream",
     "text": [
      "[0.33333333 0.33333333 0.         0.33333333]\n"
     ]
    }
   ],
   "source": [
    "def update_beliefs(my_strategy, beliefs, history, player):\n",
    "    new_beliefs = beliefs.copy()\n",
    "    for other_strategy in range(len(beliefs)):\n",
    "        if player == 1:\n",
    "            possible_history = generate_history(my_strategy, other_strategy, len(history))\n",
    "        else:\n",
    "            possible_history = generate_history(other_strategy, my_strategy, len(history))\n",
    "        if possible_history != history:\n",
    "            new_beliefs[other_strategy] = 0\n",
    "    if np.sum(new_beliefs) > 0:\n",
    "        new_beliefs = new_beliefs / np.sum(new_beliefs)\n",
    "    return new_beliefs\n",
    "\n",
    "possible_beliefs = np.array([0.25,0.25,0.25,0.25])\n",
    "print(update_beliefs(0,possible_beliefs,[('C','C')],1)) # rule out defect if they cooperate"
   ]
  },
  {
   "cell_type": "code",
   "execution_count": 19,
   "id": "3fbd6f8d-7053-45be-a4a8-6fd639ffcf38",
   "metadata": {},
   "outputs": [
    {
     "name": "stdout",
     "output_type": "stream",
     "text": [
      "Iteration 0\n",
      "History: [('D', 'C')]\n",
      "Beliefs 1 about 2: [0.33333333 0.33333333 0.         0.33333333]\n",
      "Beliefs 2 about 1: [0. 0. 1. 0.]\n",
      "Iteration 1\n",
      "History: [('D', 'C'), ('D', 'D')]\n",
      "Beliefs 1 about 2: [0.5 0.  0.  0.5]\n",
      "Beliefs 2 about 1: [0. 0. 1. 0.]\n",
      "Iteration 2\n",
      "History: [('D', 'C'), ('D', 'D'), ('D', 'D')]\n",
      "Beliefs 1 about 2: [0.5 0.  0.  0.5]\n",
      "Beliefs 2 about 1: [0. 0. 1. 0.]\n",
      "Iteration 3\n",
      "History: [('D', 'C'), ('D', 'D'), ('D', 'D'), ('D', 'D')]\n",
      "Beliefs 1 about 2: [0.5 0.  0.  0.5]\n",
      "Beliefs 2 about 1: [0. 0. 1. 0.]\n",
      "Iteration 4\n",
      "History: [('D', 'C'), ('D', 'D'), ('D', 'D'), ('D', 'D'), ('D', 'D')]\n",
      "Beliefs 1 about 2: [0.5 0.  0.  0.5]\n",
      "Beliefs 2 about 1: [0. 0. 1. 0.]\n"
     ]
    }
   ],
   "source": [
    "beliefs1_about2 = np.array([0.25, 0.25, 0.25, 0.25])\n",
    "beliefs2_about1 = np.array([0.25, 0.25, 0.25, 0.25])\n",
    "\n",
    "strategy1 = 2  # Always Defect\n",
    "strategy2 = 3  # Trigger\n",
    "history = []\n",
    "\n",
    "for i in range(5):\n",
    "    history.append(play_round(strategy1, strategy2, history))\n",
    "    beliefs1_about2 = update_beliefs(strategy1, beliefs1_about2, history, 1)\n",
    "    beliefs2_about1 = update_beliefs(strategy2, beliefs2_about1, history, 2)\n",
    "    print(\"Iteration\", i)\n",
    "    print(\"History:\", history)\n",
    "    print(\"Beliefs 1 about 2:\", beliefs1_about2)\n",
    "    print(\"Beliefs 2 about 1:\", beliefs2_about1)"
   ]
  },
  {
   "cell_type": "markdown",
   "id": "e9fbe311-883d-4234-b274-0b16f22a059f",
   "metadata": {},
   "source": [
    "In this case here player 2 first learns that player 1 is a defect player. Player 2 learns that player 1 is not. After a second round player 1 also doesn't believe player 2 is an always cooperate player. From then on it is always defecting, with player 1's belief never settle on whether player 2 is tit-for-tat or playing the trigger strategy. \n",
    "\n",
    "However in this example we aren't letting the players change strategies! If we allow the players to change we also need to tweak the beliefs update to not eliminate options entirely (as they might come back) and add a 'best-response' function. "
   ]
  },
  {
   "cell_type": "code",
   "execution_count": null,
   "id": "ed42a773-1814-4f78-9507-93e32ffddd16",
   "metadata": {},
   "outputs": [],
   "source": [
    "mistake_prob = 0.05 \n",
    "\n",
    "def update_beliefs_2(my_strategy, beliefs, history, player):\n",
    "    new_beliefs = beliefs.copy()\n",
    "    for other_strategy in range(len(beliefs)):\n",
    "        if player == 1:\n",
    "            possible_history = generate_history(my_strategy, other_strategy, len(history))\n",
    "        else:\n",
    "            possible_history = generate_history(other_strategy, my_strategy, len(history))\n",
    "\n",
    "        if possible_history != history:\n",
    "            new_beliefs[other_strategy] *= mistake_prob  # small probability for a “mistake”\n",
    "\n",
    "    # normalize\n",
    "    new_beliefs /= np.sum(new_beliefs)\n",
    "    return new_beliefs\n",
    "\n",
    "def best_response(beliefs):\n",
    "    payoff_table = np.array([\n",
    "        [3,3,1,3],  # TfT\n",
    "        [3,3,0,3],  # Always C\n",
    "        [1,4,1,1],  # Always D\n",
    "        [3,3,1,3]   # Trigger\n",
    "    ])\n",
    "    expected_payoffs = payoff_table.dot(beliefs)\n",
    "    return np.argmax(expected_payoffs)"
   ]
  },
  {
   "cell_type": "code",
   "execution_count": 25,
   "id": "e7d9165d-2a93-4148-9446-333fff28c198",
   "metadata": {},
   "outputs": [
    {
     "name": "stdout",
     "output_type": "stream",
     "text": [
      "Round 1\n",
      "Moves: C D\n",
      "Beliefs 1: [0.04347826 0.04347826 0.86956522 0.04347826]\n",
      "Beliefs 2: [0.77348066 0.11049724 0.00552486 0.11049724]\n",
      "Strategies: 0 0\n",
      "---\n",
      "Round 2\n",
      "Moves: D C\n",
      "Beliefs 1: [0.04347826 0.04347826 0.86956522 0.04347826]\n",
      "Beliefs 2: [0.77348066 0.11049724 0.00552486 0.11049724]\n",
      "Strategies: 0 0\n",
      "---\n",
      "Round 3\n",
      "Moves: C D\n",
      "Beliefs 1: [0.04347826 0.04347826 0.86956522 0.04347826]\n",
      "Beliefs 2: [0.77348066 0.11049724 0.00552486 0.11049724]\n",
      "Strategies: 0 0\n",
      "---\n",
      "Round 4\n",
      "Moves: D C\n",
      "Beliefs 1: [0.04347826 0.04347826 0.86956522 0.04347826]\n",
      "Beliefs 2: [0.77348066 0.11049724 0.00552486 0.11049724]\n",
      "Strategies: 0 0\n",
      "---\n",
      "Round 5\n",
      "Moves: C D\n",
      "Beliefs 1: [0.04347826 0.04347826 0.86956522 0.04347826]\n",
      "Beliefs 2: [0.77348066 0.11049724 0.00552486 0.11049724]\n",
      "Strategies: 0 0\n",
      "---\n"
     ]
    }
   ],
   "source": [
    "# --- Simulation ---\n",
    "beliefs1 = np.array([0.25,0.25,0.25,0.25])\n",
    "beliefs2 = np.array([0.7,0.1,0.1,0.1])\n",
    "\n",
    "strategy1 = 0\n",
    "strategy2 = 2\n",
    "history = []\n",
    "\n",
    "for t in range(5):\n",
    "    # Play round\n",
    "    m1, m2 = play_round(strategy1, strategy2, history)\n",
    "    history.append((m1, m2))\n",
    "\n",
    "    # Update beliefs\n",
    "    beliefs1 = update_beliefs_2(strategy1, beliefs1, history, player=1)\n",
    "    beliefs2 = update_beliefs_2(strategy2, beliefs2, history, player=2)\n",
    "\n",
    "    # Choose best-response strategy\n",
    "    strategy1 = best_response(beliefs1)\n",
    "    strategy2 = best_response(beliefs2)\n",
    "\n",
    "    print(f\"Round {t+1}\")\n",
    "    print(\"Moves:\", m1, m2)\n",
    "    print(\"Beliefs 1:\", beliefs1)\n",
    "    print(\"Beliefs 2:\", beliefs2)\n",
    "    print(\"Strategies:\", strategy1, strategy2)\n",
    "    print(\"---\")"
   ]
  },
  {
   "cell_type": "markdown",
   "id": "98a27591-8f4f-486f-abbf-f6e358002309",
   "metadata": {},
   "source": [
    "In this example player 1 starts off not knowing anything, but player 2 starts off thinking player 1 is likely TfT. Then player 2 chooses TfT next round, but player 1 has switched. This goes back and forth. I think the method of choosing the best response needs to be more precise than the one I have above! Anyway, this has some nice properties, converges to an $\\epsilon$-equilibrium, stuff like that! But I'm not sure I really *get* it. Player's just believe their opponent has a fixed strategy that never changes, same as fictitious play. Except they are changing it..."
   ]
  }
 ],
 "metadata": {
  "kernelspec": {
   "display_name": "Python 3 (ipykernel)",
   "language": "python",
   "name": "python3"
  },
  "language_info": {
   "codemirror_mode": {
    "name": "ipython",
    "version": 3
   },
   "file_extension": ".py",
   "mimetype": "text/x-python",
   "name": "python",
   "nbconvert_exporter": "python",
   "pygments_lexer": "ipython3",
   "version": "3.12.11"
  }
 },
 "nbformat": 4,
 "nbformat_minor": 5
}
