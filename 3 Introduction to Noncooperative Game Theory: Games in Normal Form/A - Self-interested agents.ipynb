{
 "cells": [
  {
   "cell_type": "code",
   "execution_count": 1,
   "id": "de1300c5",
   "metadata": {},
   "outputs": [],
   "source": [
    "import numpy as np\n",
    "import matplotlib.pyplot as plt"
   ]
  },
  {
   "cell_type": "markdown",
   "id": "1eff08e1",
   "metadata": {},
   "source": [
    "# 3. Overview\n",
    "\n",
    "Here we begin to look at how self-interested individuals interact with one another. For now this will focus on noncooperative game theory, where the modelling unit will be the individual, but there is also coalitional game theory, in which the modelling unit is the group, which will be explored later.\n",
    "\n",
    "## 3.1 Self-interested agents\n",
    "\n",
    "When we talk about self-interested agents we are talking about individuals with a capability to engage in different actions which can effect the world, and who have preferences about what the world looks like.\n",
    "\n",
    "A good start for making this more concrete is utility theory. With utility theory we put a numerical value on each state of the world. \n",
    "\n",
    "### 3.1.1 Example\n",
    "\n",
    "Say that I have a soccer ball. I can choose to play with it at home, or go to the park. If I go to the park I waste a lot of time walking there and back, but I might bump into my friend George, who would be great fun. Say that my value of being at home is 5, going to the park without George is 0, and going with George is 15. George has a 50:50 chance of being at the park. What should I do?\n",
    "\n",
    "We can represent this problem with a table, mapping my action to the action of George and the value.\n",
    "\n",
    "$\n",
    "\\begin{array}{c|cc}\n",
    "\\text{Action} & \\text{George at park} & \\text{George not at park} \\\\\n",
    "\\hline\n",
    "\\text{Stay home} & 5 & 5 \\\\\n",
    "\\text{Go to park} & 15 & 0 \\\\\n",
    "\\end{array}\n",
    "$\n",
    "\n",
    "The utility of my action is the expected value of the state of the world given my action. In this case the values end up being:\n",
    "\n",
    "$\n",
    "\\begin{array}{c|c}\n",
    "\\text{Action} & \\text{Value} \\\\\n",
    "\\hline\n",
    "\\text{Stay home} & 5 \\\\\n",
    "\\text{Go to park} & 7.5 \\\\\n",
    "\\end{array}\n",
    "$\n",
    "\n",
    "### 3.2.1 Justifiying utility theory\n",
    "\n",
    "Utility comes about as a result of thinking about preferences for outcomes. The theory follows. \n",
    "\n",
    "Say we have a set of outcomes $O$. Then for two outcomes $o_1, o_2 \\in O$ we can define let $o_1 \\succ o_2$ denote that there is a preference for $o_1$. You can guess what $\\succeq and \\sim$ mean.\n",
    "\n",
    "A lottery is a random selection of an outcome, based on a probability distribution.\n",
    "\n",
    "From this we can get the axioms:\n",
    "\n",
    "**Completeness:** $\\forall o_1,o_2 \\in O, o_1 \\succ o_2$ or $o_2 \\succ o_1$ or $o_1 \\sim o_2$. \n",
    "\n",
    "**Transitivity:** If $o_1 \\succ o_2$ and $o_2 \\succ o_3$ then $o_1 \\succ o_3$. \n",
    "\n",
    "**Substitutibility:** If $o_1 \\sim o_2$ the value of a lottery substituting $o_1$ for $o_2$ or vice versa is the same.\n",
    "\n",
    "Let $P_l(o_i)$ denote the probability of $o_i$ given lottery $l$.\n",
    "\n",
    "**Decomposability:** If the probability of all outcomes is the same under lottery $l_1$ and $l_2$ then $l_1 \\sim l_2$. This is included to say that if I have a 50:50 between A and (another lottery with a 50:50 between B and C), that this is the same as a 50:25:25 between A, B, and C together.\n",
    "\n",
    "**Monotonicity:** If $o_1 \\succ o_2$ and $p > q$ then $[p:o_1,(1-p):o_2]\\succ [q:o_1,(1-q):o_2]$. I.e., more of a good outcome is better."
   ]
  },
  {
   "cell_type": "code",
   "execution_count": null,
   "id": "6032c3a2",
   "metadata": {},
   "outputs": [],
   "source": []
  }
 ],
 "metadata": {
  "kernelspec": {
   "display_name": "Python 3",
   "language": "python",
   "name": "python3"
  },
  "language_info": {
   "codemirror_mode": {
    "name": "ipython",
    "version": 3
   },
   "file_extension": ".py",
   "mimetype": "text/x-python",
   "name": "python",
   "nbconvert_exporter": "python",
   "pygments_lexer": "ipython3",
   "version": "3.9.4"
  }
 },
 "nbformat": 4,
 "nbformat_minor": 5
}
