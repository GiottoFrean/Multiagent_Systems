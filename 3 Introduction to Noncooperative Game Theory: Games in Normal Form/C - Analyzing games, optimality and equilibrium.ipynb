{
 "cells": [
  {
   "cell_type": "code",
   "execution_count": 1,
   "id": "fa2a86e6",
   "metadata": {},
   "outputs": [],
   "source": [
    "import numpy as np\n",
    "import matplotlib.pyplot as plt"
   ]
  },
  {
   "cell_type": "markdown",
   "id": "3b091d17",
   "metadata": {},
   "source": [
    "## 3.3 Analysing games: from optimality to equilibrium\n",
    "\n",
    "When looking at games there are two fundamental solution concepts: Pareto optimality and Nash equilibrium.\n",
    "\n",
    "### 3.3.1 Pareto Optimality\n",
    "\n",
    "One of the key questions we would like to know is whether one solution to a game is better than another. Obviously, we could just add the utility if the utility scale is the same across all agents, but any utility function as defined earlier encompasses the same information about preferences as the same utility function scaled and shifted ($a x + b$), so we might want to define another concept of \"better\".\n",
    "\n",
    "A strategy profile $s$ is Pareto dominant over another strategy $\\hat{s}$ if for all $i\\in N$, $u_i(s)\\geq u_i(\\hat{s})$, with a $j$ such that $u_j(s)>u_j(\\hat{s})$.\n",
    "\n",
    "In other words, in a Pareto dominant strategy some agent can be made better off without decreasing another's utiltiy. This gives us a partial ordering of all solutions (note, here we are talking about strategies in the general way as a lottery over actions).\n",
    "\n",
    "A strategy is Pareto optimal if it itself is not Pareto dominated by any other strategy.\n",
    "\n",
    "Every game will always have a Pareto optimal strategy, and there is always at least 1 Pareto optimal strategy which is pure for every agent.\n",
    "\n",
    "If we return to the Prisoners Dilemma from before we can see that there are three Pareto optimal strategies (C-C, C-D, D-C). In each of these cases there is no alternative which doesn't decrease at least 1 players utility. The only option which is not pareto optimal is D-D, as it can be beaten by C-C:\n",
    "\n",
    "$\n",
    "\\begin{array}{c|cc}\n",
    "\\text{} & \\text{C} & \\text{D} \\\\\n",
    "\\hline\n",
    "\\text{C} & 5,5 & 0,8 \\\\\n",
    "\\text{D} & 8,0 & 2,2 \\\\\n",
    "\\end{array}\n",
    "$\n",
    "\n",
    "### 3.3.2 Defining best response and Nash equilibrium\n",
    "\n"
   ]
  },
  {
   "cell_type": "code",
   "execution_count": null,
   "id": "3182ea61",
   "metadata": {},
   "outputs": [],
   "source": []
  }
 ],
 "metadata": {
  "kernelspec": {
   "display_name": "Python 3",
   "language": "python",
   "name": "python3"
  },
  "language_info": {
   "codemirror_mode": {
    "name": "ipython",
    "version": 3
   },
   "file_extension": ".py",
   "mimetype": "text/x-python",
   "name": "python",
   "nbconvert_exporter": "python",
   "pygments_lexer": "ipython3",
   "version": "3.9.4"
  }
 },
 "nbformat": 4,
 "nbformat_minor": 5
}
