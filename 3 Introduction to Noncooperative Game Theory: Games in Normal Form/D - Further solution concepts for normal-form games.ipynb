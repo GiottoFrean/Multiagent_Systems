{
 "cells": [
  {
   "cell_type": "code",
   "execution_count": 1,
   "id": "ce6e16a0",
   "metadata": {},
   "outputs": [],
   "source": [
    "import numpy as np\n",
    "import matplotlib.pyplot as plt"
   ]
  },
  {
   "cell_type": "markdown",
   "id": "f95d7ce1",
   "metadata": {},
   "source": [
    "### 3.4 Further solution concepts for normal-form games\n",
    "\n",
    "The two solution concepts so far have been Pareto optimality and Nash equilibrium. Some other ideas are introduced here.\n",
    "\n",
    "### 3.4.1 Maxmin and minmax strategies\n",
    "\n",
    "The maxmin strategy is the best an agent can do (max), given the other agents all make decisions to reduce the agents utility (min). This is then a lower bound on the value an agent can get in a game. As an example, consider this game:\n",
    "\n",
    "$\n",
    "\\begin{array}{c|cc}\n",
    "\\text{} & \\text{A} & \\text{B} \\\\\n",
    "\\hline\n",
    "\\text{A} & 3,3 & 2,2 \\\\\n",
    "\\text{B} & 0,0 & 1,1 \\\\\n",
    "\\end{array}\n",
    "$\n",
    "\n",
    "Agent 2 wants to minimise the return of agent 1, so it's easy to see they need to always go B. Agent 1's minmax strategy is then to go A always, and their maxmin value is 2.\n",
    "\n",
    "In the battle of the sexes we can see a more complicated case:\n",
    "\n",
    "$\n",
    "\\begin{array}{c|cc}\n",
    "\\text{} & \\text{A} & \\text{B} \\\\\n",
    "\\hline\n",
    "\\text{A} & 2,1 & 0,0 \\\\\n",
    "\\text{B} & 0,0 & 1,2 \\\\\n",
    "\\end{array}\n",
    "$\n",
    "\n",
    "If agent 2 goes A with probability $p$, then the return for agent 1 going A with probability $\\hat{p}$ is:\n",
    "\n",
    "$$2p\\hat{p}+0(1-p)\\hat{p}+0p(1-\\hat{p})+1(1-p)(1-\\hat{p})$$\n",
    "\n",
    "This can be simplified to:\n",
    "\n",
    "$$(3p-1)\\hat{p}-p+1$$\n",
    "\n",
    "If $3p-1\\geq 0$, the maximum score for agent 1 means setting $\\hat{p}=1$, which gives $(3p-1)-p+1=2p$. Agent 2 minimises this by setting $p=\\frac{1}{3}$ (lowest they can if $3p-1\\geq 0$).\n",
    "\n",
    "If instead $3p-1\\leq 0$, the maximum score for agent 1 means setting $\\hat{p}=0$, which gives $-p+1$. Agent 2 minimises this by setting $p=\\frac{1}{3}$ (highest they can if $3p-1\\leq 0$).\n",
    "\n",
    "If $p=\\frac{1}{3}$ then the score for agent 1 is $\\frac{2}{3}$. This is then their maxmin."
   ]
  },
  {
   "cell_type": "code",
   "execution_count": 8,
   "id": "96508f24",
   "metadata": {},
   "outputs": [
    {
     "data": {
      "image/png": "[encoded data removed]",
      "text/plain": [
       "<Figure size 432x288 with 1 Axes>"
      ]
     },
     "metadata": {
      "needs_background": "light"
     },
     "output_type": "display_data"
    }
   ],
   "source": [
    "agent_1_options = np.linspace(0,1,100)\n",
    "agent_2_options = np.linspace(0,1,100)\n",
    "agent_1_minmax = []\n",
    "\n",
    "for opt2 in agent_2_options:\n",
    "    agent_1_opt2_scores = 2*agent_1_options*opt2+1*(1-agent_1_options)*(1-opt2)\n",
    "    agent_1_minmax.append(np.max(agent_1_opt2_scores))\n",
    "\n",
    "plt.plot(agent_2_options,agent_1_minmax)\n",
    "plt.ylabel(\"Agent 1 best score\",fontsize=15)\n",
    "plt.xlabel(\"Agent 2 strategy\",fontsize=15)\n",
    "plt.show()"
   ]
  },
  {
   "cell_type": "markdown",
   "id": "0c6eeb0f",
   "metadata": {},
   "source": [
    "Minmax means the above, but from the perspective of the other agent. A strategy is minmax if it minimises the other agents score, given they take the best action they can. This can be generalised to multiple agents too.\n",
    "\n",
    "**Theorem:** In a 2 player zero-sum game at any nash equilibrium each player receives a value equal to their minmax and maxmin values."
   ]
  },
  {
   "cell_type": "code",
   "execution_count": null,
   "id": "5ef6d052",
   "metadata": {},
   "outputs": [],
   "source": []
  }
 ],
 "metadata": {
  "kernelspec": {
   "display_name": "Python 3",
   "language": "python",
   "name": "python3"
  },
  "language_info": {
   "codemirror_mode": {
    "name": "ipython",
    "version": 3
   },
   "file_extension": ".py",
   "mimetype": "text/x-python",
   "name": "python",
   "nbconvert_exporter": "python",
   "pygments_lexer": "ipython3",
   "version": "3.9.4"
  }
 },
 "nbformat": 4,
 "nbformat_minor": 5
}
