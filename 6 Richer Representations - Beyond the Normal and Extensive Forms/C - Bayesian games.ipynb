{
 "cells": [
  {
   "cell_type": "code",
   "execution_count": 1,
   "id": "5a6f08e7-b1af-46fd-959e-404af010b76f",
   "metadata": {},
   "outputs": [],
   "source": [
    "import numpy as np\n",
    "import matplotlib.pyplot as plt\n",
    "from itertools import product\n",
    "import sys\n",
    "import os\n",
    "sys.path.append(os.path.abspath('..'))\n",
    "import utils"
   ]
  },
  {
   "cell_type": "markdown",
   "id": "263d5eb7-3af9-437b-b53c-64bc6dd7388e",
   "metadata": {},
   "source": [
    "## 6.3 Bayesian games\n",
    "\n",
    "So far we have only dealt with games where the payoffs, actions, and number of agents are known. With Bayesian games we want to account for uncertainty about these. This amounts to basically just having uncertainty about the payoffs. Uncertainty about numbers of agents and actions can be represented as just greater uncertainty about payoffs. In the action case if we don't know whether an agent has 2 or 3 actions available we can simply create a 3 actions model, but allow the possibility that one of the actions has huge negatives and so won't appear in any solution. Similarly if we don't know whether there are 2 or 3 agents we can model the third agent as possibly having rewards which keep their behaviour constant. This will be made clearer later on with the idea of 'types'. \n",
    "\n",
    "We assume that beliefs of agents about their payoffs are posteriors, achieved by conditioning a common prior on individual signals. While it is possible to have different priors, using a common prior makes life a lot simpler!\n",
    "\n",
    "### 6.3.1 Definitions\n",
    "\n",
    "There are three ways to view Bayesian games:\n",
    "\n",
    "#### Information sets\n",
    "\n"
   ]
  }
 ],
 "metadata": {
  "kernelspec": {
   "display_name": "Python 3 (ipykernel)",
   "language": "python",
   "name": "python3"
  },
  "language_info": {
   "codemirror_mode": {
    "name": "ipython",
    "version": 3
   },
   "file_extension": ".py",
   "mimetype": "text/x-python",
   "name": "python",
   "nbconvert_exporter": "python",
   "pygments_lexer": "ipython3",
   "version": "3.12.7"
  }
 },
 "nbformat": 4,
 "nbformat_minor": 5
}
