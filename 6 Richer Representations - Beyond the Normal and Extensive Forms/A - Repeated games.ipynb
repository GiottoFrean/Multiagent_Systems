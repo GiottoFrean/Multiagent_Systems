{
 "cells": [
  {
   "cell_type": "code",
   "execution_count": 1,
   "id": "ff9e94dd-d112-4310-b42c-fdc432a8b97c",
   "metadata": {},
   "outputs": [],
   "source": [
    "import numpy as np\n",
    "import matplotlib.pyplot as plt\n",
    "from graphviz import Digraph\n",
    "from itertools import product"
   ]
  },
  {
   "cell_type": "markdown",
   "id": "87e43818-0357-4bf4-b521-728aae058c50",
   "metadata": {},
   "source": [
    "# 6. Richer Representations: Beyond the Normal and Extensive Forms\n",
    "\n",
    "There are several reasons we want to explore other forms of game. Firstly, so far we have assumed a lot of finite variables. The number of decisions / time is finite, the players are finite, and the actions have been finite. We may want to consider what happens for infinite agents, or for games which are repeated forever. Secondly, so far we have assumed that agents share a knowledge of eachother's payoffs. This is very unrealistic! Thirdly, we would like to find more compact ways of describing games, for the sake of efficiency.\n",
    "\n",
    "## 6.1 Repeated games\n",
    "\n",
    "Consider a game like the prisoner's dilemma, in normal form, which is played multiple times. In the case that agents have no information about previous games the answer is pretty trivial. However, if agents can see what happened before then things become more complicated.\n",
    "\n",
    "### 6.1.1 Finitely repeated games\n",
    "\n",
    "With a finitely repeated game we simply need a bigger table in the normal form (or tree in the extensive form) to capture the strategies and payoffs for both players. We assume that agents don't know what eachother will play, but find out later. One simple answer is just to play the same strategy at each game level, which we call a *stationary strategy*. But in general, the action can depend on what was played before.\n",
    "\n",
    "All finitely repeated games can be represented as imperfect-information tree in extensive form. Player 1 does and action, then player 2 does an action (unknown by player 1), then both players see the result.\n",
    "\n",
    "### 6.1.2 Infinitely repeated games\n",
    "\n",
    "If a game is repeated infinitely we get an infinite tree of decisions. In order to quantify the reward of being in a state we can consider the average reward over all games, or a discounted reward of future games (i.e., the agent cares more about the present, or the games might end at some random point). \n",
    "\n",
    "In infinitely repeated games there are strategies other than the stationary ones. For instance we have Tit-for-Tat (TfT) in which players start by cooperating and then repeat whatever their opponent's strategy was.\n",
    "\n",
    "Ideally we want to be able to calculate the equilibirum strategies in infinitely repeated games. A good place to start is the **The Folk Theorem**, which states that an equilibrium exists for any average payoffs where the agents are each avoiding their worst outcome. These are equilibrium because players can threaten to cause the worst outcome of another in perpetuity if they deviate. Consider this game:\n",
    "\n",
    "$\n",
    "\\begin{array}{c|ccc}\n",
    "\\text{} & A & B \\\\\n",
    "\\hline\n",
    "\\text{A} & 4,4 & 1,5 \\\\\n",
    "\\text{B} & 5,1 & 0,0 \\\\\n",
    "\\end{array}\n",
    "$\n",
    "\n",
    "If we just analyse this as a one-off game we see there are two equilibria, at (A,B) and (B,A). But in the infinite case there is also the equilibria at (A,A). This is because both players can threaten to play B for the rest of time, if their opponent does. Remaining at A becomes an equilibrium strategy. We say (A,A) is *enforcable*.\n",
    "\n",
    "Note this fits for *any* set of enforable payoffs, not just the strategies that can be used. For instance, consider this game:\n",
    "\n",
    "$\n",
    "\\begin{array}{c|ccc}\n",
    "\\text{} & A & B \\\\\n",
    "\\hline\n",
    "\\text{A} & 0,0 & 0,1 \\\\\n",
    "\\text{B} & 1,0 & 0,0 \\\\\n",
    "\\end{array}\n",
    "$\n",
    "\n",
    "Say the agents are swapping between (A,B) and (B,A) each game. The average payoff is 0.5 for each. The row player can enforce this system by threatening to play B forever onwards if the column player deviates, and likewise the column player can threaten to play A forever if the row player deviates.\n",
    "\n",
    "While this is useful, it is very broad. For instance, if the strategy is to play (A,B) 99 times for every (B,A) this is still enforcible by the column player, thought it's unfair.\n",
    "\n",
    "### 6.1.3 \"Bounded rationality\": repeated games played by automata\n",
    "\n",
    "The big problem when dealing with repeated games is that there are many more options to choose from. This imposes a computational burden on the decision maker, which reduces their ability to be fully rational. We simply can't crunch out all the options. At the same time, people don't behave as we would expect from any rational model. Consider the finitely repeated prisoner's dilemma. When playing the last game it is obviously optimal to defect, there are no more games to worry about. But then if that's the case, and we expect our opponent to defect as well, then we should also defect one game earlier. And so it unwinds completely. But in reality people tend to cooperate at first instead. What other models might explain this fact?\n",
    "\n",
    "One early proposal was the idea of $\\epsilon$-equilibrium, which is where agents accept a given strategy so long as they are losing no more than $\\epsilon$ by sticking with it. I.e., the players can absorb some small loss. The nash equilibria is then just a special case at $\\epsilon=0$. Consider the Centipede game, where at each point the players if they cooperate alternate between receiving +2 and -1:\n",
    "\n",
    "$\n",
    "\\begin{array}{ccccccccc}\n",
    "\\text{A:} & 2 & 1 & 3 & 2 & 4 & 3 & 5\\\\\n",
    "\\text{B:} & 0 & 2 & 1 & 3 & 2 & 4 & 3 \\\\\n",
    "\\end{array}\n",
    "$\n",
    "\n",
    "In the fully rational case B will stop cooperating at the second-to-last step, as 4>3. Given that, A will stop at the third-to-last, and so on. Eventually the most rational thing for both players is to defect as soon as possible. But if we use $\\epsilon>1$, then neither player will mind losing at the last stage, and the chain goes right to the end.\n",
    "\n",
    "Another option, and one with a lot of success, is to restrict agent's behaviours to those which can be implemented by an automata. This fits nicely with the imperfect-information form tree, where we need to make a decision at each information-set. An example automata might be something like this:"
   ]
  },
  {
   "cell_type": "code",
   "execution_count": 2,
   "id": "631e59bd-a574-47ba-a9b7-09da2669ce6d",
   "metadata": {},
   "outputs": [
    {
     "data": {
      "image/svg+xml": [
       "<?xml version=\"1.0\" encoding=\"UTF-8\" standalone=\"no\"?>\n",
       "<!DOCTYPE svg PUBLIC \"-//W3C//DTD SVG 1.1//EN\"\n",
       " \"http://www.w3.org/Graphics/SVG/1.1/DTD/svg11.dtd\">\n",
       "<!-- Generated by graphviz version 12.0.0 (20240803.0821)\n",
       " -->\n",
       "<!-- Pages: 1 -->\n",
       "<svg width=\"254pt\" height=\"84pt\"\n",
       " viewBox=\"0.00 0.00 254.25 83.54\" xmlns=\"http://www.w3.org/2000/svg\" xmlns:xlink=\"http://www.w3.org/1999/xlink\">\n",
       "<g id=\"graph0\" class=\"graph\" transform=\"scale(1 1) rotate(0) translate(4 79.54)\">\n",
       "<polygon fill=\"white\" stroke=\"none\" points=\"-4,4 -4,-79.54 250.25,-79.54 250.25,4 -4,4\"/>\n",
       "<!-- Start -->\n",
       "<!-- C -->\n",
       "<g id=\"node2\" class=\"node\">\n",
       "<title>C</title>\n",
       "<ellipse fill=\"none\" stroke=\"black\" cx=\"118\" cy=\"-22.29\" rx=\"27\" ry=\"18\"/>\n",
       "<text text-anchor=\"middle\" x=\"118\" y=\"-17.62\" font-family=\"Times,serif\" font-size=\"14.00\">C</text>\n",
       "</g>\n",
       "<!-- Start&#45;&gt;C -->\n",
       "<g id=\"edge1\" class=\"edge\">\n",
       "<title>Start&#45;&gt;C</title>\n",
       "<path fill=\"none\" stroke=\"black\" d=\"M54.22,-22.29C62.12,-22.29 70.94,-22.29 79.43,-22.29\"/>\n",
       "<polygon fill=\"black\" stroke=\"black\" points=\"79.14,-25.79 89.14,-22.29 79.14,-18.79 79.14,-25.79\"/>\n",
       "</g>\n",
       "<!-- C&#45;&gt;C -->\n",
       "<g id=\"edge2\" class=\"edge\">\n",
       "<title>C&#45;&gt;C</title>\n",
       "<path fill=\"none\" stroke=\"black\" d=\"M109.88,-39.7C108.36,-49.38 111.07,-58.29 118,-58.29 122.01,-58.29 124.6,-55.31 125.79,-50.93\"/>\n",
       "<polygon fill=\"black\" stroke=\"black\" points=\"129.28,-51.32 126.08,-41.22 122.28,-51.11 129.28,-51.32\"/>\n",
       "<text text-anchor=\"middle\" x=\"118\" y=\"-62.24\" font-family=\"Times,serif\" font-size=\"14.00\">C</text>\n",
       "</g>\n",
       "<!-- D -->\n",
       "<g id=\"node3\" class=\"node\">\n",
       "<title>D</title>\n",
       "<ellipse fill=\"none\" stroke=\"black\" cx=\"219.25\" cy=\"-22.29\" rx=\"27\" ry=\"18\"/>\n",
       "<text text-anchor=\"middle\" x=\"219.25\" y=\"-17.62\" font-family=\"Times,serif\" font-size=\"14.00\">D</text>\n",
       "</g>\n",
       "<!-- C&#45;&gt;D -->\n",
       "<g id=\"edge3\" class=\"edge\">\n",
       "<title>C&#45;&gt;D</title>\n",
       "<path fill=\"none\" stroke=\"black\" d=\"M145.34,-22.29C156.1,-22.29 168.76,-22.29 180.49,-22.29\"/>\n",
       "<polygon fill=\"black\" stroke=\"black\" points=\"180.28,-25.79 190.28,-22.29 180.28,-18.79 180.28,-25.79\"/>\n",
       "<text text-anchor=\"middle\" x=\"168.62\" y=\"-26.24\" font-family=\"Times,serif\" font-size=\"14.00\">D</text>\n",
       "</g>\n",
       "<!-- D&#45;&gt;C -->\n",
       "<g id=\"edge4\" class=\"edge\">\n",
       "<title>D&#45;&gt;C</title>\n",
       "<path fill=\"none\" stroke=\"black\" d=\"M198.36,-10.35C191.04,-6.59 182.52,-2.94 174.25,-1.04 165.3,1 155.88,-0.96 147.39,-4.39\"/>\n",
       "<polygon fill=\"black\" stroke=\"black\" points=\"146.08,-1.14 138.62,-8.66 149.14,-7.43 146.08,-1.14\"/>\n",
       "<text text-anchor=\"middle\" x=\"168.62\" y=\"-5.24\" font-family=\"Times,serif\" font-size=\"14.00\">C</text>\n",
       "</g>\n",
       "<!-- D&#45;&gt;D -->\n",
       "<g id=\"edge5\" class=\"edge\">\n",
       "<title>D&#45;&gt;D</title>\n",
       "<path fill=\"none\" stroke=\"black\" d=\"M210.21,-39.7C208.52,-49.38 211.54,-58.29 219.25,-58.29 223.71,-58.29 226.6,-55.31 227.91,-50.93\"/>\n",
       "<polygon fill=\"black\" stroke=\"black\" points=\"231.4,-51.33 228.24,-41.22 224.41,-51.09 231.4,-51.33\"/>\n",
       "<text text-anchor=\"middle\" x=\"219.25\" y=\"-62.24\" font-family=\"Times,serif\" font-size=\"14.00\">D</text>\n",
       "</g>\n",
       "</g>\n",
       "</svg>\n"
      ],
      "text/plain": [
       "<graphviz.graphs.Digraph at 0x74f3085d7860>"
      ]
     },
     "metadata": {},
     "output_type": "display_data"
    }
   ],
   "source": [
    "graph1 = Digraph()\n",
    "graph1.attr(rankdir='LR')\n",
    "graph1.node('Start', '', style='invis')\n",
    "graph1.node('C', 'C')\n",
    "graph1.node('D', 'D')\n",
    "graph1.edge('Start', 'C', '', color=\"black\")\n",
    "graph1.edge('C', 'C', 'C', color=\"black\")\n",
    "graph1.edge('C', 'D', 'D', color=\"black\")\n",
    "graph1.edge('D', 'C', 'C', color=\"black\")\n",
    "graph1.edge('D', 'D', 'D', color=\"black\")\n",
    "display(graph1)"
   ]
  },
  {
   "cell_type": "markdown",
   "id": "78d3daee-cc1a-41ac-9345-b75fa21da225",
   "metadata": {},
   "source": [
    "This is a representation of the classic Tit-for-Tat strategy. An automata is just a specification of a list of states, an action to take each state, and a transition function for every action taken (including other player's). We can say that both players will decide which automata to use before the game, and put a limit on the size of the automata to constrain rationality. In order to do backwards-induction on a game with $k$ iterations you need at least $k$ states.\n",
    "\n",
    "Player's strategies are now essentially just about which automata to use. A nash equilibrium is where both player's can't improve their current scores by switching. If we limit ourselves to the pure strategies we can do a fairly simple search of all automata in a two-player game of a given size:"
   ]
  },
  {
   "cell_type": "code",
   "execution_count": 3,
   "id": "16b9387a-5c7a-47d4-9f98-861dbeb0b1c7",
   "metadata": {},
   "outputs": [],
   "source": [
    "def getAll2Player2Action2StatePureAutomata():\n",
    "    # actions\n",
    "    possible_actions = list(product(range(2), range(2))) # there are 2 states, and 2 actions in each to choose from\n",
    "    \n",
    "    # transitions (current state, player 2 action, new state), e.g., ((1, 0), (0, 1))\n",
    "    possible_transitions = list(product(product(range(2), repeat=2), repeat=2))\n",
    "\n",
    "    # automata\n",
    "    automata = list(product(possible_actions, possible_transitions)) # combinations of action and transition function\n",
    "    \n",
    "    return automata"
   ]
  },
  {
   "cell_type": "code",
   "execution_count": 4,
   "id": "7e8fbc2d-62df-44a2-8c08-954b50745979",
   "metadata": {},
   "outputs": [],
   "source": [
    "def testAutomata(automata1,automata2,num_games,payoffs1,payoffs2):\n",
    "    state1 = 0\n",
    "    state2 = 0\n",
    "    rewards1 = 0\n",
    "    rewards2 = 0\n",
    "    automata1Actions, automata1Transitions = automata1[0], automata1[1]\n",
    "    automata2Actions, automata2Transitions = automata2[0], automata2[1]\n",
    "    for i in range(num_games):\n",
    "        action1 = automata1Actions[state1]\n",
    "        action2 = automata2Actions[state2]\n",
    "        state1 = automata1Transitions[state1][action2]\n",
    "        state2 = automata2Transitions[state2][action1]\n",
    "        rewards1+=payoffs1[action1][action2]\n",
    "        rewards2+=payoffs2[action1][action2]\n",
    "    return rewards1/num_games, rewards2/num_games"
   ]
  },
  {
   "cell_type": "code",
   "execution_count": 5,
   "id": "edd238b0-505c-4596-a90c-73aa54ce5571",
   "metadata": {
    "scrolled": true
   },
   "outputs": [],
   "source": [
    "payoffs1 = np.array([[3,0],[5,1]])\n",
    "payoffs2 = np.array([[3,5],[0,1]])\n",
    "num_games = 30\n",
    "all_automata = getAll2Player2Action2StatePureAutomata()\n",
    "score1_matrix = np.zeros((len(all_automata),len(all_automata)))\n",
    "score2_matrix = np.zeros((len(all_automata),len(all_automata)))\n",
    "for i in range(len(all_automata)):\n",
    "    for j in range(len(all_automata)):\n",
    "        score1, score2 = testAutomata(all_automata[i],all_automata[j],num_games,payoffs1,payoffs2)\n",
    "        score1_matrix[i,j]=score1\n",
    "        score2_matrix[i,j]=score2"
   ]
  },
  {
   "cell_type": "code",
   "execution_count": 6,
   "id": "a94d035e-eb33-4268-9fae-40ad6499303a",
   "metadata": {},
   "outputs": [],
   "source": [
    "# get the equilibria\n",
    "player1MaxScore = np.max(score1_matrix,axis=0) # player 1 best automata given the automata for player 2\n",
    "player2MaxScore = np.max(score2_matrix,axis=1) # player 2 best automata given the automata for player 1\n",
    "player1MaxScoreRepeat = player1MaxScore.reshape(1,-1).repeat(len(player1MaxScore),axis=0)\n",
    "player2MaxScoreRepeat = player2MaxScore.reshape(-1,1).repeat(len(player2MaxScore),axis=1)\n",
    "isBestPlayer1 = np.isclose(score1_matrix,player1MaxScoreRepeat)\n",
    "isBestPlayer2 = np.isclose(score2_matrix,player2MaxScoreRepeat)"
   ]
  },
  {
   "cell_type": "code",
   "execution_count": 7,
   "id": "f99e42ca-538a-431e-b83c-e7bb7e98c6ec",
   "metadata": {},
   "outputs": [
    {
     "data": {
      "image/png": "[encoded data removed]",
      "text/plain": [
       "<Figure size 900x1600 with 6 Axes>"
      ]
     },
     "metadata": {},
     "output_type": "display_data"
    }
   ],
   "source": [
    "fig, axes = plt.subplots(3, 2, figsize=(9, 16))  # 1 row, 2 columns\n",
    "axes[0][0].imshow(score1_matrix, interpolation='none')\n",
    "axes[0][0].set_title(\"Player 1 payoffs\")\n",
    "axes[0][1].imshow(score2_matrix, interpolation='none')\n",
    "axes[0][1].set_title(\"Player 2 payoffs\")\n",
    "axes[1][0].imshow(player1MaxScoreRepeat, interpolation='none')\n",
    "axes[1][0].set_title(\"Player 1 best payoff\")\n",
    "axes[1][1].imshow(player2MaxScoreRepeat, interpolation='none')\n",
    "axes[1][1].set_title(\"Player 2 best payoff\")\n",
    "axes[2][0].imshow(isBestPlayer1, interpolation='none')\n",
    "axes[2][0].set_title(\"Is this the best player 1 can do?\")\n",
    "axes[2][1].imshow(isBestPlayer2, interpolation='none')\n",
    "axes[2][1].set_title(\"Is this the best player 2 can do?\")\n",
    "for row in axes:\n",
    "    for ax in row:\n",
    "        ax.set_xlabel(\"Player 2 automata\")\n",
    "        ax.set_ylabel(\"Player 1 automata\")\n",
    "        ax.set_xticks([])\n",
    "        ax.set_yticks([])\n",
    "plt.show()"
   ]
  },
  {
   "cell_type": "code",
   "execution_count": 8,
   "id": "1e9c4845-8d27-4778-84b0-f77c649c15e7",
   "metadata": {},
   "outputs": [
    {
     "data": {
      "image/png": "[encoded data removed]",
      "text/plain": [
       "<Figure size 640x480 with 1 Axes>"
      ]
     },
     "metadata": {},
     "output_type": "display_data"
    }
   ],
   "source": [
    "fig = plt.Figure(figsize=(6,6))\n",
    "both_best = (isBestPlayer1==1)*(isBestPlayer2==1)\n",
    "plt.imshow(both_best, interpolation='none')\n",
    "plt.title(\"Equilibria\")\n",
    "plt.gca().set_xlabel(\"Player 2 automata\")\n",
    "plt.gca().set_ylabel(\"Player 1 automata\")\n",
    "plt.gca().set_xticks([])\n",
    "plt.gca().set_yticks([])\n",
    "plt.show()"
   ]
  },
  {
   "cell_type": "markdown",
   "id": "9a6b7010-ded7-41dd-b421-9b1f507ab6fd",
   "metadata": {},
   "source": [
    "The automata in the bottom right corner are those where the action is always to defect, regardless of what the other did:"
   ]
  },
  {
   "cell_type": "code",
   "execution_count": 9,
   "id": "8110dbd9-62ad-4819-ad0e-52e9c28ea20f",
   "metadata": {},
   "outputs": [
    {
     "name": "stdout",
     "output_type": "stream",
     "text": [
      "((1, 1), ((1, 1), (1, 1)))\n",
      "((1, 1), ((1, 1), (1, 0)))\n",
      "((1, 1), ((1, 1), (0, 1)))\n"
     ]
    }
   ],
   "source": [
    "print(all_automata[-1])\n",
    "print(all_automata[-2])\n",
    "print(all_automata[-3])"
   ]
  },
  {
   "cell_type": "markdown",
   "id": "99bc01da-52f7-4bfe-baf9-999cd07e64f2",
   "metadata": {},
   "source": [
    "The first two numbers are the actions to take in each state. In this case they are both 1 (defect). The other 4 numbers are the new states to transition to, dependent on the current state and the action of the other player. Current state x other player action -> new state.\n",
    "\n",
    "Interestingly, there are some options which don't just defect:"
   ]
  },
  {
   "cell_type": "code",
   "execution_count": 10,
   "id": "022fcdad-4f4d-4a08-bce0-560ce513227a",
   "metadata": {},
   "outputs": [
    {
     "name": "stdout",
     "output_type": "stream",
     "text": [
      "21 Automata 1: ((0, 1), ((0, 1), (0, 1))) Automata 2: ((0, 1), ((0, 1), (0, 1)))\n",
      "21 Automata 1: ((0, 1), ((0, 1), (0, 1))) Automata 2: ((0, 1), ((0, 1), (1, 1)))\n",
      "23 Automata 1: ((0, 1), ((0, 1), (1, 1))) Automata 2: ((0, 1), ((0, 1), (0, 1)))\n",
      "23 Automata 1: ((0, 1), ((0, 1), (1, 1))) Automata 2: ((0, 1), ((0, 1), (1, 1)))\n",
      "29 Automata 1: ((0, 1), ((1, 1), (0, 1))) Automata 2: ((1, 0), ((1, 0), (0, 0)))\n",
      "32 Automata 1: ((1, 0), ((0, 0), (0, 0))) Automata 2: ((1, 0), ((0, 0), (0, 0)))\n",
      "32 Automata 1: ((1, 0), ((0, 0), (0, 0))) Automata 2: ((1, 0), ((0, 0), (0, 1)))\n",
      "32 Automata 1: ((1, 0), ((0, 0), (0, 0))) Automata 2: ((1, 0), ((0, 0), (1, 0)))\n",
      "32 Automata 1: ((1, 0), ((0, 0), (0, 0))) Automata 2: ((1, 0), ((0, 0), (1, 1)))\n",
      "33 Automata 1: ((1, 0), ((0, 0), (0, 1))) Automata 2: ((1, 0), ((0, 0), (0, 0)))\n",
      "33 Automata 1: ((1, 0), ((0, 0), (0, 1))) Automata 2: ((1, 0), ((0, 0), (0, 1)))\n",
      "33 Automata 1: ((1, 0), ((0, 0), (0, 1))) Automata 2: ((1, 0), ((0, 0), (1, 0)))\n",
      "33 Automata 1: ((1, 0), ((0, 0), (0, 1))) Automata 2: ((1, 0), ((0, 0), (1, 1)))\n",
      "34 Automata 1: ((1, 0), ((0, 0), (1, 0))) Automata 2: ((1, 0), ((0, 0), (0, 0)))\n",
      "34 Automata 1: ((1, 0), ((0, 0), (1, 0))) Automata 2: ((1, 0), ((0, 0), (0, 1)))\n",
      "34 Automata 1: ((1, 0), ((0, 0), (1, 0))) Automata 2: ((1, 0), ((0, 0), (1, 0)))\n",
      "34 Automata 1: ((1, 0), ((0, 0), (1, 0))) Automata 2: ((1, 0), ((0, 0), (1, 1)))\n",
      "35 Automata 1: ((1, 0), ((0, 0), (1, 1))) Automata 2: ((1, 0), ((0, 0), (0, 0)))\n",
      "35 Automata 1: ((1, 0), ((0, 0), (1, 1))) Automata 2: ((1, 0), ((0, 0), (0, 1)))\n",
      "35 Automata 1: ((1, 0), ((0, 0), (1, 1))) Automata 2: ((1, 0), ((0, 0), (1, 0)))\n",
      "35 Automata 1: ((1, 0), ((0, 0), (1, 1))) Automata 2: ((1, 0), ((0, 0), (1, 1)))\n",
      "40 Automata 1: ((1, 0), ((1, 0), (0, 0))) Automata 2: ((0, 1), ((1, 1), (0, 1)))\n"
     ]
    }
   ],
   "source": [
    "equilibriaAutomata1, equilibriaAutomata2 = np.where(both_best==1)\n",
    "for i in range(len(equilibriaAutomata1)):\n",
    "    automata1 = all_automata[int(equilibriaAutomata1[i])]\n",
    "    automata2 = all_automata[int(equilibriaAutomata2[i])]\n",
    "    if not automata1[0] == (1,1) and not automata2[0] == (1,1):\n",
    "        print(int(equilibriaAutomata1[i]), \"Automata 1:\",automata1,\"Automata 2:\",automata2)"
   ]
  },
  {
   "cell_type": "markdown",
   "id": "666985c7-abca-4102-80e0-c89a8198f094",
   "metadata": {},
   "source": [
    "We can look at what these automata are:"
   ]
  },
  {
   "cell_type": "code",
   "execution_count": 11,
   "id": "8a9da07b-19b8-4943-9e68-97f124af6835",
   "metadata": {},
   "outputs": [
    {
     "name": "stdout",
     "output_type": "stream",
     "text": [
      "((0, 1), ((0, 1), (0, 1)))\n",
      "((0, 1), ((0, 1), (1, 1)))\n",
      "((0, 1), ((1, 1), (0, 1)))\n",
      "((1, 0), ((0, 0), (0, 0)))\n",
      "((1, 0), ((0, 0), (0, 1)))\n",
      "((1, 0), ((0, 0), (1, 0)))\n",
      "((1, 0), ((0, 0), (1, 1)))\n",
      "((1, 0), ((1, 0), (0, 0)))\n"
     ]
    }
   ],
   "source": [
    "equilibriaAutomata1NotDD = np.unique([i for i in equilibriaAutomata1 if not all_automata[i][0]==(1,1)])\n",
    "for i in equilibriaAutomata1NotDD:\n",
    "    print(all_automata[i])"
   ]
  },
  {
   "cell_type": "markdown",
   "id": "5fc0c43a-5846-40f7-b97c-f922817f23de",
   "metadata": {},
   "source": [
    "The first strategy here is just tit-for-tat. It will cooperate if it is in state 0, then will switch to state 1 if the other player defects, switching back to state 0 if the other player cooperates. The second strategy is the same, but it doesn't allow switching back. The third strategy is interesting, and basically says that the player will cooperate in state 0 but switch to state 1 immediately, then coming back to state  0 if the other player defects. This is in a strange equilibrium with a strategy where player 2 does the same, but flipping state 1 for state 0 instead. If player 1 cooperates and player 2 defects then the next round player 1 will defect and player 2 will cooperate. This flips back and forth between them! The next 4 are all just naive cooperators, and the final one is the pair to the third.\n",
    "\n",
    "A number of interesting results can be shown about these automata. For instance, in the prisoner's dilemma there is a theorem that for any finite state size there is a number of games for which a nash equilibria exists other than (1,1), and often considerably better.\n",
    "\n",
    "Another thing we can do is impose a cost for complexity rather than limiting it directly. In particular, we can say that complexity is a tie-breaker and when two automata achieve the same outcome the simpler one is prefered. Consider the trigger strategy from above, where the player stops cooperating as soon as the other defects. When this strategy comes up against a naive cooperator they both get the same result, but the naive cooperator is a simpler model, and doesn't need any states at all! Therefore, you could say that the trigger strategy is not an equilibrium actually, but a threat to the other player."
   ]
  },
  {
   "cell_type": "markdown",
   "id": "0f72570a-2a00-43f9-880c-ab5795f95972",
   "metadata": {},
   "source": [
    "**Computing best-response automata**\n",
    "\n",
    "Unfortunately it can be proved that there is no polynomial time algorithm, given an unknown number of players, for verifying whether a particular automata is a best response. This is true even if the players are constrained to choose a single automata. If we allow mixed strategies even the two-player game is NP-complete. \n",
    "\n",
    "However, it's not all bad. If I know the number of players, as well as which automata each player will play, then problem is then just a standard MDP (there are finite states the other player's can be in and, given your action, there is a deterministic transition). This can be solved in any of the usual ways. For example, say your opponent is playing tit-for-tat. Then the states are just whether you cooperated or defected. And your actions are just to cooperate or defect. So the transition matricies are:\n",
    "\n",
    "*If you cooperate:*\n",
    "\n",
    "$\n",
    "\\begin{array}{c|ccc}\n",
    "\\text{} & C & D \\\\\n",
    "\\hline\n",
    "\\text{C} & 1 & 0 \\\\\n",
    "\\text{D} & 1 & 0 \\\\\n",
    "\\end{array}\n",
    "$\n",
    "\n",
    "*If you defect:*\n",
    "\n",
    "$\n",
    "\\begin{array}{c|ccc}\n",
    "\\text{} & C & D \\\\\n",
    "\\hline\n",
    "\\text{C} & 0 & 1 \\\\\n",
    "\\text{D} & 0 & 1 \\\\\n",
    "\\end{array}\n",
    "$\n",
    "\n",
    "Interestingly if you add a limit on the number of states the problem of checking whether an automata is a best-response becomes NP-hard again. Why? Well, in the above case we are able to solve the MDP easily because we just need to compute the best action, knowing the whole joint state. But any automata to implement that actually requires a number of states equal to the total joint space. If we have an automata of a limited size, smaller than the number of states in the joint space, then we can't do this. We have to implement a restricted policy.\n",
    "\n",
    "**From finite automata to Turing machines**\n",
    "\n",
    "Turing machines have an infinite memory, which makes them much more powerful than a finite automata. You would think that turing machines, being able to count and memorize history, would be unable to cooperate on something like the infinite prisoner's dilemma, but interestingly they get very close to the optimal CC outcome. Interestingly it can be proved that when a discount factor gets sufficiently close to 1 it is not possible to compute a best-response turing machine at all (nevermind, compute in NP time). As well as this it can be shown that the best-response to a turing-machine may not be possible to implement with a turing machine itself."
   ]
  }
 ],
 "metadata": {
  "kernelspec": {
   "display_name": "Python 3 (ipykernel)",
   "language": "python",
   "name": "python3"
  },
  "language_info": {
   "codemirror_mode": {
    "name": "ipython",
    "version": 3
   },
   "file_extension": ".py",
   "mimetype": "text/x-python",
   "name": "python",
   "nbconvert_exporter": "python",
   "pygments_lexer": "ipython3",
   "version": "3.12.7"
  }
 },
 "nbformat": 4,
 "nbformat_minor": 5
}
