{
 "cells": [
  {
   "cell_type": "code",
   "execution_count": 1,
   "id": "a0c97315-1b9b-4c09-bae1-22c4285cc8fc",
   "metadata": {},
   "outputs": [],
   "source": [
    "import numpy as np\n",
    "import matplotlib.pyplot as plt"
   ]
  },
  {
   "cell_type": "markdown",
   "id": "2dddec83-e722-4011-bdd8-188356a608e6",
   "metadata": {},
   "source": [
    "## 6.4 Congestion games\n",
    "\n",
    "### 6.4.1 Definition\n",
    "\n",
    "Congestion games are where agents pay a cost for their actions depending on how many other people take the same action. We have a set of resources, and a cost function. The actions are whether or not to claim the resource. The cost is the same across all agents and only depends on the total number of agents claiming the same resource. \n",
    "\n",
    "This kind of game appears quite often. As the name suggests one obvious case is when there are two or more different routes from A to B which both take different amounts of time depending on the number of people who choose each. E.g., a highway vs a backroad. But other cases are also common, for instance choosing which bar to go to. In that case there is a cost if there are too may people or too few people (the cost function can be positive!). There seem to be different definitions flying around and in some (like the example above) each actor may only choose 1 resource, but in general there aren't limits. \n",
    "\n",
    "### 6.4.2 Computing equilibria\n",
    "\n",
    "Congestion games have a pure-strategy equilibrium. Not only that, but the equilibrium can be found simply by iteratively updating each player's response for each action. Proof of this is incoming, but first a demonstration:\n",
    "\n",
    "Say we have two resources A and B. The cost is linear increasing with the number of people:"
   ]
  },
  {
   "cell_type": "code",
   "execution_count": 6,
   "id": "fd416eb8-1601-474a-be64-a0a044a3130f",
   "metadata": {},
   "outputs": [
    {
     "name": "stdout",
     "output_type": "stream",
     "text": [
      "example equilibria\n",
      "[[1 1]\n",
      " [0 0]]\n"
     ]
    }
   ],
   "source": [
    "def MyopicBestResponse(cost_funcs, n_players):\n",
    "    num_choices = len(cost_funcs)\n",
    "    strategies = np.random.randint(0,2,(n_players, num_choices))\n",
    "    any_change = True\n",
    "    while any_change:\n",
    "        any_change = False\n",
    "        for player in range(n_players):\n",
    "            sum_others = np.sum(strategies,axis=0)-strategies[player]\n",
    "            for choice in range(num_choices):\n",
    "                cost = cost_funcs[choice](sum_others[choice]+1)\n",
    "                if cost>0 and strategies[player,choice]==1:\n",
    "                    any_change = True\n",
    "                    strategies[player,choice] = 0\n",
    "                if cost<0 and strategies[player,choice]==0:\n",
    "                    any_change = True\n",
    "                    strategies[player,choice] = 1\n",
    "    print(strategies)\n",
    "\n",
    "costA = lambda x: -3 + 2*x\n",
    "costB = lambda x: -1.5 + x\n",
    "print(\"example equilibria\")\n",
    "MyopicBestResponse([costA,costB], 2)"
   ]
  },
  {
   "cell_type": "markdown",
   "id": "dac31a31-5056-4a92-b3f7-600bc9975448",
   "metadata": {},
   "source": [
    "In this case the equilibria are:\n",
    "\n",
    "$$\n",
    "\\begin{bmatrix}\n",
    "1 & 1 \\\\\n",
    "0 & 0\n",
    "\\end{bmatrix}\n",
    "\\text{or}\n",
    "\\begin{bmatrix}\n",
    "1 & 0 \\\\\n",
    "0 & 1\n",
    "\\end{bmatrix}\n",
    "\\text{or}\n",
    "\\begin{bmatrix}\n",
    "0 & 1 \\\\\n",
    "1 & 0\n",
    "\\end{bmatrix}\n",
    "\\text{or}\n",
    "\\begin{bmatrix}\n",
    "0 & 0 \\\\\n",
    "1 & 1\n",
    "\\end{bmatrix}\n",
    "$$\n",
    "\n",
    "I.e., each resource gets 1 person. It gets more interesting with more people."
   ]
  },
  {
   "cell_type": "code",
   "execution_count": 7,
   "id": "97138719-f8b1-48b4-bc25-5d9237dfb838",
   "metadata": {},
   "outputs": [
    {
     "name": "stdout",
     "output_type": "stream",
     "text": [
      "[[0 0]\n",
      " [1 1]\n",
      " [0 0]\n",
      " [1 0]\n",
      " [1 0]\n",
      " [0 1]\n",
      " [0 1]\n",
      " [0 0]\n",
      " [0 1]\n",
      " [1 0]]\n"
     ]
    }
   ],
   "source": [
    "costA = lambda x: -5 + x\n",
    "costB = lambda x: -20 + x**2\n",
    "MyopicBestResponse([costA,costB], 10)"
   ]
  },
  {
   "cell_type": "markdown",
   "id": "9191414d-1c10-4635-80ae-9f5460044a03",
   "metadata": {},
   "source": [
    "Now obviously the idea of MyopicBestResponse is not going to work for all normal-form games, such as the matching pennies problem, but it does work for a subset, called Potential games. \n",
    "\n",
    "### 6.4.3 Potential games\n",
    "\n",
    "A game over $N$ players, $A$ actions, and $u$ utilities is a *potential game* if there is a function $P$ mapping action profiles to a number such that $u_i(a_i,a_{-i})-u_i(a_i^\\prime,a_{-i})$ = $P(a_i,a_{-i})-P(a_i^\\prime,a_{-i})$. I.e., all agents share the same basic utility function. \n",
    "\n",
    "The matching pennies game does not satisfy this constraint:\n",
    "\n",
    "$\n",
    "\\begin{array}{c|ccc}\n",
    "\\text{} & A & B \\\\\n",
    "\\hline\n",
    "\\text{A} & 1,-1 & -1,1 \\\\\n",
    "\\text{B} & -1,1 & 1,-1 \\\\\n",
    "\\end{array}\n",
    "$\n",
    "\n",
    "For instance, say the other player goes A. For the row player the benefit of going A instead of B is 2. But for the column player the benefit is -2.\n",
    "\n",
    "The staghunt does fit the definition:\n",
    "\n",
    "$\n",
    "\\begin{array}{c|ccc}\n",
    "\\text{} & C & D \\\\\n",
    "\\hline\n",
    "\\text{C} & 3,3 & 0,1 \\\\\n",
    "\\text{D} & 1,0 & 1,1 \\\\\n",
    "\\end{array}\n",
    "$\n",
    "\n",
    "It doesn't matter whether you are row or column the difference is the same conditional on the other player's action.\n",
    "\n",
    "**Theorem 6.4.5:** Every (finite) potential game has a pure-strategy equilibrium.\n",
    "\n",
    "Proof is straightforward. Take the argmax of $P$ over all possible action profiles. If it were possible for any player to improve their position they would need to have $u_i(a_i,a_{-i})<u_i(a_i^\\prime,a_{-i})$ for some $a_i^\\prime$. But this would then imply $P(a_i,a_{-i})<P(a_i^\\prime,a_{-i})$, which can't be true, as $P(a)$ was selected as the highest. Simple!\n",
    "\n",
    "**Theorem 6.4.6:** Every congestion game is a potential game.\n",
    "\n",
    "Let's definte the potential function $P(a)=\\sum_{r\\in R} \\sum_{j=1}^{\\#(r,a)}c_r(j)$. Now we will show that this gives the difference in utilities.\n",
    "\n",
    "We want to look at $P(a_i,a_{-i})-P(a_i^\\prime,a_{-i})$. I.e., we change the i'th player's policy. Expanding the formula gives:\n",
    "\n",
    "$$\\bigg[\\sum_{r\\in R} \\sum_{j=1}^{\\#(r,(a_i,a_{-i}))}c_r(j)\\bigg]-\\bigg[\\sum_{r\\in R} \\sum_{j=1}^{\\#(r,(a_i,a_{-i}))}c_r(j)\\bigg]$$\n",
    "\n",
    "We can write this in terms of the current costs of each resource before the current player's turn, PLUS the impact their turn has. The cost of each resource before is $\\sum_{j=1}^{\\#(r,(a_{-i}))}c_r(j)$. Therefore we get:\n",
    "\n",
    "$$\\bigg[\\sum_{r\\in R} \\sum_{j=1}^{\\#(r,(a_{-i}))}c_r(j)+\\mathbf{1}_{r\\in a_i}c_r(j+1) \\bigg]-\\bigg[\\sum_{r\\in R} \\sum_{j=1}^{\\#(r,(a_{-i}))}c_r(j)+\\mathbf{1}_{r\\in a_i^\\prime}c_r(j+1) \\bigg]$$\n",
    "\n",
    "Which means we can remove the bit in common:\n",
    "\n",
    "$$\\bigg[\\sum_{r\\in R} \\mathbf{1}_{r\\in a_i}c_r(j+1) \\bigg]-\\bigg[\\sum_{r\\in R} \\mathbf{1}_{r\\in a_i^\\prime}c_r(j+1) \\bigg]$$\n",
    "\n",
    "We can then rewrite as\n",
    "\n",
    "$$\\bigg[\\sum_{r\\in R|r\\in a_i} c_r(j+1) \\bigg]-\\bigg[\\sum_{r\\in R|r\\in a_i} c_r(j+1) \\bigg]$$\n",
    "\n",
    "Which is exactly the utility functions.\n",
    "\n",
    "You can also go the other way and show that any potential game is also a congestion game, which is interesting.\n",
    "\n",
    "Proof that MyopicBestResponse will give a pure equilibrium is now pretty simple. Every step of the iteration is guaranteed to increase $P$.\n",
    "\n",
    "While this is a nice result, the problem remains PLS-complete (hard) and the time MyopicBestResponse takes might be exponential in certain games."
   ]
  },
  {
   "cell_type": "markdown",
   "id": "7e645918-2fc9-466f-a708-ac2be91826cc",
   "metadata": {},
   "source": [
    "### 6.4.4 Nonatomic congestion games\n",
    "\n",
    "A nonatomic congestion game "
   ]
  },
  {
   "cell_type": "code",
   "execution_count": null,
   "id": "d3ef70d8-e89b-498a-9890-634f4cd9d7af",
   "metadata": {},
   "outputs": [],
   "source": []
  },
  {
   "cell_type": "code",
   "execution_count": null,
   "id": "30545683-5336-470b-b771-9083eb0d8ab1",
   "metadata": {},
   "outputs": [],
   "source": []
  }
 ],
 "metadata": {
  "kernelspec": {
   "display_name": "Python 3 (ipykernel)",
   "language": "python",
   "name": "python3"
  },
  "language_info": {
   "codemirror_mode": {
    "name": "ipython",
    "version": 3
   },
   "file_extension": ".py",
   "mimetype": "text/x-python",
   "name": "python",
   "nbconvert_exporter": "python",
   "pygments_lexer": "ipython3",
   "version": "3.12.11"
  }
 },
 "nbformat": 4,
 "nbformat_minor": 5
}
