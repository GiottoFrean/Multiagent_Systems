{
 "cells": [
  {
   "cell_type": "code",
   "execution_count": 1,
   "id": "a0c97315-1b9b-4c09-bae1-22c4285cc8fc",
   "metadata": {},
   "outputs": [],
   "source": [
    "import numpy as np\n",
    "import matplotlib.pyplot as plt"
   ]
  },
  {
   "cell_type": "markdown",
   "id": "2dddec83-e722-4011-bdd8-188356a608e6",
   "metadata": {},
   "source": [
    "## 6.4 Congestion games\n",
    "\n",
    "## 6.4.1 Definition\n",
    "\n",
    "Congestion games are where agents pay a cost for their actions depending on how many other people take the same action. We have a set of resources, and a cost function. The actions are whether or not to claim the resource. The cost is the same across all agents and only depends on the total number of agents claiming the same resource. \n",
    "\n",
    "This kind of game appears quite often. As the name suggests one obvious case is when there are two or more different routes from A to B which both take different amounts of time depending on the number of people who choose each. E.g., a highway vs a backroad. But other cases are also common, for instance choosing which bar to go to. In that case there is a cost if there are too may people or too few people (the cost function can be positive!). There seem to be different definitions flying around and in some (like the example above) each actor may only choose 1 resource, but in general there aren't limits. \n",
    "\n",
    "## 6.4.1 Computing equilibria\n",
    "\n",
    "Congestion games have a pure-strategy equilibrium. Not only that, but the equilibrium can be found simply by iteratively updating each player's response for each action. Proof of this is incoming, but first a demonstration:\n",
    "\n",
    "Say we have two resources A and B. The cost is linear increasing with the number of people:"
   ]
  },
  {
   "cell_type": "code",
   "execution_count": 90,
   "id": "fd416eb8-1601-474a-be64-a0a044a3130f",
   "metadata": {},
   "outputs": [
    {
     "name": "stdout",
     "output_type": "stream",
     "text": [
      "example equilibria\n",
      "[[1 1]\n",
      " [0 0]]\n"
     ]
    }
   ],
   "source": [
    "def MyopicBestResponse(cost_funcs, n_players):\n",
    "    num_choices = len(cost_funcs)\n",
    "    strategies = np.random.randint(0,2,(n_players, num_choices))\n",
    "    any_change = True\n",
    "    while any_change:\n",
    "        any_change = False\n",
    "        for player in range(n_players):\n",
    "            sum_others = np.sum(strategies,axis=0)-strategies[player]\n",
    "            for choice in range(num_choices):\n",
    "                cost = cost_funcs[choice](sum_others[choice]+1)\n",
    "                if cost>0 and strategies[player,choice]==1:\n",
    "                    any_change = True\n",
    "                    strategies[player,choice] = 0\n",
    "                if cost<0 and strategies[player,choice]==0:\n",
    "                    any_change = True\n",
    "                    strategies[player,choice] = 1\n",
    "    print(strategies)\n",
    "\n",
    "costA = lambda x: -3 + 2*x\n",
    "costB = lambda x: -1.5 + x\n",
    "print(\"example equilibria\")\n",
    "MyopicBestResponse([costA,costB], 2)"
   ]
  },
  {
   "cell_type": "markdown",
   "id": "dac31a31-5056-4a92-b3f7-600bc9975448",
   "metadata": {},
   "source": [
    "In this case the equilibria are:\n",
    "\n",
    "$$\n",
    "\\begin{bmatrix}\n",
    "1 & 1 \\\\\n",
    "0 & 0\n",
    "\\end{bmatrix}\n",
    "\\text{or}\n",
    "\\begin{bmatrix}\n",
    "1 & 0 \\\\\n",
    "0 & 1\n",
    "\\end{bmatrix}\n",
    "\\text{or}\n",
    "\\begin{bmatrix}\n",
    "0 & 1 \\\\\n",
    "1 & 0\n",
    "\\end{bmatrix}\n",
    "\\text{or}\n",
    "\\begin{bmatrix}\n",
    "0 & 0 \\\\\n",
    "1 & 1\n",
    "\\end{bmatrix}\n",
    "$$\n",
    "\n",
    "I.e., each resource gets 1 person. It gets more interesting with more people."
   ]
  },
  {
   "cell_type": "code",
   "execution_count": 109,
   "id": "97138719-f8b1-48b4-bc25-5d9237dfb838",
   "metadata": {},
   "outputs": [
    {
     "name": "stdout",
     "output_type": "stream",
     "text": [
      "[[0 0]\n",
      " [0 0]\n",
      " [0 0]\n",
      " [1 1]\n",
      " [0 1]\n",
      " [1 0]\n",
      " [1 1]\n",
      " [0 0]\n",
      " [1 1]\n",
      " [1 0]]\n"
     ]
    }
   ],
   "source": [
    "costA = lambda x: -5 + x\n",
    "costB = lambda x: -20 + x**2\n",
    "MyopicBestResponse([costA,costB], 10)"
   ]
  },
  {
   "cell_type": "markdown",
   "id": "9191414d-1c10-4635-80ae-9f5460044a03",
   "metadata": {},
   "source": [
    "Now obviously the idea of MyopicBestResponse is not going to work for all normal-form games. E.g., consider the matching pennies problem. "
   ]
  }
 ],
 "metadata": {
  "kernelspec": {
   "display_name": "Python 3 (ipykernel)",
   "language": "python",
   "name": "python3"
  },
  "language_info": {
   "codemirror_mode": {
    "name": "ipython",
    "version": 3
   },
   "file_extension": ".py",
   "mimetype": "text/x-python",
   "name": "python",
   "nbconvert_exporter": "python",
   "pygments_lexer": "ipython3",
   "version": "3.12.11"
  }
 },
 "nbformat": 4,
 "nbformat_minor": 5
}
